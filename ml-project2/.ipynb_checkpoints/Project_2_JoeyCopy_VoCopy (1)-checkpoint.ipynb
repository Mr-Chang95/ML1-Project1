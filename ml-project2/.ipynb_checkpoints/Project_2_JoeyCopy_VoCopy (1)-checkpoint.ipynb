{
 "cells": [
  {
   "cell_type": "markdown",
   "metadata": {
    "id": "vWdMmhw4xzYF"
   },
   "source": [
    "# <b>Lab 2</b>: Classifications: Logistics, SVM, KNN, and RandomForest\n",
    "# <center><font color='blue'>Student Exam Scores Extended Dataset</font></center> \n",
    "***\n",
    "### <center><b> Team Members: </b> Joey Hernandez, Daniel Chang, and Vo Nguyen</center>\n",
    "\n",
    "### <b> Contributions: </b>\n",
    "- Logistic Model: Vo Nguyen\n",
    "- KNN: Joey Hernandez\n",
    "- RandomForest: Danny Chang\n",
    "\n",
    "### <b>Table of Contents</b>\n",
    "<a class=\"anchor\" id=\"toc\"></a>\n",
    "* **[Data Preprocessing](#data)**\n",
    "    * [Import Packages](#import)\n",
    "    * [Loading the Data](#load)\n",
    "    * [Dataset Cleaning: One-Hot Encoding](#hot)\n",
    "    * [Response Variable into Categorical](#response)\n",
    "* **[Exceptional Work](#work)**\n",
    "* **[Conclusion](#conclusion)**"
   ]
  },
  {
   "cell_type": "markdown",
   "metadata": {
    "id": "W4wT2fXfyZ2Y"
   },
   "source": [
    "### Import Packages [↑](#toc)\n",
    "<a class=\"anchor\" id=\"import\"></a>"
   ]
  },
  {
   "cell_type": "code",
   "execution_count": 1,
   "metadata": {
    "id": "lPFYaJjswgkH"
   },
   "outputs": [],
   "source": [
    "import pandas as pd\n",
    "import numpy as np\n",
    "from sklearn.model_selection import train_test_split\n",
    "\n",
    "\n",
    "from pandas import Series,DataFrame\n",
    "import matplotlib.pyplot as plt\n",
    "import seaborn as sns\n",
    "from sklearn.linear_model import LogisticRegression\n",
    "from sklearn import metrics\n",
    "from sklearn.model_selection import train_test_split\n",
    "sns.set_style('whitegrid')\n",
    "\n",
    "from sklearn.metrics import mean_squared_error\n",
    "\n",
    "from sklearn.metrics import accuracy_score, confusion_matrix"
   ]
  },
  {
   "cell_type": "markdown",
   "metadata": {},
   "source": [
    "### Loading the Data [↑](#toc)\n",
    "<a class=\"anchor\" id=\"load\"></a>"
   ]
  },
  {
   "cell_type": "code",
   "execution_count": 12,
   "metadata": {
    "colab": {
     "base_uri": "https://localhost:8080/",
     "height": 239
    },
    "id": "NTY1Twp3P7h6",
    "outputId": "88e41d47-2819-4c0c-8cb9-695cd5e8c567"
   },
   "outputs": [
    {
     "data": {
      "text/html": [
       "<div>\n",
       "<style scoped>\n",
       "    .dataframe tbody tr th:only-of-type {\n",
       "        vertical-align: middle;\n",
       "    }\n",
       "\n",
       "    .dataframe tbody tr th {\n",
       "        vertical-align: top;\n",
       "    }\n",
       "\n",
       "    .dataframe thead th {\n",
       "        text-align: right;\n",
       "    }\n",
       "</style>\n",
       "<table border=\"1\" class=\"dataframe\">\n",
       "  <thead>\n",
       "    <tr style=\"text-align: right;\">\n",
       "      <th></th>\n",
       "      <th>Gender</th>\n",
       "      <th>EthnicGroup</th>\n",
       "      <th>ParentEduc</th>\n",
       "      <th>LunchType</th>\n",
       "      <th>TestPrep</th>\n",
       "      <th>ParentMaritalStatus</th>\n",
       "      <th>PracticeSport</th>\n",
       "      <th>IsFirstChild</th>\n",
       "      <th>NrSiblings</th>\n",
       "      <th>TransportMeans</th>\n",
       "      <th>WklyStudyHours</th>\n",
       "      <th>MathScore</th>\n",
       "      <th>ReadingScore</th>\n",
       "      <th>WritingScore</th>\n",
       "      <th>MathResult</th>\n",
       "      <th>ReadingResult</th>\n",
       "      <th>WritingResult</th>\n",
       "    </tr>\n",
       "  </thead>\n",
       "  <tbody>\n",
       "    <tr>\n",
       "      <th>0</th>\n",
       "      <td>female</td>\n",
       "      <td>group C</td>\n",
       "      <td>bachelor's degree</td>\n",
       "      <td>standard</td>\n",
       "      <td>none</td>\n",
       "      <td>married</td>\n",
       "      <td>regularly</td>\n",
       "      <td>yes</td>\n",
       "      <td>3.0</td>\n",
       "      <td>school_bus</td>\n",
       "      <td>&lt; 5</td>\n",
       "      <td>71</td>\n",
       "      <td>71</td>\n",
       "      <td>74</td>\n",
       "      <td>Pass</td>\n",
       "      <td>Pass</td>\n",
       "      <td>Pass</td>\n",
       "    </tr>\n",
       "    <tr>\n",
       "      <th>1</th>\n",
       "      <td>female</td>\n",
       "      <td>group C</td>\n",
       "      <td>some college</td>\n",
       "      <td>standard</td>\n",
       "      <td>none</td>\n",
       "      <td>married</td>\n",
       "      <td>sometimes</td>\n",
       "      <td>yes</td>\n",
       "      <td>0.0</td>\n",
       "      <td>school_bus</td>\n",
       "      <td>5 - 10</td>\n",
       "      <td>69</td>\n",
       "      <td>90</td>\n",
       "      <td>88</td>\n",
       "      <td>Fail</td>\n",
       "      <td>Pass</td>\n",
       "      <td>Pass</td>\n",
       "    </tr>\n",
       "    <tr>\n",
       "      <th>2</th>\n",
       "      <td>female</td>\n",
       "      <td>group B</td>\n",
       "      <td>master's degree</td>\n",
       "      <td>standard</td>\n",
       "      <td>none</td>\n",
       "      <td>single</td>\n",
       "      <td>sometimes</td>\n",
       "      <td>yes</td>\n",
       "      <td>4.0</td>\n",
       "      <td>school_bus</td>\n",
       "      <td>&lt; 5</td>\n",
       "      <td>87</td>\n",
       "      <td>93</td>\n",
       "      <td>91</td>\n",
       "      <td>Pass</td>\n",
       "      <td>Pass</td>\n",
       "      <td>Pass</td>\n",
       "    </tr>\n",
       "    <tr>\n",
       "      <th>3</th>\n",
       "      <td>male</td>\n",
       "      <td>group A</td>\n",
       "      <td>associate's degree</td>\n",
       "      <td>free/reduced</td>\n",
       "      <td>none</td>\n",
       "      <td>married</td>\n",
       "      <td>never</td>\n",
       "      <td>no</td>\n",
       "      <td>1.0</td>\n",
       "      <td>school_bus</td>\n",
       "      <td>5 - 10</td>\n",
       "      <td>45</td>\n",
       "      <td>56</td>\n",
       "      <td>42</td>\n",
       "      <td>Fail</td>\n",
       "      <td>Fail</td>\n",
       "      <td>Fail</td>\n",
       "    </tr>\n",
       "    <tr>\n",
       "      <th>4</th>\n",
       "      <td>male</td>\n",
       "      <td>group C</td>\n",
       "      <td>some college</td>\n",
       "      <td>standard</td>\n",
       "      <td>none</td>\n",
       "      <td>married</td>\n",
       "      <td>sometimes</td>\n",
       "      <td>yes</td>\n",
       "      <td>0.0</td>\n",
       "      <td>school_bus</td>\n",
       "      <td>5 - 10</td>\n",
       "      <td>76</td>\n",
       "      <td>78</td>\n",
       "      <td>75</td>\n",
       "      <td>Pass</td>\n",
       "      <td>Pass</td>\n",
       "      <td>Pass</td>\n",
       "    </tr>\n",
       "    <tr>\n",
       "      <th>...</th>\n",
       "      <td>...</td>\n",
       "      <td>...</td>\n",
       "      <td>...</td>\n",
       "      <td>...</td>\n",
       "      <td>...</td>\n",
       "      <td>...</td>\n",
       "      <td>...</td>\n",
       "      <td>...</td>\n",
       "      <td>...</td>\n",
       "      <td>...</td>\n",
       "      <td>...</td>\n",
       "      <td>...</td>\n",
       "      <td>...</td>\n",
       "      <td>...</td>\n",
       "      <td>...</td>\n",
       "      <td>...</td>\n",
       "      <td>...</td>\n",
       "    </tr>\n",
       "    <tr>\n",
       "      <th>30636</th>\n",
       "      <td>female</td>\n",
       "      <td>group D</td>\n",
       "      <td>high school</td>\n",
       "      <td>standard</td>\n",
       "      <td>none</td>\n",
       "      <td>single</td>\n",
       "      <td>sometimes</td>\n",
       "      <td>no</td>\n",
       "      <td>2.0</td>\n",
       "      <td>school_bus</td>\n",
       "      <td>5 - 10</td>\n",
       "      <td>59</td>\n",
       "      <td>61</td>\n",
       "      <td>65</td>\n",
       "      <td>Fail</td>\n",
       "      <td>Fail</td>\n",
       "      <td>Fail</td>\n",
       "    </tr>\n",
       "    <tr>\n",
       "      <th>30637</th>\n",
       "      <td>male</td>\n",
       "      <td>group E</td>\n",
       "      <td>high school</td>\n",
       "      <td>standard</td>\n",
       "      <td>none</td>\n",
       "      <td>single</td>\n",
       "      <td>regularly</td>\n",
       "      <td>no</td>\n",
       "      <td>1.0</td>\n",
       "      <td>private</td>\n",
       "      <td>5 - 10</td>\n",
       "      <td>58</td>\n",
       "      <td>53</td>\n",
       "      <td>51</td>\n",
       "      <td>Fail</td>\n",
       "      <td>Fail</td>\n",
       "      <td>Fail</td>\n",
       "    </tr>\n",
       "    <tr>\n",
       "      <th>30638</th>\n",
       "      <td>female</td>\n",
       "      <td>group C</td>\n",
       "      <td>high school</td>\n",
       "      <td>free/reduced</td>\n",
       "      <td>completed</td>\n",
       "      <td>married</td>\n",
       "      <td>sometimes</td>\n",
       "      <td>no</td>\n",
       "      <td>1.0</td>\n",
       "      <td>private</td>\n",
       "      <td>5 - 10</td>\n",
       "      <td>61</td>\n",
       "      <td>70</td>\n",
       "      <td>67</td>\n",
       "      <td>Fail</td>\n",
       "      <td>Pass</td>\n",
       "      <td>Fail</td>\n",
       "    </tr>\n",
       "    <tr>\n",
       "      <th>30639</th>\n",
       "      <td>female</td>\n",
       "      <td>group D</td>\n",
       "      <td>associate's degree</td>\n",
       "      <td>standard</td>\n",
       "      <td>completed</td>\n",
       "      <td>married</td>\n",
       "      <td>regularly</td>\n",
       "      <td>no</td>\n",
       "      <td>3.0</td>\n",
       "      <td>school_bus</td>\n",
       "      <td>5 - 10</td>\n",
       "      <td>82</td>\n",
       "      <td>90</td>\n",
       "      <td>93</td>\n",
       "      <td>Pass</td>\n",
       "      <td>Pass</td>\n",
       "      <td>Pass</td>\n",
       "    </tr>\n",
       "    <tr>\n",
       "      <th>30640</th>\n",
       "      <td>male</td>\n",
       "      <td>group B</td>\n",
       "      <td>some college</td>\n",
       "      <td>standard</td>\n",
       "      <td>none</td>\n",
       "      <td>married</td>\n",
       "      <td>never</td>\n",
       "      <td>no</td>\n",
       "      <td>1.0</td>\n",
       "      <td>school_bus</td>\n",
       "      <td>5 - 10</td>\n",
       "      <td>64</td>\n",
       "      <td>60</td>\n",
       "      <td>58</td>\n",
       "      <td>Fail</td>\n",
       "      <td>Fail</td>\n",
       "      <td>Fail</td>\n",
       "    </tr>\n",
       "  </tbody>\n",
       "</table>\n",
       "<p>30641 rows × 17 columns</p>\n",
       "</div>"
      ],
      "text/plain": [
       "       Gender EthnicGroup          ParentEduc     LunchType   TestPrep  \\\n",
       "0      female     group C   bachelor's degree      standard       none   \n",
       "1      female     group C        some college      standard       none   \n",
       "2      female     group B     master's degree      standard       none   \n",
       "3        male     group A  associate's degree  free/reduced       none   \n",
       "4        male     group C        some college      standard       none   \n",
       "...       ...         ...                 ...           ...        ...   \n",
       "30636  female     group D         high school      standard       none   \n",
       "30637    male     group E         high school      standard       none   \n",
       "30638  female     group C         high school  free/reduced  completed   \n",
       "30639  female     group D  associate's degree      standard  completed   \n",
       "30640    male     group B        some college      standard       none   \n",
       "\n",
       "      ParentMaritalStatus PracticeSport IsFirstChild  NrSiblings  \\\n",
       "0                 married     regularly          yes         3.0   \n",
       "1                 married     sometimes          yes         0.0   \n",
       "2                  single     sometimes          yes         4.0   \n",
       "3                 married         never           no         1.0   \n",
       "4                 married     sometimes          yes         0.0   \n",
       "...                   ...           ...          ...         ...   \n",
       "30636              single     sometimes           no         2.0   \n",
       "30637              single     regularly           no         1.0   \n",
       "30638             married     sometimes           no         1.0   \n",
       "30639             married     regularly           no         3.0   \n",
       "30640             married         never           no         1.0   \n",
       "\n",
       "      TransportMeans WklyStudyHours  MathScore  ReadingScore  WritingScore  \\\n",
       "0         school_bus            < 5         71            71            74   \n",
       "1         school_bus         5 - 10         69            90            88   \n",
       "2         school_bus            < 5         87            93            91   \n",
       "3         school_bus         5 - 10         45            56            42   \n",
       "4         school_bus         5 - 10         76            78            75   \n",
       "...              ...            ...        ...           ...           ...   \n",
       "30636     school_bus         5 - 10         59            61            65   \n",
       "30637        private         5 - 10         58            53            51   \n",
       "30638        private         5 - 10         61            70            67   \n",
       "30639     school_bus         5 - 10         82            90            93   \n",
       "30640     school_bus         5 - 10         64            60            58   \n",
       "\n",
       "      MathResult ReadingResult WritingResult  \n",
       "0           Pass          Pass          Pass  \n",
       "1           Fail          Pass          Pass  \n",
       "2           Pass          Pass          Pass  \n",
       "3           Fail          Fail          Fail  \n",
       "4           Pass          Pass          Pass  \n",
       "...          ...           ...           ...  \n",
       "30636       Fail          Fail          Fail  \n",
       "30637       Fail          Fail          Fail  \n",
       "30638       Fail          Pass          Fail  \n",
       "30639       Pass          Pass          Pass  \n",
       "30640       Fail          Fail          Fail  \n",
       "\n",
       "[30641 rows x 17 columns]"
      ]
     },
     "metadata": {},
     "output_type": "display_data"
    }
   ],
   "source": [
    "df = pd.read_csv('cleandf.csv')\n",
    "display(df)"
   ]
  },
  {
   "cell_type": "markdown",
   "metadata": {
    "id": "tqROCXj0yxSM"
   },
   "source": [
    "### Dataset Cleaning: One-Hot Encode [↑](#toc)\n",
    "<a class=\"anchor\" id=\"hot\"></a>"
   ]
  },
  {
   "cell_type": "markdown",
   "metadata": {
    "id": "1UI3B7KD13Jb"
   },
   "source": [
    "One Hot-Encode"
   ]
  },
  {
   "cell_type": "code",
   "execution_count": 13,
   "metadata": {
    "id": "S1n26E1Cyvsy"
   },
   "outputs": [],
   "source": [
    "df_dummy = pd.get_dummies(df, columns=['Gender', 'LunchType', 'TestPrep', 'IsFirstChild','TransportMeans'],\n",
    "                          drop_first=True)\n",
    "df_dummy[\"WklyStudyHours\"] = [1 if x == '> 10' else 0 for x in df_dummy[\"WklyStudyHours\"]]\n",
    "\n",
    "df_dummy[\"PracticeSport\"] = [0 if x == 'never' else 1 for x in df_dummy[\"PracticeSport\"]]\n",
    "\n",
    "math_df = df_dummy.drop([\"ReadingResult\", \"WritingResult\", \"MathScore\"], axis = 1)\n",
    "\n",
    "math_df['HasSiblings'] = math_df['NrSiblings'].apply(lambda x: 1 if x > 0 else 0)\n",
    "\n",
    "math_df.drop('NrSiblings', axis=1, inplace=True)"
   ]
  },
  {
   "cell_type": "markdown",
   "metadata": {},
   "source": [
    "## Response Variable Math Test Score into Math Results Binary (Pass or Fail) [↑](#toc)\n",
    "<a class=\"anchor\" id=\"response\"></a>"
   ]
  },
  {
   "cell_type": "code",
   "execution_count": 14,
   "metadata": {},
   "outputs": [],
   "source": [
    "math_df['MathResultNum'] = np.where(math_df['MathResult'] == \"Pass\", 1, 0)"
   ]
  },
  {
   "cell_type": "markdown",
   "metadata": {
    "id": "DRHQHte6xc8H"
   },
   "source": [
    "# Logistic Regression or SVM - VO"
   ]
  },
  {
   "cell_type": "markdown",
   "metadata": {
    "id": "jfEp445txlaz"
   },
   "source": [
    "### Import Packages for Logistics Regression"
   ]
  },
  {
   "cell_type": "code",
   "execution_count": 15,
   "metadata": {
    "id": "wmolSl_Exnsi"
   },
   "outputs": [],
   "source": [
    "from pandas import Series,DataFrame\n",
    "import matplotlib.pyplot as plt\n",
    "import seaborn as sns\n",
    "from sklearn.linear_model import LogisticRegression\n",
    "from sklearn import metrics\n",
    "from sklearn.model_selection import train_test_split\n",
    "sns.set_style('whitegrid')\n",
    "from pandas import Series,DataFrame\n",
    "import numpy as np\n",
    "import statsmodels.formula.api as smf"
   ]
  },
  {
   "cell_type": "markdown",
   "metadata": {},
   "source": [
    "### Plot of our Target Variable\n",
    "The plots have a slight imbalance dataset"
   ]
  },
  {
   "cell_type": "code",
   "execution_count": 16,
   "metadata": {},
   "outputs": [
    {
     "data": {
      "image/png": "[encoded data removed]",
      "text/plain": [
       "<Figure size 432x288 with 1 Axes>"
      ]
     },
     "metadata": {},
     "output_type": "display_data"
    }
   ],
   "source": [
    "sns.countplot(data = math_df, x = 'MathResultNum')\n",
    "plt.show()"
   ]
  },
  {
   "cell_type": "markdown",
   "metadata": {},
   "source": [
    "Since we have an imbalance dataset. We can use the Receiver Operating Characteristic(ROC) curve to the examin the area under curve (AUC). The threshold that maximmizes our trade-off between true positive(sensitivity) and false posited rate can be a considered a good theshold for our classification. "
   ]
  },
  {
   "cell_type": "markdown",
   "metadata": {},
   "source": [
    "### Logistic Regression Model Summary"
   ]
  },
  {
   "cell_type": "code",
   "execution_count": 17,
   "metadata": {},
   "outputs": [
    {
     "name": "stdout",
     "output_type": "stream",
     "text": [
      "Optimization terminated successfully.\n",
      "         Current function value: 0.264558\n",
      "         Iterations 8\n",
      "                           Logit Regression Results                           \n",
      "==============================================================================\n",
      "Dep. Variable:          MathResultNum   No. Observations:                30641\n",
      "Model:                          Logit   Df Residuals:                    30631\n",
      "Method:                           MLE   Df Model:                            9\n",
      "Date:                Sun, 25 Jun 2023   Pseudo R-squ.:                  0.6138\n",
      "Time:                        09:37:26   Log-Likelihood:                -8106.3\n",
      "converged:                       True   LL-Null:                       -20993.\n",
      "Covariance Type:            nonrobust   LLR p-value:                     0.000\n",
      "=============================================================================================\n",
      "                                coef    std err          z      P>|z|      [0.025      0.975]\n",
      "---------------------------------------------------------------------------------------------\n",
      "Intercept                   -24.1572      0.302    -79.999      0.000     -24.749     -23.565\n",
      "PracticeSport                 0.3857      0.059      6.498      0.000       0.269       0.502\n",
      "WklyStudyHours                0.3992      0.053      7.514      0.000       0.295       0.503\n",
      "ReadingScore                  0.0819      0.005     17.546      0.000       0.073       0.091\n",
      "WritingScore                  0.2019      0.005     39.240      0.000       0.192       0.212\n",
      "Gender_male                   3.8937      0.061     63.957      0.000       3.774       4.013\n",
      "LunchType_standard            1.0999      0.044     24.930      0.000       1.013       1.186\n",
      "TestPrep_none                 1.0587      0.047     22.552      0.000       0.967       1.151\n",
      "IsFirstChild_yes              0.0174      0.042      0.417      0.677      -0.064       0.099\n",
      "TransportMeans_school_bus     0.0551      0.041      1.332      0.183      -0.026       0.136\n",
      "=============================================================================================\n"
     ]
    }
   ],
   "source": [
    "# building the model and fitting the data\n",
    "Target = math_df[\"MathResultNum\"]\n",
    "feature_columns = math_df.drop([\"EthnicGroup\", \"ParentEduc\", \"ParentMaritalStatus\", \"MathResult\", \"HasSiblings\",\"MathResultNum\"], axis = 1)\n",
    "formula = \"MathResultNum ~ \" + \" + \".join(feature_columns)\n",
    "\n",
    "log_reg = smf.logit(formula, data=math_df).fit()\n",
    "\n",
    "print(log_reg.summary())"
   ]
  },
  {
   "cell_type": "markdown",
   "metadata": {},
   "source": [
    "## External Cross Validation using SKLEARN"
   ]
  },
  {
   "cell_type": "markdown",
   "metadata": {
    "id": "QF5kB9Ohxny0"
   },
   "source": [
    "### Training a Logistic Regression Model 70-30 split"
   ]
  },
  {
   "cell_type": "code",
   "execution_count": 18,
   "metadata": {},
   "outputs": [
    {
     "name": "stdout",
     "output_type": "stream",
     "text": [
      "Accuracy: 0.8829544218427064\n",
      "RMSE: 0.3421192455230977\n"
     ]
    }
   ],
   "source": [
    "Train, Test= train_test_split(math_df, train_size = .7, test_size= .3, random_state=5)\n",
    "\n",
    "X_train = Train.drop([\"EthnicGroup\", \"ParentEduc\", \"ParentMaritalStatus\", \"MathResult\", \"HasSiblings\",\"MathResultNum\"], axis = 1)\n",
    "y_train = Train.MathResultNum\n",
    "\n",
    "X_test = Test.drop([\"EthnicGroup\", \"ParentEduc\", \"ParentMaritalStatus\", \"MathResult\", \"HasSiblings\",\"MathResultNum\"], axis = 1)\n",
    "y_test = Test.MathResultNum\n",
    "\n",
    "#Create Logistic Classifier and Fit\n",
    "clf = LogisticRegression(random_state=0).fit(X_train,y_train)\n",
    "\n",
    "#Create Prediction Set\n",
    "preds1 = clf.predict(X_test)\n",
    "\n",
    "#Accuracy Method 1\n",
    "print(\"Accuracy:\",metrics.accuracy_score(y_test, preds1))\n",
    "\n",
    "#RMSE\n",
    "MSE = mean_squared_error(y_test,preds1)\n",
    "rmse = np.sqrt(MSE)\n",
    "print(\"RMSE:\", rmse)"
   ]
  },
  {
   "cell_type": "markdown",
   "metadata": {},
   "source": [
    "### Stratified 10-Fold Cross Validation for Training the Logistic Regression Model"
   ]
  },
  {
   "cell_type": "code",
   "execution_count": 19,
   "metadata": {},
   "outputs": [
    {
     "name": "stdout",
     "output_type": "stream",
     "text": [
      "Average CV Score Accuracy: 0.8786920572112497\n",
      "RMSE: 0.3482930537691049\n"
     ]
    }
   ],
   "source": [
    "from sklearn.model_selection import cross_val_score\n",
    "from sklearn.model_selection import cross_val_predict\n",
    "from sklearn.metrics import mean_squared_error\n",
    "\n",
    "X = math_df[['Gender_male',\"LunchType_standard\",'WritingScore', 'ReadingScore','TestPrep_none']]\n",
    "y = math_df['MathResultNum']\n",
    "\n",
    "log_clf = LogisticRegression(random_state=0)\n",
    "\n",
    "cross_val_scores = cross_val_score(log_clf, X, y, cv=10)\n",
    "\n",
    "avg_accuracy = cross_val_scores.mean()\n",
    "\n",
    "print(\"Average CV Score Accuracy:\", avg_accuracy)\n",
    "\n",
    "preds = cross_val_predict(log_clf, X, y, cv=10)\n",
    "\n",
    "MSE = mean_squared_error(y,preds)\n",
    "rmse = np.sqrt(MSE)\n",
    "print(\"RMSE:\", rmse)\n"
   ]
  },
  {
   "cell_type": "markdown",
   "metadata": {},
   "source": [
    "Both are roughly the same"
   ]
  },
  {
   "cell_type": "markdown",
   "metadata": {},
   "source": [
    "### Plot the AUC"
   ]
  },
  {
   "cell_type": "code",
   "execution_count": 20,
   "metadata": {},
   "outputs": [
    {
     "data": {
      "image/png": "[encoded data removed]",
      "text/plain": [
       "<Figure size 432x288 with 1 Axes>"
      ]
     },
     "metadata": {},
     "output_type": "display_data"
    }
   ],
   "source": [
    "#Import Packages\n",
    "import matplotlib.pyplot as plt\n",
    "from sklearn.metrics import roc_auc_score, roc_curve\n",
    "\n",
    "y_pred_proba = clf.predict_proba(X_test)[:,1]\n",
    "fpr,tpr, thresholds = roc_curve(y_test,y_pred_proba)\n",
    "\n",
    "auc = metrics.roc_auc_score(y_test, y_pred_proba)\n",
    "\n",
    "#Find the Left Most Index\n",
    "leftmost_index = np.nanargmin(np.abs(fpr - (1 - tpr)))\n",
    "leftmost_fpr = fpr[leftmost_index]\n",
    "leftmost_tpr = tpr[leftmost_index]\n",
    "\n",
    "#create ROC curve\n",
    "plt.plot(fpr,tpr,label=\"AUC=\"+str(auc))\n",
    "plt.scatter(leftmost_fpr, leftmost_tpr, color='red', label=\"Left-Most Threshold\")\n",
    "plt.legend(loc=4)\n",
    "plt.show()\n"
   ]
  },
  {
   "cell_type": "markdown",
   "metadata": {},
   "source": [
    "### Confusion Matrix for Logistic"
   ]
  },
  {
   "cell_type": "code",
   "execution_count": 48,
   "metadata": {},
   "outputs": [
    {
     "name": "stdout",
     "output_type": "stream",
     "text": [
      "[[4622  509]\n",
      " [ 567 3495]]\n"
     ]
    },
    {
     "data": {
      "text/plain": [
       "Text(0.5, 16.0, 'Predicted Outcome')"
      ]
     },
     "execution_count": 48,
     "metadata": {},
     "output_type": "execute_result"
    },
    {
     "data": {
      "image/png": "[encoded data removed]",
      "text/plain": [
       "<Figure size 432x288 with 2 Axes>"
      ]
     },
     "metadata": {},
     "output_type": "display_data"
    }
   ],
   "source": [
    "cnf_matrix = metrics.confusion_matrix(y_test, preds1)\n",
    "print(cnf_matrix)\n",
    "\n",
    "labels = [0, 1]\n",
    "fig, ax = plt.subplots()\n",
    "tick_marks = np.arange(len(labels))\n",
    "plt.xticks(tick_marks, labels)\n",
    "plt.yticks(tick_marks, labels)\n",
    "\n",
    "\n",
    "# create heatmap\n",
    "sns.heatmap(pd.DataFrame(cnf_matrix), annot=True, cmap=\"YlGnBu\", fmt='g')\n",
    "ax.xaxis.set_label_position(\"top\")\n",
    "plt.title('Confusion matrix', y=1.1)\n",
    "plt.ylabel('Actual Outcome')\n",
    "plt.xlabel('Predicted Outcome')"
   ]
  },
  {
   "cell_type": "code",
   "execution_count": 49,
   "metadata": {},
   "outputs": [
    {
     "name": "stdout",
     "output_type": "stream",
     "text": [
      "Accuracy Method 2\n",
      "0.8829544218427064\n",
      "              precision    recall  f1-score   support\n",
      "\n",
      "           0       0.89      0.90      0.90      5131\n",
      "           1       0.87      0.86      0.87      4062\n",
      "\n",
      "    accuracy                           0.88      9193\n",
      "   macro avg       0.88      0.88      0.88      9193\n",
      "weighted avg       0.88      0.88      0.88      9193\n",
      "\n",
      "No Informaiton Rate\n",
      "0.5632975425084038\n"
     ]
    }
   ],
   "source": [
    "Performance = DataFrame({\"Actual\":y_test,\"Predicted\":preds1})\n",
    "Performance[\"Subtract\"] = Performance[\"Actual\"]-Performance[\"Predicted\"]\n",
    "Accuracy = (Performance[\"Actual\"].count() - sum(abs(Performance[\"Subtract\"])))/Performance[\"Actual\"].count()\n",
    "print(\"Accuracy Method 2\")\n",
    "print(Accuracy)\n",
    "\n",
    "from sklearn.metrics import classification_report\n",
    "print(classification_report(y_test, preds1))\n",
    "print(\"No Informaiton Rate\")\n",
    "print(np.mean(1-math_df[\"MathResultNum\"]))"
   ]
  },
  {
   "cell_type": "markdown",
   "metadata": {
    "id": "Ws3gDZuwzkCk"
   },
   "source": [
    "# KNN - Joey"
   ]
  },
  {
   "cell_type": "markdown",
   "metadata": {},
   "source": [
    "## Import Packages for KNN, TTS, ETC"
   ]
  },
  {
   "cell_type": "code",
   "execution_count": 22,
   "metadata": {},
   "outputs": [],
   "source": [
    "from sklearn.neighbors import KNeighborsClassifier\n",
    "from sklearn.model_selection import train_test_split, GridSearchCV\n",
    "from sklearn.metrics import accuracy_score\n",
    "import numpy as np\n",
    "from sklearn.metrics import accuracy_score, confusion_matrix"
   ]
  },
  {
   "cell_type": "markdown",
   "metadata": {},
   "source": [
    "## View Occurances of MathResultNum"
   ]
  },
  {
   "cell_type": "code",
   "execution_count": 23,
   "metadata": {},
   "outputs": [
    {
     "data": {
      "image/png": "[encoded data removed]",
      "text/plain": [
       "<Figure size 432x288 with 1 Axes>"
      ]
     },
     "metadata": {},
     "output_type": "display_data"
    }
   ],
   "source": [
    "sns.countplot(data = math_df, x = 'MathResult')\n",
    "plt.show()"
   ]
  },
  {
   "cell_type": "markdown",
   "metadata": {},
   "source": [
    "### There seems to be evidence of a slight imbalance in our repsonse variable. Because of this we will proceed with Stratified Cross Validation for splitting up our data."
   ]
  },
  {
   "cell_type": "code",
   "execution_count": 24,
   "metadata": {},
   "outputs": [
    {
     "name": "stdout",
     "output_type": "stream",
     "text": [
      "Class Imbalance Ratio: 1.2898886480831029\n"
     ]
    }
   ],
   "source": [
    "counts = math_df['MathResult'].value_counts()\n",
    "ratio = counts[0] / counts[1]\n",
    "print('Class Imbalance Ratio:', ratio)"
   ]
  },
  {
   "cell_type": "markdown",
   "metadata": {},
   "source": [
    "## Normalize The continous Variables for use in KNN\n",
    "\n",
    "Becuase our model will contain both binary variable and continuous variables we will normlize the two continuous variables to ensure that KNN is making accurate predictions. \n",
    "\n",
    "KNN is a distance based algorithm, meaning it will rely on measuring distance between data points to make predictions. When features have different scales, attributes with larger values may dominate the distance calcuations."
   ]
  },
  {
   "cell_type": "code",
   "execution_count": 28,
   "metadata": {},
   "outputs": [],
   "source": [
    "from sklearn.preprocessing import MinMaxScaler\n",
    "\n",
    "scaler = MinMaxScaler()\n",
    "scale_math_df = math_df\n",
    "scale_math_df[['ReadingScore','WritingScore']] = scaler.fit_transform(math_df[['ReadingScore','WritingScore']])"
   ]
  },
  {
   "cell_type": "markdown",
   "metadata": {},
   "source": [
    "### Setting Variables for X, Y"
   ]
  },
  {
   "cell_type": "code",
   "execution_count": 29,
   "metadata": {
    "id": "761-1EYSxn4n"
   },
   "outputs": [],
   "source": [
    "X = scale_math_df[['Gender_male',\"LunchType_standard\",'WritingScore', 'ReadingScore','TestPrep_none']]\n",
    "y = scale_math_df['MathResultNum']"
   ]
  },
  {
   "cell_type": "markdown",
   "metadata": {},
   "source": [
    "### Initialize the KNN Classifier"
   ]
  },
  {
   "cell_type": "code",
   "execution_count": 30,
   "metadata": {
    "id": "xNq-7d-1xn7e"
   },
   "outputs": [],
   "source": [
    "knn = KNeighborsClassifier()"
   ]
  },
  {
   "cell_type": "markdown",
   "metadata": {},
   "source": [
    "### Specifiy Params and perform Grid Search"
   ]
  },
  {
   "cell_type": "code",
   "execution_count": 31,
   "metadata": {},
   "outputs": [
    {
     "data": {
      "text/plain": [
       "GridSearchCV(cv=5, estimator=KNeighborsClassifier(),\n",
       "             param_grid={'n_neighbors': [2, 3, 5, 7, 9, 11, 13, 15, 19]})"
      ]
     },
     "execution_count": 31,
     "metadata": {},
     "output_type": "execute_result"
    }
   ],
   "source": [
    "param_grid = {'n_neighbors':[2,3,5,7,9,11,13,15,19]}\n",
    "\n",
    "grid_search = GridSearchCV(knn, param_grid, cv = 5)\n",
    "grid_search.fit(X, y)"
   ]
  },
  {
   "cell_type": "markdown",
   "metadata": {},
   "source": [
    "### View Grid Search Results\n",
    "\n",
    "Although the \"best\" accuracy is achieved with 19 Neighbors, we will proceed with using 9 neighbors. There is little improvement in accuracy after 9 neighbors and the added complexity to the model does not seem \"worth\" the small additon of accuracy."
   ]
  },
  {
   "cell_type": "code",
   "execution_count": 32,
   "metadata": {},
   "outputs": [
    {
     "name": "stdout",
     "output_type": "stream",
     "text": [
      "Grid Search Results\n",
      "Parameters: {'n_neighbors': 2} | Mean Accuracy: 0.8294114527220888\n",
      "Parameters: {'n_neighbors': 3} | Mean Accuracy: 0.8547370034254819\n",
      "Parameters: {'n_neighbors': 5} | Mean Accuracy: 0.8627328313752154\n",
      "Parameters: {'n_neighbors': 7} | Mean Accuracy: 0.8650174373255256\n",
      "Parameters: {'n_neighbors': 9} | Mean Accuracy: 0.8686727152555991\n",
      "Parameters: {'n_neighbors': 11} | Mean Accuracy: 0.870402427018408\n",
      "Parameters: {'n_neighbors': 13} | Mean Accuracy: 0.8698802391319443\n",
      "Parameters: {'n_neighbors': 15} | Mean Accuracy: 0.8720994697553515\n",
      "Parameters: {'n_neighbors': 19} | Mean Accuracy: 0.8735680902374406\n"
     ]
    }
   ],
   "source": [
    "grid_search_results = grid_search.cv_results_\n",
    "print('Grid Search Results')\n",
    "for mean_score, params in zip(grid_search_results['mean_test_score'], grid_search_results['params']):\n",
    "    print(f'Parameters: {params} | Mean Accuracy: {mean_score}')"
   ]
  },
  {
   "cell_type": "markdown",
   "metadata": {},
   "source": [
    "## View Best Results"
   ]
  },
  {
   "cell_type": "code",
   "execution_count": 33,
   "metadata": {},
   "outputs": [
    {
     "name": "stdout",
     "output_type": "stream",
     "text": [
      "KNeighborsClassifier(n_neighbors=19)\n"
     ]
    }
   ],
   "source": [
    "best_knn = grid_search.best_estimator_\n",
    "print(best_knn)"
   ]
  },
  {
   "cell_type": "markdown",
   "metadata": {},
   "source": [
    "## Running KNN with Desired k = 9 & Stratified 10 Fold Cross Validation\n",
    "\n",
    "- Revisting the count plot for \"Pass/Fail\" instances above, we find that there is evidence which suggests a slight imbalance in our data exists. Because of this imbalance in our data we will proceed with a Stratified 10 Fold Cross Validation method for splitting our data. \n",
    "\n",
    "- Compared to the 'train_test_split' the Stratified Cross validation method allows us a bit more precision when working with an unbalanced response variable. "
   ]
  },
  {
   "cell_type": "code",
   "execution_count": 37,
   "metadata": {},
   "outputs": [],
   "source": [
    "from sklearn.model_selection import cross_val_score\n",
    "\n",
    "knn = KNeighborsClassifier(n_neighbors = 9)\n",
    "\n",
    "cross_val_scores = cross_val_score(knn, X, y, cv=10)"
   ]
  },
  {
   "cell_type": "code",
   "execution_count": 38,
   "metadata": {},
   "outputs": [
    {
     "name": "stdout",
     "output_type": "stream",
     "text": [
      "Cross-Validation Score: [0.8766721  0.86879896 0.87075718 0.87140992 0.86292428 0.87565274\n",
      " 0.86781984 0.86814621 0.87369452 0.86390339]\n"
     ]
    }
   ],
   "source": [
    "print('Cross-Validation Score:',cross_val_scores)"
   ]
  },
  {
   "cell_type": "code",
   "execution_count": 39,
   "metadata": {},
   "outputs": [
    {
     "name": "stdout",
     "output_type": "stream",
     "text": [
      "Average Accuracy 0.8699779154012923\n"
     ]
    }
   ],
   "source": [
    "avg_accuracy = cross_val_scores.mean()\n",
    "\n",
    "print('Average Accuracy', avg_accuracy)"
   ]
  },
  {
   "cell_type": "code",
   "execution_count": 42,
   "metadata": {},
   "outputs": [],
   "source": [
    "from sklearn.model_selection import cross_val_predict\n",
    "\n",
    "y_pred = cross_val_predict(knn, X, y, cv=10)"
   ]
  },
  {
   "cell_type": "code",
   "execution_count": 41,
   "metadata": {},
   "outputs": [
    {
     "name": "stdout",
     "output_type": "stream",
     "text": [
      "RMSE 0.3605854491338837\n"
     ]
    }
   ],
   "source": [
    "from sklearn.metrics import mean_squared_error\n",
    "\n",
    "mse = mean_squared_error(y,y_pred)\n",
    "rmse = np.sqrt(mse)\n",
    "print('RMSE', rmse)"
   ]
  },
  {
   "cell_type": "markdown",
   "metadata": {},
   "source": [
    "# Model Evaluation\n",
    "\n",
    "When evaluating KNN we will use the following metrics:\n",
    "\n",
    "- **Confusion Matrix:** Provides tabular representation of the predicted versus acutal class labels. The confusion matrix \n",
    "allows for a detailed analysis of the model's performance and evaluation of different metrics (some of which we will include below)<br><br>\n",
    "\n",
    "- **Accuracy:** Will help us to assess the overall Correctness of the model predictions. While it is not particualrly useful as a standalone metric it will provide a piece to a comprehensive look at our model performance.<br><br>\n",
    "\n",
    "- **Precision:** It represents the proportion of correctly predicted positive instances (true positives) out of the total instances predicted as positive. Precision is useful when the cost of false positives is high, and we want to minimize false positives. It's important that we are able to identify students whom are classified as a \"True Pass\" so that we can ensure students are receiving the needed attention and help.<br><br>\n",
    "\n",
    "- **Recall** Provides a measure for how many actual positive instances are correctly predicted as positive. \"of all the positive instances how many are correctly predicted\" This is important for us to understand so that we are not classiying students as \"Pass\" when they are actually likely to fail, which may prevent them from receiving the help they need.<br><br>\n",
    "\n",
    "- **F1 Score:** By considering precision and recall simultaneously, the F1 score provides a balanced and comprehensive assessment of the model's performance for grade pass/fail classification. It helps in evaluating the model's ability to correctly identify both pass and fail cases, addressing imbalanced performance, and incorporating the potential costs associated with misclassifications in a meaningful way.<br><br>\n",
    "\n",
    "- **AUC:** Represents the overall performance of the classifier across various classification thresholds. AUC-ROC is particularly useful when evaluating binary classification problems with imbalanced classes or when the emphasis is on ranking the instances.<br><br>"
   ]
  },
  {
   "cell_type": "code",
   "execution_count": 43,
   "metadata": {},
   "outputs": [
    {
     "name": "stdout",
     "output_type": "stream",
     "text": [
      "Confusion Matrix [[15218  2042]\n",
      " [ 1942 11439]]\n"
     ]
    }
   ],
   "source": [
    "confusion_mat = confusion_matrix(y, y_pred)\n",
    "print('Confusion Matrix', confusion_mat)"
   ]
  },
  {
   "cell_type": "code",
   "execution_count": 44,
   "metadata": {},
   "outputs": [
    {
     "data": {
      "image/png": "[encoded data removed]",
      "text/plain": [
       "<Figure size 432x288 with 2 Axes>"
      ]
     },
     "metadata": {},
     "output_type": "display_data"
    }
   ],
   "source": [
    "sns.heatmap(confusion_mat, annot=True, fmt = 'd', cmap = 'mako')\n",
    "plt.xlabel('Predicted')\n",
    "plt.ylabel('True')\n",
    "plt.title('KNN Confusion Matrix')\n",
    "plt.show()"
   ]
  },
  {
   "cell_type": "code",
   "execution_count": null,
   "metadata": {
    "scrolled": true
   },
   "outputs": [],
   "source": [
    "TP = 11439 \n",
    "FP = 2042\n",
    "FN = 1942\n",
    "TN = 15218\n",
    "\n",
    "accuracy = (TP + TN)/ (TP + TN + FP + FN)\n",
    "sensitivity = TP / (TP+FN)\n",
    "specificity = TN / (TN+FP)\n",
    "precision = TP / (TP + FP)\n",
    "recall = TP / (TP + FN)\n",
    "f1_score = 2 * (precision * recall)/ (precision + recall)\n",
    "\n",
    "print('Accuracy', accuracy *100 ,'\\n')\n",
    "print('Sensitivity', sensitivity*100,'\\n')\n",
    "print('Specificity', specificity*100,'\\n')\n",
    "print('Precision', precision*100,'\\n')\n",
    "print('Recall', recall*100,'\\n')\n",
    "print('F1 - Score', f1_score*100,'\\n')\n",
    "print('RMSE', rmse)"
   ]
  },
  {
   "cell_type": "markdown",
   "metadata": {},
   "source": [
    "## ROC Curve"
   ]
  },
  {
   "cell_type": "code",
   "execution_count": null,
   "metadata": {},
   "outputs": [],
   "source": [
    "from sklearn.metrics import roc_curve, auc\n",
    "y_scores = cross_val_predict(knn, X, y, cv= 10, method = 'predict_proba')[:,1]\n",
    "\n",
    "\n",
    "# false/true postive & threshold\n",
    "fpr, tpr, thresholds = roc_curve(y, y_scores)\n",
    "\n",
    "#roc calc\n",
    "roc_auc = auc(fpr, tpr)\n"
   ]
  },
  {
   "cell_type": "code",
   "execution_count": null,
   "metadata": {},
   "outputs": [],
   "source": [
    "plt.plot(fpr, tpr, label = 'ROC Curve(AUC = %0.2f)' % roc_auc)\n",
    "plt.plot([0,1],[0,1],'k--')\n",
    "plt.xlabel('False Positive Rate')\n",
    "plt.ylabel('True Positive Rate')\n",
    "plt.title('ROC Curve')\n",
    "plt.legend(loc= 'lower right')\n",
    "\n",
    "\n",
    "plt.show()"
   ]
  },
  {
   "cell_type": "markdown",
   "metadata": {},
   "source": [
    "The ROC Curve is represented by the line connecting the points defined by the False Positive Rate (FPR) on the x-axis and the True Positive Rate (TPR) on the y-axis. Each point on the curve corresponds to a different classification threshold. The curve visually illustrates the trade-off between the true positive rate and the false positive rate at different thresholds.\n",
    "\n",
    "The AUC (Area under the curve) ranges from 0 to 1, where a higher value signifies better discriminative power and overall performance of the model. In this case our AUC is .94. \n"
   ]
  },
  {
   "cell_type": "markdown",
   "metadata": {},
   "source": [
    "### Analyzing Results\n",
    "\n",
    "- **Accuracy:** 87\n",
    "\n",
    "- **Precision:** 85\n",
    "\n",
    "- **Recall:** 85\n",
    "\n",
    "- **F1 Score:** 85.1\n",
    "\n",
    "- **AUC-ROC:** 94"
   ]
  },
  {
   "cell_type": "markdown",
   "metadata": {},
   "source": [
    "### Advantages to Using KNN\n",
    "\n",
    "- **Simplicity:** KNN is a simple and intuitive algorithm that doesn't require complex assumptions or extensive parameter tuning. It is easy to understand and implement, making it accessible for users with limited machine learning experience. <br><br>\n",
    "- **Flexibility:** KNN can handle both binary and continuous attributes, making it suitable for datasets with mixed data types. It can effectively incorporate different types of features into the classification process without requiring explicit feature engineering or transformation.\n",
    "<br><br>\n",
    "- **Non-linearity:** KNN is a non-parametric algorithm, meaning it doesn't make assumptions about the underlying data distribution. It can capture complex relationships and decision boundaries between features and the target variable, allowing for flexibility in modeling non-linear patterns.\n",
    "<br><br>\n",
    "- **Robustness to Outliers:** KNN is robust to outliers because it doesn't make strong assumptions about the data distribution. Outliers may have limited impact on the classification decision, as the majority vote is based on the nearest neighbors. This can be advantageous when dealing with datasets that contain noisy or inconsistent data.\n",
    "<br><br>\n",
    "- **Interpretability:** KNN provides interpretability as it can easily explain its predictions. The classification decision is based on the nearest neighbors, which can be visualized and understood by examining the neighboring instances and their corresponding class labels. This can be useful in scenarios where interpretability and explainability are important.\n",
    "<br><br>\n",
    "- **No Training Phase:** KNN is a lazy learning algorithm, meaning it does not have an explicit training phase. The model stores the entire training dataset and makes predictions at runtime based on the nearest neighbors. This allows for efficient adaptation to new data or incremental learning scenarios."
   ]
  },
  {
   "cell_type": "markdown",
   "metadata": {
    "id": "TvLqrYgB0FHO"
   },
   "source": [
    "# Random Forest - Danny"
   ]
  },
  {
   "cell_type": "code",
   "execution_count": null,
   "metadata": {
    "id": "nLTrzxoVxn9a"
   },
   "outputs": [],
   "source": []
  },
  {
   "cell_type": "code",
   "execution_count": null,
   "metadata": {
    "id": "lpzIUh3RxoAB"
   },
   "outputs": [],
   "source": []
  },
  {
   "cell_type": "code",
   "execution_count": null,
   "metadata": {
    "id": "QApaRDtAxoCn"
   },
   "outputs": [],
   "source": []
  }
 ],
 "metadata": {
  "colab": {
   "provenance": []
  },
  "kernelspec": {
   "display_name": "Python 3 (ipykernel)",
   "language": "python",
   "name": "python3"
  },
  "language_info": {
   "codemirror_mode": {
    "name": "ipython",
    "version": 3
   },
   "file_extension": ".py",
   "mimetype": "text/x-python",
   "name": "python",
   "nbconvert_exporter": "python",
   "pygments_lexer": "ipython3",
   "version": "3.9.12"
  }
 },
 "nbformat": 4,
 "nbformat_minor": 4
}
