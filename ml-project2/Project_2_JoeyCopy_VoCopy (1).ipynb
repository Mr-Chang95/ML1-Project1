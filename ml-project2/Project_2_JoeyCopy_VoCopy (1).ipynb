{
 "cells": [
  {
   "cell_type": "markdown",
   "metadata": {
    "id": "vWdMmhw4xzYF"
   },
   "source": [
    "# <b>Lab 2</b>: Classifications: Logistics, SVM, KNN, and RandomForest\n",
    "# <center><font color='blue'>Student Exam Scores Extended Dataset</font></center> \n",
    "***\n",
    "### <center><b> Team Members: </b> Joey Hernandez, Daniel Chang, and Vo Nguyen</center>\n",
    "\n",
    "### <b> Contributions: </b>\n",
    "- Logistic Model: **Vo Nguyen**\n",
    "- KNN: Joey Hernandez\n",
    "- RandomForest: Danny Chang\n",
    "\n",
    "### <b>Table of Contents</b>\n",
    "<a class=\"anchor\" id=\"toc\"></a>\n",
    "* **[Data Preprocessing](#data)**\n",
    "    * [Import Packages](#import)\n",
    "    * [Loading the Data](#load)\n",
    "    * [Dataset Cleaning: One-Hot Encoding](#hot)\n",
    "    * [Response Variable into Categorical](#response)\n",
    "* **[Logistic Regression](#logistic)**\n",
    "* **[KNN](#knn)**\n",
    "* **[RandomForest](#rf)**\n",
    "* **[Conclusion](#conclusion)**"
   ]
  },
  {
   "cell_type": "markdown",
   "metadata": {},
   "source": [
    "# Introduction"
   ]
  },
  {
   "cell_type": "markdown",
   "metadata": {},
   "source": [
    "The dataset (fictional) comprises scores from three tests of students at a public school, as well as personal and socio-economic factors that may have interaction effects. The purpose of collecting this data is to identify potential relationships between personal and socio-economic factors and test scores. By understanding which factors have the most significant impact on test scores, educators, parents, and students can focus their attention on variables that could potentially help students earn higher scores. This information can be used to inform educational policies and practices, as well as to develop targeted interventions to support students who may be struggling academically. Ultimately, the goal of collecting this data is to improve educational outcomes and promote academic success for all students.\n",
    "\n",
    "Student education and testing scores are critical to their future success. Education provides the foundation upon which students will build their future, and improving the efficiency of learning and testing experiences can have a positive impact on many students' futures. By analyzing the dataset, we can identify factors that influence student performance and develop strategies to improve academic outcomes.\n",
    "\n",
    "Additionally, we will be performing three different classification models: Logistic Regression, KNN (K-Nearest Neighbors), and Random Forest. Each model brings its own strengths and characteristics to the analysis. Logistic Regression offers interpretability and the ability to estimate coefficients, enabling us to understand the impact of different factors on test results. KNN, on the other hand, is a non-parametric algorithm that can handle complex relationships and doesn't require training time. Lastly, Random Forest leverages an ensemble of decision trees to improve robustness and accuracy, providing feature importance rankings. By comparing the results of these three models, we can gain a comprehensive understanding of the data and identify the most effective approach for classifying pass or fail test results. This analysis will help inform educators, policymakers, and stakeholders in making data-driven decisions to support student success and enhance the educational system."
   ]
  },
  {
   "cell_type": "markdown",
   "metadata": {
    "id": "W4wT2fXfyZ2Y"
   },
   "source": [
    "### Import Packages [↑](#toc)\n",
    "<a class=\"anchor\" id=\"import\"></a>"
   ]
  },
  {
   "cell_type": "code",
   "execution_count": 2,
   "metadata": {
    "id": "lPFYaJjswgkH"
   },
   "outputs": [],
   "source": [
    "import pandas as pd\n",
    "import numpy as np\n",
    "from sklearn.model_selection import train_test_split\n",
    "\n",
    "\n",
    "from pandas import Series,DataFrame\n",
    "import matplotlib.pyplot as plt\n",
    "import seaborn as sns\n",
    "from sklearn.linear_model import LogisticRegression\n",
    "from sklearn import metrics\n",
    "from sklearn.model_selection import train_test_split\n",
    "sns.set_style('whitegrid')\n",
    "\n",
    "from sklearn.metrics import mean_squared_error\n",
    "\n",
    "from sklearn.metrics import accuracy_score, confusion_matrix"
   ]
  },
  {
   "cell_type": "markdown",
   "metadata": {},
   "source": [
    "### Loading the Data [↑](#toc)\n",
    "<a class=\"anchor\" id=\"load\"></a>"
   ]
  },
  {
   "cell_type": "code",
   "execution_count": 104,
   "metadata": {
    "colab": {
     "base_uri": "https://localhost:8080/",
     "height": 239
    },
    "id": "NTY1Twp3P7h6",
    "outputId": "88e41d47-2819-4c0c-8cb9-695cd5e8c567"
   },
   "outputs": [
    {
     "data": {
      "text/html": [
       "<div>\n",
       "<style scoped>\n",
       "    .dataframe tbody tr th:only-of-type {\n",
       "        vertical-align: middle;\n",
       "    }\n",
       "\n",
       "    .dataframe tbody tr th {\n",
       "        vertical-align: top;\n",
       "    }\n",
       "\n",
       "    .dataframe thead th {\n",
       "        text-align: right;\n",
       "    }\n",
       "</style>\n",
       "<table border=\"1\" class=\"dataframe\">\n",
       "  <thead>\n",
       "    <tr style=\"text-align: right;\">\n",
       "      <th></th>\n",
       "      <th>Gender</th>\n",
       "      <th>EthnicGroup</th>\n",
       "      <th>ParentEduc</th>\n",
       "      <th>LunchType</th>\n",
       "      <th>TestPrep</th>\n",
       "      <th>ParentMaritalStatus</th>\n",
       "      <th>PracticeSport</th>\n",
       "      <th>IsFirstChild</th>\n",
       "      <th>NrSiblings</th>\n",
       "      <th>TransportMeans</th>\n",
       "      <th>WklyStudyHours</th>\n",
       "      <th>MathScore</th>\n",
       "      <th>ReadingScore</th>\n",
       "      <th>WritingScore</th>\n",
       "      <th>MathResult</th>\n",
       "      <th>ReadingResult</th>\n",
       "      <th>WritingResult</th>\n",
       "    </tr>\n",
       "  </thead>\n",
       "  <tbody>\n",
       "    <tr>\n",
       "      <th>0</th>\n",
       "      <td>female</td>\n",
       "      <td>group C</td>\n",
       "      <td>bachelor's degree</td>\n",
       "      <td>standard</td>\n",
       "      <td>none</td>\n",
       "      <td>married</td>\n",
       "      <td>regularly</td>\n",
       "      <td>yes</td>\n",
       "      <td>3.0</td>\n",
       "      <td>school_bus</td>\n",
       "      <td>&lt; 5</td>\n",
       "      <td>71</td>\n",
       "      <td>71</td>\n",
       "      <td>74</td>\n",
       "      <td>Pass</td>\n",
       "      <td>Pass</td>\n",
       "      <td>Pass</td>\n",
       "    </tr>\n",
       "    <tr>\n",
       "      <th>1</th>\n",
       "      <td>female</td>\n",
       "      <td>group C</td>\n",
       "      <td>some college</td>\n",
       "      <td>standard</td>\n",
       "      <td>none</td>\n",
       "      <td>married</td>\n",
       "      <td>sometimes</td>\n",
       "      <td>yes</td>\n",
       "      <td>0.0</td>\n",
       "      <td>school_bus</td>\n",
       "      <td>5 - 10</td>\n",
       "      <td>69</td>\n",
       "      <td>90</td>\n",
       "      <td>88</td>\n",
       "      <td>Fail</td>\n",
       "      <td>Pass</td>\n",
       "      <td>Pass</td>\n",
       "    </tr>\n",
       "    <tr>\n",
       "      <th>2</th>\n",
       "      <td>female</td>\n",
       "      <td>group B</td>\n",
       "      <td>master's degree</td>\n",
       "      <td>standard</td>\n",
       "      <td>none</td>\n",
       "      <td>single</td>\n",
       "      <td>sometimes</td>\n",
       "      <td>yes</td>\n",
       "      <td>4.0</td>\n",
       "      <td>school_bus</td>\n",
       "      <td>&lt; 5</td>\n",
       "      <td>87</td>\n",
       "      <td>93</td>\n",
       "      <td>91</td>\n",
       "      <td>Pass</td>\n",
       "      <td>Pass</td>\n",
       "      <td>Pass</td>\n",
       "    </tr>\n",
       "    <tr>\n",
       "      <th>3</th>\n",
       "      <td>male</td>\n",
       "      <td>group A</td>\n",
       "      <td>associate's degree</td>\n",
       "      <td>free/reduced</td>\n",
       "      <td>none</td>\n",
       "      <td>married</td>\n",
       "      <td>never</td>\n",
       "      <td>no</td>\n",
       "      <td>1.0</td>\n",
       "      <td>school_bus</td>\n",
       "      <td>5 - 10</td>\n",
       "      <td>45</td>\n",
       "      <td>56</td>\n",
       "      <td>42</td>\n",
       "      <td>Fail</td>\n",
       "      <td>Fail</td>\n",
       "      <td>Fail</td>\n",
       "    </tr>\n",
       "    <tr>\n",
       "      <th>4</th>\n",
       "      <td>male</td>\n",
       "      <td>group C</td>\n",
       "      <td>some college</td>\n",
       "      <td>standard</td>\n",
       "      <td>none</td>\n",
       "      <td>married</td>\n",
       "      <td>sometimes</td>\n",
       "      <td>yes</td>\n",
       "      <td>0.0</td>\n",
       "      <td>school_bus</td>\n",
       "      <td>5 - 10</td>\n",
       "      <td>76</td>\n",
       "      <td>78</td>\n",
       "      <td>75</td>\n",
       "      <td>Pass</td>\n",
       "      <td>Pass</td>\n",
       "      <td>Pass</td>\n",
       "    </tr>\n",
       "    <tr>\n",
       "      <th>...</th>\n",
       "      <td>...</td>\n",
       "      <td>...</td>\n",
       "      <td>...</td>\n",
       "      <td>...</td>\n",
       "      <td>...</td>\n",
       "      <td>...</td>\n",
       "      <td>...</td>\n",
       "      <td>...</td>\n",
       "      <td>...</td>\n",
       "      <td>...</td>\n",
       "      <td>...</td>\n",
       "      <td>...</td>\n",
       "      <td>...</td>\n",
       "      <td>...</td>\n",
       "      <td>...</td>\n",
       "      <td>...</td>\n",
       "      <td>...</td>\n",
       "    </tr>\n",
       "    <tr>\n",
       "      <th>30636</th>\n",
       "      <td>female</td>\n",
       "      <td>group D</td>\n",
       "      <td>high school</td>\n",
       "      <td>standard</td>\n",
       "      <td>none</td>\n",
       "      <td>single</td>\n",
       "      <td>sometimes</td>\n",
       "      <td>no</td>\n",
       "      <td>2.0</td>\n",
       "      <td>school_bus</td>\n",
       "      <td>5 - 10</td>\n",
       "      <td>59</td>\n",
       "      <td>61</td>\n",
       "      <td>65</td>\n",
       "      <td>Fail</td>\n",
       "      <td>Fail</td>\n",
       "      <td>Fail</td>\n",
       "    </tr>\n",
       "    <tr>\n",
       "      <th>30637</th>\n",
       "      <td>male</td>\n",
       "      <td>group E</td>\n",
       "      <td>high school</td>\n",
       "      <td>standard</td>\n",
       "      <td>none</td>\n",
       "      <td>single</td>\n",
       "      <td>regularly</td>\n",
       "      <td>no</td>\n",
       "      <td>1.0</td>\n",
       "      <td>private</td>\n",
       "      <td>5 - 10</td>\n",
       "      <td>58</td>\n",
       "      <td>53</td>\n",
       "      <td>51</td>\n",
       "      <td>Fail</td>\n",
       "      <td>Fail</td>\n",
       "      <td>Fail</td>\n",
       "    </tr>\n",
       "    <tr>\n",
       "      <th>30638</th>\n",
       "      <td>female</td>\n",
       "      <td>group C</td>\n",
       "      <td>high school</td>\n",
       "      <td>free/reduced</td>\n",
       "      <td>completed</td>\n",
       "      <td>married</td>\n",
       "      <td>sometimes</td>\n",
       "      <td>no</td>\n",
       "      <td>1.0</td>\n",
       "      <td>private</td>\n",
       "      <td>5 - 10</td>\n",
       "      <td>61</td>\n",
       "      <td>70</td>\n",
       "      <td>67</td>\n",
       "      <td>Fail</td>\n",
       "      <td>Pass</td>\n",
       "      <td>Fail</td>\n",
       "    </tr>\n",
       "    <tr>\n",
       "      <th>30639</th>\n",
       "      <td>female</td>\n",
       "      <td>group D</td>\n",
       "      <td>associate's degree</td>\n",
       "      <td>standard</td>\n",
       "      <td>completed</td>\n",
       "      <td>married</td>\n",
       "      <td>regularly</td>\n",
       "      <td>no</td>\n",
       "      <td>3.0</td>\n",
       "      <td>school_bus</td>\n",
       "      <td>5 - 10</td>\n",
       "      <td>82</td>\n",
       "      <td>90</td>\n",
       "      <td>93</td>\n",
       "      <td>Pass</td>\n",
       "      <td>Pass</td>\n",
       "      <td>Pass</td>\n",
       "    </tr>\n",
       "    <tr>\n",
       "      <th>30640</th>\n",
       "      <td>male</td>\n",
       "      <td>group B</td>\n",
       "      <td>some college</td>\n",
       "      <td>standard</td>\n",
       "      <td>none</td>\n",
       "      <td>married</td>\n",
       "      <td>never</td>\n",
       "      <td>no</td>\n",
       "      <td>1.0</td>\n",
       "      <td>school_bus</td>\n",
       "      <td>5 - 10</td>\n",
       "      <td>64</td>\n",
       "      <td>60</td>\n",
       "      <td>58</td>\n",
       "      <td>Fail</td>\n",
       "      <td>Fail</td>\n",
       "      <td>Fail</td>\n",
       "    </tr>\n",
       "  </tbody>\n",
       "</table>\n",
       "<p>30641 rows × 17 columns</p>\n",
       "</div>"
      ],
      "text/plain": [
       "       Gender EthnicGroup          ParentEduc     LunchType   TestPrep  \\\n",
       "0      female     group C   bachelor's degree      standard       none   \n",
       "1      female     group C        some college      standard       none   \n",
       "2      female     group B     master's degree      standard       none   \n",
       "3        male     group A  associate's degree  free/reduced       none   \n",
       "4        male     group C        some college      standard       none   \n",
       "...       ...         ...                 ...           ...        ...   \n",
       "30636  female     group D         high school      standard       none   \n",
       "30637    male     group E         high school      standard       none   \n",
       "30638  female     group C         high school  free/reduced  completed   \n",
       "30639  female     group D  associate's degree      standard  completed   \n",
       "30640    male     group B        some college      standard       none   \n",
       "\n",
       "      ParentMaritalStatus PracticeSport IsFirstChild  NrSiblings  \\\n",
       "0                 married     regularly          yes         3.0   \n",
       "1                 married     sometimes          yes         0.0   \n",
       "2                  single     sometimes          yes         4.0   \n",
       "3                 married         never           no         1.0   \n",
       "4                 married     sometimes          yes         0.0   \n",
       "...                   ...           ...          ...         ...   \n",
       "30636              single     sometimes           no         2.0   \n",
       "30637              single     regularly           no         1.0   \n",
       "30638             married     sometimes           no         1.0   \n",
       "30639             married     regularly           no         3.0   \n",
       "30640             married         never           no         1.0   \n",
       "\n",
       "      TransportMeans WklyStudyHours  MathScore  ReadingScore  WritingScore  \\\n",
       "0         school_bus            < 5         71            71            74   \n",
       "1         school_bus         5 - 10         69            90            88   \n",
       "2         school_bus            < 5         87            93            91   \n",
       "3         school_bus         5 - 10         45            56            42   \n",
       "4         school_bus         5 - 10         76            78            75   \n",
       "...              ...            ...        ...           ...           ...   \n",
       "30636     school_bus         5 - 10         59            61            65   \n",
       "30637        private         5 - 10         58            53            51   \n",
       "30638        private         5 - 10         61            70            67   \n",
       "30639     school_bus         5 - 10         82            90            93   \n",
       "30640     school_bus         5 - 10         64            60            58   \n",
       "\n",
       "      MathResult ReadingResult WritingResult  \n",
       "0           Pass          Pass          Pass  \n",
       "1           Fail          Pass          Pass  \n",
       "2           Pass          Pass          Pass  \n",
       "3           Fail          Fail          Fail  \n",
       "4           Pass          Pass          Pass  \n",
       "...          ...           ...           ...  \n",
       "30636       Fail          Fail          Fail  \n",
       "30637       Fail          Fail          Fail  \n",
       "30638       Fail          Pass          Fail  \n",
       "30639       Pass          Pass          Pass  \n",
       "30640       Fail          Fail          Fail  \n",
       "\n",
       "[30641 rows x 17 columns]"
      ]
     },
     "metadata": {},
     "output_type": "display_data"
    }
   ],
   "source": [
    "df = pd.read_csv('cleandf.csv')\n",
    "display(df)"
   ]
  },
  {
   "cell_type": "markdown",
   "metadata": {
    "id": "tqROCXj0yxSM"
   },
   "source": [
    "### Dataset Cleaning: One-Hot Encode [↑](#toc)\n",
    "<a class=\"anchor\" id=\"hot\"></a>"
   ]
  },
  {
   "cell_type": "markdown",
   "metadata": {
    "id": "1UI3B7KD13Jb"
   },
   "source": [
    "One Hot-Encode"
   ]
  },
  {
   "cell_type": "code",
   "execution_count": 105,
   "metadata": {
    "id": "S1n26E1Cyvsy"
   },
   "outputs": [],
   "source": [
    "df_dummy = pd.get_dummies(df, columns=['Gender', 'LunchType', 'TestPrep', 'IsFirstChild','TransportMeans'],\n",
    "                          drop_first=True)\n",
    "df_dummy[\"WklyStudyHours\"] = [1 if x == '> 10' else 0 for x in df_dummy[\"WklyStudyHours\"]]\n",
    "\n",
    "df_dummy[\"PracticeSport\"] = [0 if x == 'never' else 1 for x in df_dummy[\"PracticeSport\"]]\n",
    "\n",
    "math_df = df_dummy.drop([\"ReadingResult\", \"WritingResult\", \"MathScore\"], axis = 1)\n",
    "\n",
    "math_df['HasSiblings'] = math_df['NrSiblings'].apply(lambda x: 1 if x > 0 else 0)\n",
    "\n",
    "math_df.drop('NrSiblings', axis=1, inplace=True)"
   ]
  },
  {
   "cell_type": "markdown",
   "metadata": {},
   "source": [
    "## Response Variable Math Test Score into Math Results Binary (Pass or Fail) [↑](#toc)\n",
    "<a class=\"anchor\" id=\"response\"></a>"
   ]
  },
  {
   "cell_type": "code",
   "execution_count": 106,
   "metadata": {},
   "outputs": [],
   "source": [
    "math_df['MathResultNum'] = np.where(math_df['MathResult'] == \"Pass\", 1, 0)"
   ]
  },
  {
   "cell_type": "markdown",
   "metadata": {},
   "source": [
    "# Modeling & Evaulation"
   ]
  },
  {
   "cell_type": "markdown",
   "metadata": {},
   "source": [
    "When evaluating our models will use the following metrics:\n",
    "\n",
    "- **Confusion Matrix:** Provides tabular representation of the predicted versus acutal class labels. The confusion matrix \n",
    "allows for a detailed analysis of the model's performance and evaluation of different metrics (some of which we will include below)<br><br>\n",
    "\n",
    "- **Accuracy:** Will help us to assess the overall Correctness of the model predictions. While it is not particualrly useful as a standalone metric it will provide a piece to a comprehensive look at our model performance.<br><br>\n",
    "\n",
    "- **Precision:** It represents the proportion of correctly predicted positive instances (true positives) out of the total instances predicted as positive. Precision is useful when the cost of false positives is high, and we want to minimize false positives. It's important that we are able to identify students whom are classified as a \"True Pass\" so that we can ensure students are receiving the needed attention and help.<br><br>\n",
    "\n",
    "- **Recall** Provides a measure for how many actual positive instances are correctly predicted as positive. \"of all the positive instances how many are correctly predicted\" This is important for us to understand so that we are not classiying students as \"Pass\" when they are actually likely to fail, which may prevent them from receiving the help they need.<br><br>\n",
    "\n",
    "- **F1 Score:** By considering precision and recall simultaneously, the F1 score provides a balanced and comprehensive assessment of the model's performance for grade pass/fail classification. It helps in evaluating the model's ability to correctly identify both pass and fail cases, addressing imbalanced performance, and incorporating the potential costs associated with misclassifications in a meaningful way.<br><br>\n",
    "\n",
    "- **AUC:** Represents the overall performance of the classifier across various classification thresholds. AUC-ROC is particularly useful when evaluating binary classification problems with imbalanced classes or when the emphasis is on ranking the instances.<br><br>"
   ]
  },
  {
   "cell_type": "markdown",
   "metadata": {},
   "source": [
    "# Train Test Split Method"
   ]
  },
  {
   "cell_type": "markdown",
   "metadata": {},
   "source": [
    "### Entire Data Split & Stratified 10 Fold Cross Validation\n",
    "\n",
    "Upon revisiting the count plot for \"Pass/Fail\" instances mentioned earlier, it has become evident that our data exhibits a slight imbalance. To address this concern, we will adopt a comprehensive approach that includes a Train/Test split on the entire dataset prior to conducting the Stratified 10 Fold Cross Validation for each model.\n",
    "\n",
    "The incorporation of a Train/Test split ensures that our dataset is divided into distinct training and testing subsets before proceeding with the Stratified 10 Fold Cross Validation. This step allows us to assess the performance of our models on unseen data during the testing phase.\n",
    "\n",
    "In comparison to the traditional 'train_test_split' method, the Stratified Cross Validation method provides us with enhanced precision when dealing with an unbalanced response variable. By employing stratification, we guarantee that each fold in the cross-validation process maintains the same distribution of \"Pass/Fail\" classes as the original dataset, thereby minimizing potential biases and improving the reliability of our model evaluation."
   ]
  },
  {
   "cell_type": "markdown",
   "metadata": {
    "id": "DRHQHte6xc8H"
   },
   "source": [
    "# Logistic Regression - Vo Nguyen  [↑](#toc)\n",
    "<a class=\"anchor\" id=\"logistic\"></a>"
   ]
  },
  {
   "cell_type": "markdown",
   "metadata": {
    "id": "jfEp445txlaz"
   },
   "source": [
    "### Import Packages for Logistics Regression"
   ]
  },
  {
   "cell_type": "code",
   "execution_count": 6,
   "metadata": {
    "id": "wmolSl_Exnsi"
   },
   "outputs": [],
   "source": [
    "from pandas import Series,DataFrame\n",
    "import matplotlib.pyplot as plt\n",
    "import seaborn as sns\n",
    "from sklearn.linear_model import LogisticRegression\n",
    "from sklearn import metrics\n",
    "from sklearn.model_selection import train_test_split\n",
    "sns.set_style('whitegrid')\n",
    "from pandas import Series,DataFrame\n",
    "import numpy as np\n",
    "import statsmodels.formula.api as smf"
   ]
  },
  {
   "cell_type": "markdown",
   "metadata": {},
   "source": [
    "### Plot of our Target Variable\n",
    "The plots have a slight imbalance dataset. We will proveed in comparing a regular 70-30 split to a Stratified 10-Fold CV to compare. Additionally, for the sake of our analysis, since we have a close imbalance dataset. We will not go with a oversamplgin resample function, but rather focus on adjusting the threshold according to our ROC."
   ]
  },
  {
   "cell_type": "code",
   "execution_count": 7,
   "metadata": {},
   "outputs": [
    {
     "data": {
      "image/png": "[encoded data removed]",
      "text/plain": [
       "<Figure size 432x288 with 1 Axes>"
      ]
     },
     "metadata": {},
     "output_type": "display_data"
    }
   ],
   "source": [
    "sns.countplot(data = math_df, x = 'MathResultNum')\n",
    "plt.show()"
   ]
  },
  {
   "cell_type": "markdown",
   "metadata": {},
   "source": [
    "Since we have an imbalance dataset. We can use the Receiver Operating Characteristic(ROC) curve to the examin the area under curve (AUC). The threshold that maximmizes our trade-off between true positive(sensitivity) and false posited rate can be a considered a good theshold for our classification. "
   ]
  },
  {
   "cell_type": "markdown",
   "metadata": {},
   "source": [
    "### Logistic Regression Model Summary"
   ]
  },
  {
   "cell_type": "code",
   "execution_count": 8,
   "metadata": {},
   "outputs": [
    {
     "name": "stdout",
     "output_type": "stream",
     "text": [
      "Optimization terminated successfully.\n",
      "         Current function value: 0.264558\n",
      "         Iterations 8\n",
      "                           Logit Regression Results                           \n",
      "==============================================================================\n",
      "Dep. Variable:          MathResultNum   No. Observations:                30641\n",
      "Model:                          Logit   Df Residuals:                    30631\n",
      "Method:                           MLE   Df Model:                            9\n",
      "Date:                Fri, 30 Jun 2023   Pseudo R-squ.:                  0.6138\n",
      "Time:                        23:21:21   Log-Likelihood:                -8106.3\n",
      "converged:                       True   LL-Null:                       -20993.\n",
      "Covariance Type:            nonrobust   LLR p-value:                     0.000\n",
      "=============================================================================================\n",
      "                                coef    std err          z      P>|z|      [0.025      0.975]\n",
      "---------------------------------------------------------------------------------------------\n",
      "Intercept                   -24.1572      0.302    -79.999      0.000     -24.749     -23.565\n",
      "PracticeSport                 0.3857      0.059      6.498      0.000       0.269       0.502\n",
      "WklyStudyHours                0.3992      0.053      7.514      0.000       0.295       0.503\n",
      "ReadingScore                  0.0819      0.005     17.546      0.000       0.073       0.091\n",
      "WritingScore                  0.2019      0.005     39.240      0.000       0.192       0.212\n",
      "Gender_male                   3.8937      0.061     63.957      0.000       3.774       4.013\n",
      "LunchType_standard            1.0999      0.044     24.930      0.000       1.013       1.186\n",
      "TestPrep_none                 1.0587      0.047     22.552      0.000       0.967       1.151\n",
      "IsFirstChild_yes              0.0174      0.042      0.417      0.677      -0.064       0.099\n",
      "TransportMeans_school_bus     0.0551      0.041      1.332      0.183      -0.026       0.136\n",
      "=============================================================================================\n"
     ]
    }
   ],
   "source": [
    "# building the model and fitting the data\n",
    "Target = math_df[\"MathResultNum\"]\n",
    "feature_columns = math_df.drop([\"EthnicGroup\", \"ParentEduc\", \"ParentMaritalStatus\",\n",
    "                                \"MathResult\", \"HasSiblings\",\"MathResultNum\"], axis = 1)\n",
    "formula = \"MathResultNum ~ \" + \" + \".join(feature_columns)\n",
    "\n",
    "log_reg = smf.logit(formula, data=math_df).fit()\n",
    "\n",
    "print(log_reg.summary())"
   ]
  },
  {
   "cell_type": "markdown",
   "metadata": {},
   "source": [
    "## External Cross Validation using SKLEARN"
   ]
  },
  {
   "cell_type": "markdown",
   "metadata": {
    "id": "QF5kB9Ohxny0"
   },
   "source": [
    "### Training a Logistic Regression Model 70-30 split"
   ]
  },
  {
   "cell_type": "markdown",
   "metadata": {},
   "source": [
    "# Split for Entire Data Set"
   ]
  },
  {
   "cell_type": "code",
   "execution_count": 107,
   "metadata": {},
   "outputs": [],
   "source": [
    "Train_entire, Test_entire= train_test_split(math_df, train_size = .7, test_size= .3, random_state=5)"
   ]
  },
  {
   "cell_type": "code",
   "execution_count": 10,
   "metadata": {},
   "outputs": [
    {
     "name": "stdout",
     "output_type": "stream",
     "text": [
      "Accuracy: 0.875058275058275\n",
      "RMSE: 0.35347096760798463\n"
     ]
    }
   ],
   "source": [
    "# dataset 'df' is now Train/ Test\n",
    "\n",
    "Train, Test = train_test_split(Train_entire, train_size = .7, test_size = .3, random_state=5)\n",
    "\n",
    "X_train = Train.drop([\"EthnicGroup\", \"ParentEduc\", \"ParentMaritalStatus\", \"MathResult\", \"HasSiblings\",\"MathResultNum\"], axis = 1)\n",
    "y_train = Train.MathResultNum\n",
    "\n",
    "X_test = Test.drop([\"EthnicGroup\", \"ParentEduc\", \"ParentMaritalStatus\", \"MathResult\", \"HasSiblings\",\"MathResultNum\"], axis = 1)\n",
    "y_test = Test.MathResultNum\n",
    "\n",
    "#Create Logistic Classifier and Fit\n",
    "clf = LogisticRegression(random_state=0).fit(X_train,y_train)\n",
    "\n",
    "#Create Prediction Set\n",
    "preds1 = clf.predict(X_test)\n",
    "\n",
    "#Accuracy Method 1\n",
    "print(\"Accuracy:\",metrics.accuracy_score(y_test, preds1))\n",
    "\n",
    "#RMSE\n",
    "MSE = mean_squared_error(y_test,preds1)\n",
    "rmse = np.sqrt(MSE)\n",
    "print(\"RMSE:\", rmse)"
   ]
  },
  {
   "cell_type": "markdown",
   "metadata": {},
   "source": [
    "### Stratified 10-Fold Cross Validation for Training the Logistic Regression Model"
   ]
  },
  {
   "cell_type": "code",
   "execution_count": 11,
   "metadata": {},
   "outputs": [
    {
     "name": "stdout",
     "output_type": "stream",
     "text": [
      "Average CV Score Accuracy: 0.8786920572112497\n",
      "RMSE: 0.3482930537691049\n"
     ]
    }
   ],
   "source": [
    "from sklearn.model_selection import cross_val_score\n",
    "from sklearn.model_selection import cross_val_predict\n",
    "from sklearn.metrics import mean_squared_error\n",
    "\n",
    "X = math_df[['Gender_male',\"LunchType_standard\",'WritingScore', 'ReadingScore','TestPrep_none']]\n",
    "y = math_df['MathResultNum']\n",
    "\n",
    "log_clf = LogisticRegression(random_state=0)\n",
    "\n",
    "cross_val_scores = cross_val_score(log_clf, X, y, cv=10)\n",
    "\n",
    "avg_accuracy = cross_val_scores.mean()\n",
    "\n",
    "print(\"Average CV Score Accuracy:\", avg_accuracy)\n",
    "\n",
    "preds = cross_val_predict(log_clf, X, y, cv=10)\n",
    "\n",
    "MSE = mean_squared_error(y,preds)\n",
    "rmse = np.sqrt(MSE)\n",
    "print(\"RMSE:\", rmse)\n"
   ]
  },
  {
   "cell_type": "markdown",
   "metadata": {},
   "source": [
    "**A Train 70-30 split and a Stratified 10-Fold Cross Validation are similar in terms of accuracy score and RMSE; however, we want to treat our imbalance dataset seriously, but we can to do what we did on the our previous mini lab**"
   ]
  },
  {
   "cell_type": "markdown",
   "metadata": {},
   "source": [
    "### Plot the AUC"
   ]
  },
  {
   "cell_type": "code",
   "execution_count": 12,
   "metadata": {},
   "outputs": [
    {
     "data": {
      "image/png": "[encoded data removed]",
      "text/plain": [
       "<Figure size 432x288 with 1 Axes>"
      ]
     },
     "metadata": {},
     "output_type": "display_data"
    },
    {
     "name": "stdout",
     "output_type": "stream",
     "text": [
      "Optimal Threshold\n",
      "0.41227259269063177\n",
      "Recall\n",
      "[0.00000000e+00 3.58808755e-04 7.17617510e-04 ... 1.00000000e+00\n",
      " 1.00000000e+00 1.00000000e+00]\n",
      "\n"
     ]
    }
   ],
   "source": [
    "#Import Packages\n",
    "import matplotlib.pyplot as plt\n",
    "from sklearn.metrics import roc_auc_score, roc_curve\n",
    "\n",
    "y_pred_proba = clf.predict_proba(X_test)[:,1]\n",
    "fpr,tpr, thresholds = roc_curve(y_test,y_pred_proba)\n",
    "\n",
    "auc = metrics.roc_auc_score(y, preds)\n",
    "\n",
    "#Find the Left Most Index\n",
    "leftmost_index = np.nanargmin(np.abs(fpr - (1 - tpr)))\n",
    "leftmost_fpr = fpr[leftmost_index]\n",
    "leftmost_tpr = tpr[leftmost_index]\n",
    "\n",
    "#create ROC curve\n",
    "plt.plot(fpr,tpr,label=\"AUC=\"+str(auc))\n",
    "plt.scatter(leftmost_fpr, leftmost_tpr, color='red', label=\"Left-Most Threshold\")\n",
    "plt.legend(loc=4)\n",
    "plt.show()\n",
    "\n",
    "#Optimal Threshhold\n",
    "print(\"Optimal Threshold\")\n",
    "print(thresholds[np.argmax(tpr - fpr)])\n",
    "print(\"Recall\")\n",
    "print(tpr)\n",
    "print()\n"
   ]
  },
  {
   "cell_type": "markdown",
   "metadata": {},
   "source": [
    "https://towardsdatascience.com/calculating-and-setting-thresholds-to-optimise-logistic-regression-performance-c77e6d112d7e"
   ]
  },
  {
   "cell_type": "markdown",
   "metadata": {},
   "source": [
    "## Confusion Matrix\n",
    "\n",
    "A confusion matrix is an essential tool for evaluating the performance of a model that predicts the \"Pass\" or \"Fail\" outcome of math test scores. It provides a clear and concise summary of the model's predictions and their alignment with the actual outcomes. By examining the confusion matrix, users can gain valuable insights into the model's effectiveness in identifying \"Pass\" and \"Fail\" instances.\n",
    "\n",
    "Here's why and how a confusion matrix would be interesting to someone using such a model:\n",
    "\n",
    "- Performance Evaluation: The confusion matrix allows users to assess the model's accuracy and understand the distribution of predictions across different classes. It provides a comprehensive overview of the true positives (correctly predicted \"Pass\" instances), true negatives (correctly predicted \"Fail\" instances), false positives (incorrectly predicted as \"Pass\" when the actual outcome is \"Fail\"), and false negatives (incorrectly predicted as \"Fail\" when the actual outcome is \"Pass\"). These metrics help users evaluate the model's overall performance and identify any potential biases or weaknesses.\n",
    "<br><br>\n",
    "- Imbalance Assessment: In scenarios where there is an imbalance in the dataset, such as a higher frequency of \"Pass\" or \"Fail\" instances, a confusion matrix becomes even more crucial. It allows users to observe the distribution of predictions across classes and assess if the model is biased towards one class. This information helps in identifying potential issues and determining if further measures, such as class weighting or data balancing techniques, need to be employed to improve the model's performance.\n",
    "<br><br>\n",
    "- Precision and Recall Analysis: The confusion matrix enables users to calculate additional metrics such as precision and recall. Precision represents the proportion of correctly predicted \"Pass\" instances out of all instances predicted as \"Pass,\" while recall indicates the proportion of correctly predicted \"Pass\" instances out of all actual \"Pass\" instances. These metrics provide a deeper understanding of the model's performance and can be useful for making informed decisions, especially when the cost of false positives or false negatives varies.\n",
    "<br><br>\n",
    "- Model Fine-tuning: By analyzing the confusion matrix, users can identify specific patterns or trends in the model's misclassifications. They can then make targeted adjustments, such as modifying the model's parameters, adjusting the decision threshold, or exploring different feature engineering techniques, to improve the model's accuracy and address specific challenges."
   ]
  },
  {
   "cell_type": "code",
   "execution_count": 13,
   "metadata": {},
   "outputs": [
    {
     "name": "stdout",
     "output_type": "stream",
     "text": [
      "[[3225  423]\n",
      " [ 381 2406]]\n"
     ]
    },
    {
     "data": {
      "image/png": "[encoded data removed]",
      "text/plain": [
       "<Figure size 432x288 with 2 Axes>"
      ]
     },
     "metadata": {},
     "output_type": "display_data"
    }
   ],
   "source": [
    "cnf_matrix = metrics.confusion_matrix(y_test, preds1)\n",
    "print(cnf_matrix)\n",
    "\n",
    "labels = [0, 1]\n",
    "fig, ax = plt.subplots()\n",
    "tick_marks = np.arange(len(labels))\n",
    "plt.xticks(tick_marks, labels)\n",
    "plt.yticks(tick_marks, labels)\n",
    "\n",
    "\n",
    "# create heatmap\n",
    "sns.heatmap(pd.DataFrame(cnf_matrix), annot=True, cmap=\"YlGnBu\", fmt='g')\n",
    "ax.xaxis.set_label_position(\"top\")\n",
    "plt.title('Confusion matrix', y=1.1)\n",
    "plt.ylabel('Actual Outcome')\n",
    "plt.xlabel('Predicted Outcome')\n",
    "plt.show()"
   ]
  },
  {
   "cell_type": "code",
   "execution_count": 14,
   "metadata": {},
   "outputs": [
    {
     "name": "stdout",
     "output_type": "stream",
     "text": [
      "Accuracy Method 2\n",
      "0.875058275058275\n",
      "              precision    recall  f1-score   support\n",
      "\n",
      "           0       0.89      0.88      0.89      3648\n",
      "           1       0.85      0.86      0.86      2787\n",
      "\n",
      "    accuracy                           0.88      6435\n",
      "   macro avg       0.87      0.87      0.87      6435\n",
      "weighted avg       0.88      0.88      0.88      6435\n",
      "\n",
      "No Informaiton Rate\n",
      "0.5632975425084038\n"
     ]
    }
   ],
   "source": [
    "Performance = DataFrame({\"Actual\":y_test,\"Predicted\":preds1})\n",
    "Performance[\"Subtract\"] = Performance[\"Actual\"]-Performance[\"Predicted\"]\n",
    "Accuracy = (Performance[\"Actual\"].count() - sum(abs(Performance[\"Subtract\"])))/Performance[\"Actual\"].count()\n",
    "print(\"Accuracy Method 2\")\n",
    "print(Accuracy)\n",
    "\n",
    "from sklearn.metrics import classification_report\n",
    "print(classification_report(y_test, preds1))\n",
    "print(\"No Informaiton Rate\")\n",
    "print(np.mean(1-math_df[\"MathResultNum\"]))"
   ]
  },
  {
   "cell_type": "markdown",
   "metadata": {},
   "source": [
    "### Reclassify on a Threshold of 0.39 and Examine CM Metrics using Stratified 10-Fold CV"
   ]
  },
  {
   "cell_type": "code",
   "execution_count": 15,
   "metadata": {},
   "outputs": [
    {
     "name": "stdout",
     "output_type": "stream",
     "text": [
      "RMSE: 0.35609904072677145\n"
     ]
    }
   ],
   "source": [
    "log_clf = LogisticRegression(random_state=1)\n",
    "\n",
    "threshold = 0.3886995893248815\n",
    "\n",
    "log_clf.fit(X_train, y_train)\n",
    "\n",
    "log_clf_probs = log_clf.predict_proba(X_test)[:,1]\n",
    "\n",
    "preds = np.where(log_clf_probs >= threshold, 1, 0)\n",
    "\n",
    "MSE = mean_squared_error(y_test,preds)\n",
    "rmse = np.sqrt(MSE)\n",
    "print(\"RMSE:\", rmse)\n"
   ]
  },
  {
   "cell_type": "markdown",
   "metadata": {},
   "source": [
    "### Confusion Matrix"
   ]
  },
  {
   "cell_type": "code",
   "execution_count": 16,
   "metadata": {},
   "outputs": [
    {
     "name": "stdout",
     "output_type": "stream",
     "text": [
      "              precision    recall  f1-score   support\n",
      "\n",
      "           0       0.93      0.84      0.88      3648\n",
      "           1       0.82      0.91      0.86      2787\n",
      "\n",
      "    accuracy                           0.87      6435\n",
      "   macro avg       0.87      0.88      0.87      6435\n",
      "weighted avg       0.88      0.87      0.87      6435\n",
      "\n",
      "No Informaiton Rate\n",
      "0.5632975425084038\n"
     ]
    },
    {
     "data": {
      "image/png": "[encoded data removed]",
      "text/plain": [
       "<Figure size 432x288 with 2 Axes>"
      ]
     },
     "metadata": {},
     "output_type": "display_data"
    }
   ],
   "source": [
    "cnf_matrix = metrics.confusion_matrix(y_test, preds)\n",
    "\n",
    "labels = [0, 1]\n",
    "fig, ax = plt.subplots()\n",
    "tick_marks = np.arange(len(labels))\n",
    "plt.xticks(tick_marks, labels)\n",
    "plt.yticks(tick_marks, labels)\n",
    "\n",
    "\n",
    "# create heatmap\n",
    "sns.heatmap(pd.DataFrame(cnf_matrix), annot=True, cmap=\"YlGnBu\", fmt='g')\n",
    "ax.xaxis.set_label_position(\"top\")\n",
    "plt.title('Confusion matrix', y=1.1)\n",
    "plt.ylabel('Actual Outcome')\n",
    "plt.xlabel('Predicted Outcome')\n",
    "\n",
    "from sklearn.metrics import classification_report\n",
    "print(classification_report(y_test, preds))\n",
    "print(\"No Informaiton Rate\")\n",
    "print(np.mean(1-math_df[\"MathResultNum\"]))"
   ]
  },
  {
   "cell_type": "markdown",
   "metadata": {},
   "source": [
    "### Internal 5-Fold Cross Validation for Threshold of 0.39"
   ]
  },
  {
   "cell_type": "code",
   "execution_count": 17,
   "metadata": {},
   "outputs": [
    {
     "name": "stdout",
     "output_type": "stream",
     "text": [
      "Cross-validation score (accuracy): 0.8764074279560067\n",
      "Accuracy: 0.878 (0.003)\n",
      "Recall: 0.857 (0.007)\n",
      "Precision: 0.863 (0.006)\n",
      "F1: 0.860 (0.003)\n"
     ]
    }
   ],
   "source": [
    "from sklearn.metrics import accuracy_score\n",
    "from sklearn.model_selection import KFold\n",
    "\n",
    "\n",
    "# prepare the cross-validation procedure\n",
    "cv = KFold(n_splits=5, shuffle = True, random_state=1)\n",
    "\n",
    "X = math_df[['Gender_male',\"LunchType_standard\",'WritingScore', 'ReadingScore','TestPrep_none']]\n",
    "y = math_df['MathResultNum']\n",
    "\n",
    "# create model\n",
    "model = LogisticRegression(random_state=1).fit(X,y)\n",
    "threshold = 0.3886995893248815\n",
    "\n",
    "\n",
    "\n",
    "log_clf_probs = model.predict_proba(X)[:,1]\n",
    "preds = np.where(log_clf_probs >= threshold, 1, 0)\n",
    "\n",
    "probs = cross_val_predict(model, X, y, cv=5, method='predict_proba')\n",
    "predicted_class = (probs[:, 1] > threshold).astype(int)\n",
    "\n",
    "cv_score = accuracy_score(y, predicted_class)\n",
    "\n",
    "print(\"Cross-validation score (accuracy):\", cv_score)\n",
    "\n",
    "\n",
    "# evaluate model\n",
    "scoresAcc = cross_val_score(model, X, y, scoring='accuracy', cv=cv, n_jobs=-1)\n",
    "scoresRec = cross_val_score(model, X, y, scoring='recall', cv=cv, n_jobs=-1)\n",
    "scoresPrec = cross_val_score(model, X, y, scoring='precision', cv=cv, n_jobs=-1)\n",
    "scoresF1 = cross_val_score(model, X, y, scoring='f1', cv=cv, n_jobs=-1)\n",
    "\n",
    "\n",
    "# report performance\n",
    "print('Accuracy: %.3f (%.3f)' % (np.mean(scoresAcc), np.std(scoresAcc)))\n",
    "print('Recall: %.3f (%.3f)' % (np.mean(scoresRec), np.std(scoresRec)))\n",
    "print('Precision: %.3f (%.3f)' % (np.mean(scoresPrec), np.std(scoresPrec)))\n",
    "print('F1: %.3f (%.3f)' % (np.mean(scoresF1), np.std(scoresF1)))"
   ]
  },
  {
   "cell_type": "markdown",
   "metadata": {},
   "source": [
    "## Logistic Model Evaluation "
   ]
  },
  {
   "cell_type": "markdown",
   "metadata": {},
   "source": [
    "| Metric    | Threshold = 0.50 | Threshold = 0.39     |\n",
    "|---------|-----|----------|\n",
    "| **Accuracy**    | 0.88  | 0.88 |\n",
    "|  **Precision**   | 0.88  | 0.89   |\n",
    "| **Recall** | 0.88 | 0.88    |\n",
    "| **F1 Score**  | 0.88  | 0.88    |\n",
    "| **AUC-ROC**  | 0.87  | 0.88    |\n",
    "| **RMSE**  | 0.342  | 0.342    |\n"
   ]
  },
  {
   "cell_type": "markdown",
   "metadata": {},
   "source": [
    "### Advantages to Using Logistics Regression\n",
    "- **Interpretability:** Logistics provides interpretability results as it can estimate the coefficients, thus we can use a simple odds ratio interpretation associated to each input feature. Additionally, the coefficient has a good interpretation of increasing or decreasing the response with a good cofidence interval. \n",
    "<br><br>\n",
    "- **Probabilities:** Logistic Regression provides probability estimates for response. This is good because we can make business decision based on this confidnece level or want to analyze uncertainties of predictions. <br><br>\n",
    "- **Robustness:** As you can see from our dataset, we have the ability to handle imbalance datasets more effectively by using appropriate techniques of thresholding.\n",
    "<br><br>\n"
   ]
  },
  {
   "cell_type": "markdown",
   "metadata": {},
   "source": [
    "# Conclusion - Logistic Regression"
   ]
  },
  {
   "cell_type": "markdown",
   "metadata": {},
   "source": [
    "In this analysis, a logistic regression model is chosen as the starting point due to its several advantages. Logistic regression offers interpretability by estimating coefficients, allowing for a clear understanding of each input feature's impact on the likelihood of passing or failing the math test. It also provides probability estimates, which are useful for making business decisions and assessing prediction uncertainties. The ability to quantify the probability of passing or failing can aid in identifying students who may require additional support. An important visual included in our results is  the Receiver Operating Characteristic (ROC) curve. This allows us to visually see the trade-off between true positives and false positives when selecting various thresholds.\n",
    "Lastly, the results we achieved with our logistic regession model are as follow:\n",
    "\n",
    "Accuracy: .88<br>\n",
    "Precision: .88<br>\n",
    "Recall: .88<br>\n",
    "F1 Score: .88<br>\n",
    "AUC-ROC: .87<br>\n",
    "RMSE: .34"
   ]
  },
  {
   "cell_type": "markdown",
   "metadata": {},
   "source": [
    "<hr>"
   ]
  },
  {
   "cell_type": "markdown",
   "metadata": {
    "id": "Ws3gDZuwzkCk"
   },
   "source": [
    "# KNN - Joey  [↑](#toc)\n",
    "<a class=\"anchor\" id=\"logistic\"></a>\n"
   ]
  },
  {
   "cell_type": "markdown",
   "metadata": {},
   "source": [
    "## Import Packages for KNN, TTS, ETC"
   ]
  },
  {
   "cell_type": "code",
   "execution_count": 18,
   "metadata": {},
   "outputs": [],
   "source": [
    "from sklearn.neighbors import KNeighborsClassifier\n",
    "from sklearn.model_selection import train_test_split, GridSearchCV\n",
    "from sklearn.metrics import accuracy_score\n",
    "import numpy as np\n",
    "from sklearn.metrics import accuracy_score, confusion_matrix"
   ]
  },
  {
   "cell_type": "markdown",
   "metadata": {},
   "source": [
    "## View Occurances of MathResultNum"
   ]
  },
  {
   "cell_type": "code",
   "execution_count": 19,
   "metadata": {},
   "outputs": [
    {
     "data": {
      "image/png": "[encoded data removed]",
      "text/plain": [
       "<Figure size 432x288 with 1 Axes>"
      ]
     },
     "metadata": {},
     "output_type": "display_data"
    }
   ],
   "source": [
    "sns.countplot(data = math_df, x = 'MathResult')\n",
    "plt.show()"
   ]
  },
  {
   "cell_type": "markdown",
   "metadata": {},
   "source": [
    "### There seems to be evidence of a slight imbalance in our repsonse variable. Because of this we will proceed with Stratified Cross Validation for splitting up our data."
   ]
  },
  {
   "cell_type": "code",
   "execution_count": 20,
   "metadata": {},
   "outputs": [
    {
     "name": "stdout",
     "output_type": "stream",
     "text": [
      "Class Imbalance Ratio: 1.2898886480831029\n"
     ]
    }
   ],
   "source": [
    "counts = math_df['MathResult'].value_counts()\n",
    "ratio = counts[0] / counts[1]\n",
    "print('Class Imbalance Ratio:', ratio)"
   ]
  },
  {
   "cell_type": "markdown",
   "metadata": {},
   "source": [
    "## Normalize The continous Variables for use in KNN\n",
    "\n",
    "Becuase our model will contain both binary variable and continuous variables we will normlize the two continuous variables to ensure that KNN is making accurate predictions. \n",
    "\n",
    "KNN is a distance based algorithm, meaning it will rely on measuring distance between data points to make predictions. When features have different scales, attributes with larger values may dominate the distance calcuations."
   ]
  },
  {
   "cell_type": "code",
   "execution_count": 21,
   "metadata": {},
   "outputs": [],
   "source": [
    "from sklearn.preprocessing import MinMaxScaler\n",
    "\n",
    "scaler = MinMaxScaler()\n",
    "scale_math_df = Train_entire\n",
    "scale_math_df[['ReadingScore','WritingScore']] = scaler.fit_transform(Train_entire[['ReadingScore','WritingScore']])"
   ]
  },
  {
   "cell_type": "markdown",
   "metadata": {},
   "source": [
    "### Setting Variables for X, Y"
   ]
  },
  {
   "cell_type": "code",
   "execution_count": 22,
   "metadata": {},
   "outputs": [
    {
     "name": "stdout",
     "output_type": "stream",
     "text": [
      "<class 'pandas.core.frame.DataFrame'>\n",
      "Int64Index: 21448 entries, 919 to 2915\n",
      "Data columns (total 15 columns):\n",
      " #   Column                     Non-Null Count  Dtype  \n",
      "---  ------                     --------------  -----  \n",
      " 0   EthnicGroup                21448 non-null  object \n",
      " 1   ParentEduc                 21448 non-null  object \n",
      " 2   ParentMaritalStatus        21448 non-null  object \n",
      " 3   PracticeSport              21448 non-null  int64  \n",
      " 4   WklyStudyHours             21448 non-null  int64  \n",
      " 5   ReadingScore               21448 non-null  float64\n",
      " 6   WritingScore               21448 non-null  float64\n",
      " 7   MathResult                 21448 non-null  object \n",
      " 8   Gender_male                21448 non-null  uint8  \n",
      " 9   LunchType_standard         21448 non-null  uint8  \n",
      " 10  TestPrep_none              21448 non-null  uint8  \n",
      " 11  IsFirstChild_yes           21448 non-null  uint8  \n",
      " 12  TransportMeans_school_bus  21448 non-null  uint8  \n",
      " 13  HasSiblings                21448 non-null  int64  \n",
      " 14  MathResultNum              21448 non-null  int32  \n",
      "dtypes: float64(2), int32(1), int64(3), object(4), uint8(5)\n",
      "memory usage: 1.8+ MB\n"
     ]
    }
   ],
   "source": [
    "scale_math_df.info()"
   ]
  },
  {
   "cell_type": "code",
   "execution_count": 23,
   "metadata": {
    "id": "761-1EYSxn4n"
   },
   "outputs": [],
   "source": [
    "X = scale_math_df[['Gender_male',\"LunchType_standard\",'WritingScore', 'ReadingScore','TestPrep_none']]\n",
    "y = scale_math_df['MathResultNum']"
   ]
  },
  {
   "cell_type": "markdown",
   "metadata": {},
   "source": [
    "### Initialize the KNN Classifier"
   ]
  },
  {
   "cell_type": "code",
   "execution_count": 24,
   "metadata": {
    "id": "xNq-7d-1xn7e"
   },
   "outputs": [],
   "source": [
    "knn = KNeighborsClassifier()"
   ]
  },
  {
   "cell_type": "markdown",
   "metadata": {},
   "source": [
    "### Specifiy Params and perform Grid Search"
   ]
  },
  {
   "cell_type": "code",
   "execution_count": 25,
   "metadata": {},
   "outputs": [
    {
     "data": {
      "text/plain": [
       "GridSearchCV(cv=5, estimator=KNeighborsClassifier(),\n",
       "             param_grid={'n_neighbors': [2, 3, 5, 7, 9, 11, 13, 15, 19]})"
      ]
     },
     "execution_count": 25,
     "metadata": {},
     "output_type": "execute_result"
    }
   ],
   "source": [
    "param_grid = {'n_neighbors':[2,3,5,7,9,11,13,15,19]}\n",
    "\n",
    "grid_search = GridSearchCV(knn, param_grid, cv = 5)\n",
    "grid_search.fit(X, y)"
   ]
  },
  {
   "cell_type": "markdown",
   "metadata": {},
   "source": [
    "### View Grid Search Results\n",
    "\n",
    "Although the \"best\" accuracy is achieved with 19 Neighbors, we will proceed with using 9 neighbors. There is little improvement in accuracy after 9 neighbors and the added complexity to the model does not seem \"worth\" the small additon of accuracy."
   ]
  },
  {
   "cell_type": "code",
   "execution_count": 26,
   "metadata": {},
   "outputs": [
    {
     "name": "stdout",
     "output_type": "stream",
     "text": [
      "Grid Search Results\n",
      "Parameters: {'n_neighbors': 2} | Mean Accuracy: 0.8258575278766465\n",
      "Parameters: {'n_neighbors': 3} | Mean Accuracy: 0.8566300630278247\n",
      "Parameters: {'n_neighbors': 5} | Mean Accuracy: 0.8670274747402283\n",
      "Parameters: {'n_neighbors': 7} | Mean Accuracy: 0.8691719860150728\n",
      "Parameters: {'n_neighbors': 9} | Mean Accuracy: 0.8698245036225918\n",
      "Parameters: {'n_neighbors': 11} | Mean Accuracy: 0.8701974531258747\n",
      "Parameters: {'n_neighbors': 13} | Mean Accuracy: 0.8712232789360325\n",
      "Parameters: {'n_neighbors': 15} | Mean Accuracy: 0.8739740356014545\n",
      "Parameters: {'n_neighbors': 19} | Mean Accuracy: 0.873741044065129\n"
     ]
    }
   ],
   "source": [
    "grid_search_results = grid_search.cv_results_\n",
    "print('Grid Search Results')\n",
    "for mean_score, params in zip(grid_search_results['mean_test_score'], grid_search_results['params']):\n",
    "    print(f'Parameters: {params} | Mean Accuracy: {mean_score}')"
   ]
  },
  {
   "cell_type": "markdown",
   "metadata": {},
   "source": [
    "## View Best Results"
   ]
  },
  {
   "cell_type": "code",
   "execution_count": 27,
   "metadata": {},
   "outputs": [
    {
     "name": "stdout",
     "output_type": "stream",
     "text": [
      "KNeighborsClassifier(n_neighbors=15)\n"
     ]
    }
   ],
   "source": [
    "best_knn = grid_search.best_estimator_\n",
    "print(best_knn)"
   ]
  },
  {
   "cell_type": "markdown",
   "metadata": {},
   "source": [
    "## Running KNN with Desired k = 9 & Stratified 10 Fold Cross Validation\n",
    "\n",
    "- Revisting the count plot for \"Pass/Fail\" instances above, we find that there is evidence which suggests a slight imbalance in our data exists. Because of this imbalance in our data we will proceed with a Stratified 10 Fold Cross Validation method for splitting our data. \n",
    "\n",
    "- Compared to the 'train_test_split' the Stratified Cross validation method allows us a bit more precision when working with an unbalanced response variable. "
   ]
  },
  {
   "cell_type": "code",
   "execution_count": 28,
   "metadata": {},
   "outputs": [],
   "source": [
    "from sklearn.model_selection import cross_val_score\n",
    "\n",
    "knn = KNeighborsClassifier(n_neighbors = 9)\n",
    "\n",
    "cross_val_scores = cross_val_score(knn, X, y, cv=10)"
   ]
  },
  {
   "cell_type": "code",
   "execution_count": 29,
   "metadata": {},
   "outputs": [
    {
     "name": "stdout",
     "output_type": "stream",
     "text": [
      "Cross-Validation Score: [0.86526807 0.86899767 0.87132867 0.86759907 0.86899767 0.86620047\n",
      " 0.87972028 0.85827506 0.86473881 0.86660448]\n"
     ]
    }
   ],
   "source": [
    "print('Cross-Validation Score:',cross_val_scores)"
   ]
  },
  {
   "cell_type": "code",
   "execution_count": 30,
   "metadata": {},
   "outputs": [
    {
     "name": "stdout",
     "output_type": "stream",
     "text": [
      "Average Accuracy 0.8677730229969036\n"
     ]
    }
   ],
   "source": [
    "avg_accuracy = cross_val_scores.mean()\n",
    "\n",
    "print('Average Accuracy', avg_accuracy)"
   ]
  },
  {
   "cell_type": "code",
   "execution_count": 31,
   "metadata": {},
   "outputs": [],
   "source": [
    "from sklearn.model_selection import cross_val_predict\n",
    "\n",
    "y_pred = cross_val_predict(knn, X, y, cv=10)"
   ]
  },
  {
   "cell_type": "code",
   "execution_count": 32,
   "metadata": {},
   "outputs": [
    {
     "name": "stdout",
     "output_type": "stream",
     "text": [
      "RMSE 0.36363000570888854\n"
     ]
    }
   ],
   "source": [
    "from sklearn.metrics import mean_squared_error\n",
    "\n",
    "mse = mean_squared_error(y,y_pred)\n",
    "rmse = np.sqrt(mse)\n",
    "print('RMSE', rmse)"
   ]
  },
  {
   "cell_type": "markdown",
   "metadata": {},
   "source": [
    "## Confusion Matrix\n",
    "\n",
    "A confusion matrix is an essential tool for evaluating the performance of a model that predicts the \"Pass\" or \"Fail\" outcome of math test scores. It provides a clear and concise summary of the model's predictions and their alignment with the actual outcomes. By examining the confusion matrix, users can gain valuable insights into the model's effectiveness in identifying \"Pass\" and \"Fail\" instances.\n",
    "\n",
    "Here's why and how a confusion matrix would be interesting to someone using such a model:\n",
    "\n",
    "- Performance Evaluation: The confusion matrix allows users to assess the model's accuracy and understand the distribution of predictions across different classes. It provides a comprehensive overview of the true positives (correctly predicted \"Pass\" instances), true negatives (correctly predicted \"Fail\" instances), false positives (incorrectly predicted as \"Pass\" when the actual outcome is \"Fail\"), and false negatives (incorrectly predicted as \"Fail\" when the actual outcome is \"Pass\"). These metrics help users evaluate the model's overall performance and identify any potential biases or weaknesses.\n",
    "<br><br>\n",
    "- Imbalance Assessment: In scenarios where there is an imbalance in the dataset, such as a higher frequency of \"Pass\" or \"Fail\" instances, a confusion matrix becomes even more crucial. It allows users to observe the distribution of predictions across classes and assess if the model is biased towards one class. This information helps in identifying potential issues and determining if further measures, such as class weighting or data balancing techniques, need to be employed to improve the model's performance.\n",
    "<br><br>\n",
    "- Precision and Recall Analysis: The confusion matrix enables users to calculate additional metrics such as precision and recall. Precision represents the proportion of correctly predicted \"Pass\" instances out of all instances predicted as \"Pass,\" while recall indicates the proportion of correctly predicted \"Pass\" instances out of all actual \"Pass\" instances. These metrics provide a deeper understanding of the model's performance and can be useful for making informed decisions, especially when the cost of false positives or false negatives varies.\n",
    "<br><br>\n",
    "- Model Fine-tuning: By analyzing the confusion matrix, users can identify specific patterns or trends in the model's misclassifications. They can then make targeted adjustments, such as modifying the model's parameters, adjusting the decision threshold, or exploring different feature engineering techniques, to improve the model's accuracy and address specific challenges."
   ]
  },
  {
   "cell_type": "code",
   "execution_count": 33,
   "metadata": {},
   "outputs": [
    {
     "name": "stdout",
     "output_type": "stream",
     "text": [
      "Confusion Matrix [[10654  1475]\n",
      " [ 1361  7958]]\n"
     ]
    }
   ],
   "source": [
    "confusion_mat = confusion_matrix(y, y_pred)\n",
    "print('Confusion Matrix', confusion_mat)"
   ]
  },
  {
   "cell_type": "code",
   "execution_count": 34,
   "metadata": {},
   "outputs": [
    {
     "data": {
      "image/png": "[encoded data removed]",
      "text/plain": [
       "<Figure size 432x288 with 2 Axes>"
      ]
     },
     "metadata": {},
     "output_type": "display_data"
    }
   ],
   "source": [
    "sns.heatmap(confusion_mat, annot=True, fmt = 'd', cmap = 'mako')\n",
    "plt.xlabel('Predicted')\n",
    "plt.ylabel('True')\n",
    "plt.title('KNN Confusion Matrix')\n",
    "plt.show()"
   ]
  },
  {
   "cell_type": "code",
   "execution_count": 35,
   "metadata": {
    "scrolled": true
   },
   "outputs": [
    {
     "name": "stdout",
     "output_type": "stream",
     "text": [
      "Accuracy 86.99781338729153 \n",
      "\n",
      "Sensitivity 85.4868843883118 \n",
      "\n",
      "Specificity 88.16917728852839 \n",
      "\n",
      "Precision 84.85275573028707 \n",
      "\n",
      "Recall 85.4868843883118 \n",
      "\n",
      "F1 - Score 85.16863971409427 \n",
      "\n",
      "RMSE 0.36363000570888854\n"
     ]
    }
   ],
   "source": [
    "TP = 11439 \n",
    "FP = 2042\n",
    "FN = 1942\n",
    "TN = 15218\n",
    "\n",
    "accuracy = (TP + TN)/ (TP + TN + FP + FN)\n",
    "sensitivity = TP / (TP+FN)\n",
    "specificity = TN / (TN+FP)\n",
    "precision = TP / (TP + FP)\n",
    "recall = TP / (TP + FN)\n",
    "f1_score = 2 * (precision * recall)/ (precision + recall)\n",
    "\n",
    "print('Accuracy', accuracy *100 ,'\\n')\n",
    "print('Sensitivity', sensitivity*100,'\\n')\n",
    "print('Specificity', specificity*100,'\\n')\n",
    "print('Precision', precision*100,'\\n')\n",
    "print('Recall', recall*100,'\\n')\n",
    "print('F1 - Score', f1_score*100,'\\n')\n",
    "print('RMSE', rmse)"
   ]
  },
  {
   "cell_type": "code",
   "execution_count": 36,
   "metadata": {},
   "outputs": [
    {
     "name": "stdout",
     "output_type": "stream",
     "text": [
      "              precision    recall  f1-score   support\n",
      "\n",
      "           0       0.89      0.88      0.88     12129\n",
      "           1       0.84      0.85      0.85      9319\n",
      "\n",
      "    accuracy                           0.87     21448\n",
      "   macro avg       0.87      0.87      0.87     21448\n",
      "weighted avg       0.87      0.87      0.87     21448\n",
      "\n",
      "No Informaiton Rate\n",
      "0.5632975425084038\n"
     ]
    }
   ],
   "source": [
    "from sklearn.metrics import classification_report\n",
    "print(classification_report(y, y_pred))\n",
    "print(\"No Informaiton Rate\")\n",
    "print(np.mean(1-math_df[\"MathResultNum\"]))"
   ]
  },
  {
   "cell_type": "markdown",
   "metadata": {},
   "source": [
    "## ROC Curve"
   ]
  },
  {
   "cell_type": "code",
   "execution_count": 37,
   "metadata": {},
   "outputs": [],
   "source": [
    "from sklearn.metrics import roc_curve, auc\n",
    "y_scores = cross_val_predict(knn, X, y, cv= 10, method = 'predict_proba')[:,1]\n",
    "\n",
    "\n",
    "# false/true postive & threshold\n",
    "fpr, tpr, thresholds = roc_curve(y, y_scores)\n",
    "\n",
    "#roc calc\n",
    "roc_auc = auc(fpr, tpr)\n"
   ]
  },
  {
   "cell_type": "code",
   "execution_count": 38,
   "metadata": {},
   "outputs": [
    {
     "data": {
      "image/png": "[encoded data removed]",
      "text/plain": [
       "<Figure size 432x288 with 1 Axes>"
      ]
     },
     "metadata": {},
     "output_type": "display_data"
    }
   ],
   "source": [
    "plt.plot(fpr, tpr, label = 'ROC Curve(AUC = %0.2f)' % roc_auc)\n",
    "plt.plot([0,1],[0,1],'k--')\n",
    "plt.xlabel('False Positive Rate')\n",
    "plt.ylabel('True Positive Rate')\n",
    "plt.title('ROC Curve')\n",
    "plt.legend(loc= 'lower right')\n",
    "\n",
    "\n",
    "plt.show()"
   ]
  },
  {
   "cell_type": "markdown",
   "metadata": {},
   "source": [
    "The ROC Curve is represented by the line connecting the points defined by the False Positive Rate (FPR) on the x-axis and the True Positive Rate (TPR) on the y-axis. Each point on the curve corresponds to a different classification threshold. The curve visually illustrates the trade-off between the true positive rate and the false positive rate at different thresholds.\n",
    "\n",
    "The AUC (Area under the curve) ranges from 0 to 1, where a higher value signifies better discriminative power and overall performance of the model. In this case our AUC is .94. \n"
   ]
  },
  {
   "cell_type": "markdown",
   "metadata": {},
   "source": [
    "### Analyzing Results\n",
    "\n",
    "- **Accuracy:** 87\n",
    "\n",
    "- **Precision:** 85\n",
    "\n",
    "- **Recall:** 85\n",
    "\n",
    "- **F1 Score:** 85.1\n",
    "\n",
    "- **AUC-ROC:** 94"
   ]
  },
  {
   "cell_type": "markdown",
   "metadata": {},
   "source": [
    "### Advantages to Using KNN\n",
    "\n",
    "- **Simplicity:** KNN is a simple and intuitive algorithm that doesn't require complex assumptions or extensive parameter tuning. It is easy to understand and implement, making it accessible for users with limited machine learning experience. <br><br>\n",
    "- **Flexibility:** KNN can handle both binary and continuous attributes, making it suitable for datasets with mixed data types. It can effectively incorporate different types of features into the classification process without requiring explicit feature engineering or transformation.\n",
    "<br><br>\n",
    "- **Non-linearity:** KNN is a non-parametric algorithm, meaning it doesn't make assumptions about the underlying data distribution. It can capture complex relationships and decision boundaries between features and the target variable, allowing for flexibility in modeling non-linear patterns.\n",
    "<br><br>\n",
    "- **Robustness to Outliers:** KNN is robust to outliers because it doesn't make strong assumptions about the data distribution. Outliers may have limited impact on the classification decision, as the majority vote is based on the nearest neighbors. This can be advantageous when dealing with datasets that contain noisy or inconsistent data.\n",
    "<br><br>\n",
    "- **Interpretability:** KNN provides interpretability as it can easily explain its predictions. The classification decision is based on the nearest neighbors, which can be visualized and understood by examining the neighboring instances and their corresponding class labels. This can be useful in scenarios where interpretability and explainability are important.\n",
    "<br><br>\n",
    "- **No Training Phase:** KNN is a lazy learning algorithm, meaning it does not have an explicit training phase. The model stores the entire training dataset and makes predictions at runtime based on the nearest neighbors. This allows for efficient adaptation to new data or incremental learning scenarios."
   ]
  },
  {
   "cell_type": "markdown",
   "metadata": {},
   "source": [
    "# Conclusion - KNN"
   ]
  },
  {
   "cell_type": "markdown",
   "metadata": {},
   "source": [
    "In this section we performed classification of our data with the KNN model. KNN is a non-parametric algorithm that does not make any assumptions about the underlying data distribution, which can be beneficial when dealing with complex or unknown relationships. Additionally, KNN is a simple yet powerful algorithm that is easy to understand and implement. It does not require training time since it uses the entire training dataset for predictions. KNN is also effective in handling imbalanced datasets, as it considers the nearest neighbors regardless of class distribution.\n",
    "\n",
    "To gain a better understanding of the data and evaluate the performance of the KNN Classification model for predicting pass or fail on the math test, we utilized two key evaluation techniques: the confusion matrix and the ROC curve.\n",
    "By utilizing the confusion matrix and ROC curve, we were able to gain valuable insights into the model's predictive capabilities. The confusion matrix allowed us to analyze the accuracy, precision, recall, and F1 score, providing a comprehensive understanding of the model's performance. Meanwhile, the ROC curve and AUC-ROC provided a visual and quantitative assessment of the model's ability to distinguish between pass and fail instances.\n",
    "\n",
    "These evaluation techniques played a crucial role in assessing the model's effectiveness, identifying areas for improvement, and gaining a deeper understanding of the data and results. By leveraging the insights provided by the confusion matrix and ROC curve, we were able to make informed decisions and adjustments to optimize the KNN Classification model for predicting pass or fail on the math test.\n",
    "\n",
    "The Results for KNN are as follow:\n",
    "\n",
    "\n",
    "Accuracy: 87<br>\n",
    "Precision: 85<br>\n",
    "Recall: 85<br>\n",
    "F1 Score: 85.1<br>\n",
    "AUC-ROC: 94<br>\n",
    "RMSE: .363<br>"
   ]
  },
  {
   "cell_type": "markdown",
   "metadata": {},
   "source": [
    "<hr>"
   ]
  },
  {
   "cell_type": "markdown",
   "metadata": {
    "id": "TvLqrYgB0FHO"
   },
   "source": [
    "# Random Forest and Decision Tree - Danny"
   ]
  },
  {
   "cell_type": "markdown",
   "metadata": {},
   "source": [
    "### Decision Tree"
   ]
  },
  {
   "cell_type": "markdown",
   "metadata": {},
   "source": [
    "### Import Necessary Packages"
   ]
  },
  {
   "cell_type": "code",
   "execution_count": 39,
   "metadata": {
    "id": "nLTrzxoVxn9a"
   },
   "outputs": [],
   "source": [
    "import numpy as np\n",
    "import pandas as pd\n",
    "\n",
    "from pandas import Series,DataFrame\n",
    "import matplotlib.pyplot as plt\n",
    "import seaborn as sns\n",
    "from sklearn.linear_model import LogisticRegression\n",
    "from sklearn import metrics\n",
    "from sklearn.model_selection import train_test_split\n",
    "from sklearn.tree import DecisionTreeClassifier\n",
    "sns.set_style('whitegrid')\n",
    "\n",
    "from sklearn.tree import DecisionTreeClassifier\n",
    "from sklearn.model_selection import KFold\n",
    "from sklearn.model_selection import cross_val_score\n",
    "import sklearn.tree as tree"
   ]
  },
  {
   "cell_type": "markdown",
   "metadata": {
    "id": "lpzIUh3RxoAB"
   },
   "source": [
    "### Train a Decision Tree Model"
   ]
  },
  {
   "cell_type": "code",
   "execution_count": 40,
   "metadata": {
    "id": "QApaRDtAxoCn"
   },
   "outputs": [],
   "source": [
    "X = scale_math_df[['Gender_male',\"LunchType_standard\",'WritingScore', 'ReadingScore','TestPrep_none']]\n",
    "y = scale_math_df['MathResultNum']\n",
    "\n",
    "DT_model = DecisionTreeClassifier(random_state=1,max_depth = 5).fit(X,y)"
   ]
  },
  {
   "cell_type": "markdown",
   "metadata": {},
   "source": [
    "### Plot Decision Tree"
   ]
  },
  {
   "cell_type": "code",
   "execution_count": 41,
   "metadata": {},
   "outputs": [
    {
     "data": {
      "image/png": "[encoded data removed]",
      "text/plain": [
       "<Figure size 1800x1440 with 1 Axes>"
      ]
     },
     "metadata": {},
     "output_type": "display_data"
    }
   ],
   "source": [
    "fig = plt.figure(figsize=(25,20))\n",
    "_ = tree.plot_tree(DT_model, feature_names= np.array(['Gender_male',\"LunchType_standard\",'WritingScore', 'ReadingScore','TestPrep_none']), filled=True)"
   ]
  },
  {
   "cell_type": "markdown",
   "metadata": {},
   "source": [
    "### Grid Search"
   ]
  },
  {
   "cell_type": "code",
   "execution_count": 42,
   "metadata": {},
   "outputs": [
    {
     "name": "stdout",
     "output_type": "stream",
     "text": [
      "Best max_depth: 7\n"
     ]
    }
   ],
   "source": [
    "from sklearn.model_selection import GridSearchCV\n",
    "# Grid Search\n",
    "#reformat for DT\n",
    "\n",
    "cv = KFold(n_splits=10, shuffle = True, random_state=1)\n",
    "\n",
    "a = GridSearchCV(estimator=DecisionTreeClassifier(),\n",
    "             param_grid={'max_depth': [1,2,3,4,5,6,7,8,9]}, cv = cv)\n",
    "a.fit(X,y)\n",
    "print('Best max_depth:', a.best_estimator_.get_params()['max_depth'])\n"
   ]
  },
  {
   "cell_type": "markdown",
   "metadata": {},
   "source": [
    "### Internal 10 Cross Validation with Max-Depth = 7"
   ]
  },
  {
   "cell_type": "code",
   "execution_count": 43,
   "metadata": {},
   "outputs": [],
   "source": [
    "DT_model = DecisionTreeClassifier(random_state = 1, max_depth = 7).fit(X,y)\n",
    "predsProbs = DT_model.predict(X)\n",
    "preds = list(map(round,predsProbs))\n",
    "actual = y\n"
   ]
  },
  {
   "cell_type": "code",
   "execution_count": 44,
   "metadata": {},
   "outputs": [
    {
     "data": {
      "image/png": "[encoded data removed]",
      "text/plain": [
       "<Figure size 432x288 with 2 Axes>"
      ]
     },
     "metadata": {},
     "output_type": "display_data"
    }
   ],
   "source": [
    "cnf_matrix = metrics.confusion_matrix(actual, preds)\n",
    "\n",
    "labels = [0, 1]\n",
    "fig, ax = plt.subplots()\n",
    "tick_marks = np.arange(len(labels))\n",
    "plt.xticks(tick_marks, labels)\n",
    "plt.yticks(tick_marks, labels)\n",
    "# create heatmap\n",
    "sns.heatmap(pd.DataFrame(cnf_matrix), annot=True, cmap=\"YlGnBu\", fmt='g')\n",
    "ax.xaxis.set_label_position(\"top\")\n",
    "plt.title('Confusion matrix', y=1.1)\n",
    "plt.ylabel('Actual Outcome')\n",
    "plt.show()"
   ]
  },
  {
   "cell_type": "code",
   "execution_count": 45,
   "metadata": {},
   "outputs": [
    {
     "name": "stdout",
     "output_type": "stream",
     "text": [
      "Accuracy: 0.873 (0.008)\n",
      "Recall: 0.867 (0.014)\n",
      "Precision: 0.845 (0.015)\n",
      "F1: 0.856 (0.011)\n"
     ]
    }
   ],
   "source": [
    "scoresAcc = cross_val_score(DT_model, X, y, scoring='accuracy', cv=cv, n_jobs=-1)\n",
    "scoresRec = cross_val_score(DT_model, X, y, scoring='recall', cv=cv, n_jobs=-1)\n",
    "scoresPrec = cross_val_score(DT_model, X, y, scoring='precision', cv=cv, n_jobs=-1)\n",
    "scoresF1 = cross_val_score(DT_model, X, y, scoring='f1', cv=cv, n_jobs=-1)\n",
    "# report performance\n",
    "print('Accuracy: %.3f (%.3f)' % (np.mean(scoresAcc), np.std(scoresAcc)))\n",
    "print('Recall: %.3f (%.3f)' % (np.mean(scoresRec), np.std(scoresRec)))\n",
    "print('Precision: %.3f (%.3f)' % (np.mean(scoresPrec), np.std(scoresPrec)))\n",
    "print('F1: %.3f (%.3f)' % (np.mean(scoresF1), np.std(scoresF1)))\n"
   ]
  },
  {
   "cell_type": "code",
   "execution_count": 46,
   "metadata": {},
   "outputs": [
    {
     "name": "stdout",
     "output_type": "stream",
     "text": [
      "RMSE: 0.35761810974940644\n"
     ]
    }
   ],
   "source": [
    "from sklearn.model_selection import cross_val_predict\n",
    "\n",
    "y_pred = cross_val_predict(DT_model, X, y, cv=10)\n",
    "\n",
    "MSE = mean_squared_error(y,y_pred)\n",
    "rmse = np.sqrt(MSE)\n",
    "print(\"RMSE:\", rmse)\n"
   ]
  },
  {
   "cell_type": "markdown",
   "metadata": {},
   "source": [
    "### Feature Importance"
   ]
  },
  {
   "cell_type": "code",
   "execution_count": 47,
   "metadata": {},
   "outputs": [
    {
     "data": {
      "image/png": "[encoded data removed]",
      "text/plain": [
       "<Figure size 432x288 with 1 Axes>"
      ]
     },
     "metadata": {},
     "output_type": "display_data"
    }
   ],
   "source": [
    "feature_importances = DT_model.feature_importances_\n",
    "\n",
    "FI = pd.DataFrame({\"Feature\": ['Gender_male',\"LunchType_standard\",'WritingScore', 'ReadingScore','TestPrep_none'], \"Importance\": np.array(feature_importances)})\n",
    "\n",
    "sns.barplot(y = \"Feature\", x = \"Importance\", data = FI)\n",
    "plt.show()"
   ]
  },
  {
   "cell_type": "markdown",
   "metadata": {},
   "source": [
    "**Feature Importance allows us to determine which feature is the singificant comparatively, and we see that reading score is a good feature in determining math test pass.**"
   ]
  },
  {
   "cell_type": "markdown",
   "metadata": {},
   "source": [
    "# Random Forest - Daniel"
   ]
  },
  {
   "cell_type": "markdown",
   "metadata": {},
   "source": [
    "### Grid Search"
   ]
  },
  {
   "cell_type": "code",
   "execution_count": 48,
   "metadata": {},
   "outputs": [
    {
     "name": "stdout",
     "output_type": "stream",
     "text": [
      "Best max_depth: 5\n",
      "Best number of trees: 50\n",
      "Best Criterion: entropy\n"
     ]
    }
   ],
   "source": [
    "#Grid Search\n",
    "from sklearn.model_selection import GridSearchCV\n",
    "from sklearn.ensemble import RandomForestClassifier\n",
    "\n",
    "# Grid Search\n",
    "#reformat for DT\n",
    "\n",
    "X = math_df[['Gender_male',\"LunchType_standard\",'WritingScore', 'ReadingScore','TestPrep_none']]\n",
    "y = math_df['MathResultNum']\n",
    "\n",
    "\n",
    "cv = KFold(n_splits=5, shuffle = True, random_state=1)\n",
    "\n",
    "a = GridSearchCV(estimator=RandomForestClassifier(),\n",
    "             param_grid={'n_estimators': [50,100,150,200],\n",
    "                         'max_depth': [5,10],\n",
    "                 'criterion' :['gini', 'entropy']}\n",
    " )\n",
    "a.fit(X,y)\n",
    "print('Best max_depth:', a.best_estimator_.get_params()['max_depth'])\n",
    "print('Best number of trees:', a.best_estimator_.get_params()['n_estimators'])\n",
    "print('Best Criterion:', a.best_estimator_.get_params()['criterion'])"
   ]
  },
  {
   "cell_type": "markdown",
   "metadata": {},
   "source": [
    "### Fit the Forest and get Prediction"
   ]
  },
  {
   "cell_type": "code",
   "execution_count": 49,
   "metadata": {},
   "outputs": [],
   "source": [
    "from sklearn.tree import DecisionTreeClassifier\n",
    "import sklearn.tree as tree\n",
    "\n",
    "# Make a decision tree and train\n",
    "RF = RandomForestClassifier(random_state=1, max_depth = 5, n_estimators = 100, criterion= 'entropy')\n",
    "RF_model = RF.fit(X, y)\n",
    "\n",
    "predsProbs = RF.predict(X)\n",
    "preds = list(map(round,predsProbs))\n",
    "actual = y"
   ]
  },
  {
   "cell_type": "markdown",
   "metadata": {},
   "source": [
    "### Confusion Matrix"
   ]
  },
  {
   "cell_type": "code",
   "execution_count": 50,
   "metadata": {},
   "outputs": [
    {
     "data": {
      "image/png": "[encoded data removed]",
      "text/plain": [
       "<Figure size 432x288 with 2 Axes>"
      ]
     },
     "metadata": {},
     "output_type": "display_data"
    }
   ],
   "source": [
    "cnf_matrix = metrics.confusion_matrix(actual, preds)\n",
    "\n",
    "labels = [0, 1]\n",
    "fig, ax = plt.subplots()\n",
    "tick_marks = np.arange(len(labels))\n",
    "plt.xticks(tick_marks, labels)\n",
    "plt.yticks(tick_marks, labels)\n",
    "# create heatmap\n",
    "sns.heatmap(pd.DataFrame(cnf_matrix), annot=True, cmap=\"YlGnBu\", fmt='g')\n",
    "ax.xaxis.set_label_position(\"top\")\n",
    "plt.title('Confusion matrix', y=1.1)\n",
    "plt.ylabel('Actual Outcome')\n",
    "plt.xlabel('Predicted Outcome')\n",
    "plt.show()"
   ]
  },
  {
   "cell_type": "code",
   "execution_count": 51,
   "metadata": {},
   "outputs": [
    {
     "name": "stdout",
     "output_type": "stream",
     "text": [
      "              precision    recall  f1-score   support\n",
      "\n",
      "           0       0.89      0.89      0.89     17260\n",
      "           1       0.86      0.86      0.86     13381\n",
      "\n",
      "    accuracy                           0.88     30641\n",
      "   macro avg       0.87      0.87      0.87     30641\n",
      "weighted avg       0.88      0.88      0.88     30641\n",
      "\n"
     ]
    }
   ],
   "source": [
    "from sklearn.metrics import classification_report\n",
    "print(classification_report(actual, preds))"
   ]
  },
  {
   "cell_type": "markdown",
   "metadata": {},
   "source": [
    "### Internal 10-Fold CV\n",
    "Grid Search provided the best parameters as Max Depth = 10 and N_estimators = 100"
   ]
  },
  {
   "cell_type": "code",
   "execution_count": 52,
   "metadata": {},
   "outputs": [
    {
     "name": "stdout",
     "output_type": "stream",
     "text": [
      "Accuracy: 0.875 (0.005)\n",
      "Recall: 0.851 (0.006)\n",
      "Precision: 0.861 (0.010)\n",
      "F1: 0.856 (0.006)\n"
     ]
    }
   ],
   "source": [
    "# prepare the cross-validation procedure\n",
    "#cv = KFold(n_splits=5, random_state=1, shuffle=True)\n",
    "cv = KFold(n_splits=5, shuffle = True, random_state=1)\n",
    "# create model\n",
    "model = RandomForestClassifier(random_state = 1, max_depth = 5, n_estimators = 200)\n",
    "# evaluate model\n",
    "\n",
    "scoresAcc = cross_val_score(model, X, y, scoring='accuracy', cv=cv, n_jobs=-1)\n",
    "scoresRec = cross_val_score(model, X, y, scoring='recall', cv=cv, n_jobs=-1)\n",
    "scoresPrec = cross_val_score(model, X, y, scoring='precision', cv=cv, n_jobs=-1)\n",
    "scoresF1 = cross_val_score(model, X, y, scoring='f1', cv=cv, n_jobs=-1)\n",
    "# report performance\n",
    "print('Accuracy: %.3f (%.3f)' % (np.mean(scoresAcc), np.std(scoresAcc)))\n",
    "print('Recall: %.3f (%.3f)' % (np.mean(scoresRec), np.std(scoresRec)))\n",
    "print('Precision: %.3f (%.3f)' % (np.mean(scoresPrec), np.std(scoresPrec)))\n",
    "print('F1: %.3f (%.3f)' % (np.mean(scoresF1), np.std(scoresF1)))"
   ]
  },
  {
   "cell_type": "code",
   "execution_count": 53,
   "metadata": {},
   "outputs": [
    {
     "name": "stdout",
     "output_type": "stream",
     "text": [
      "RMSE: 0.3512787439919315\n"
     ]
    }
   ],
   "source": [
    "MSE = mean_squared_error(actual,preds)\n",
    "rmse = np.sqrt(MSE)\n",
    "print(\"RMSE:\", rmse)\n"
   ]
  },
  {
   "cell_type": "markdown",
   "metadata": {},
   "source": [
    "**Comparing CV Results:**\n",
    "Comparing CV results with our sinigle hold out, we see that both are very similar in terms of Accuracy, Recall, Precision, and F1. Good overall metrics hovering around 85%, which indicates a possible useful model."
   ]
  },
  {
   "cell_type": "markdown",
   "metadata": {},
   "source": [
    "### Feature Importance"
   ]
  },
  {
   "cell_type": "code",
   "execution_count": 54,
   "metadata": {},
   "outputs": [
    {
     "data": {
      "image/png": "[encoded data removed]",
      "text/plain": [
       "<Figure size 432x288 with 1 Axes>"
      ]
     },
     "metadata": {},
     "output_type": "display_data"
    }
   ],
   "source": [
    "fi = RF.feature_importances_\n",
    "\n",
    "FI = pd.DataFrame({\"Feature\": ['Gender_male',\"LunchType_standard\",'WritingScore', 'ReadingScore','TestPrep_none'], \"Importance\": np.array(fi)})\n",
    "FI\n",
    "sns.barplot(y = \"Feature\", x = \"Importance\", data = FI)\n",
    "plt.show()"
   ]
  },
  {
   "cell_type": "markdown",
   "metadata": {},
   "source": [
    "**Feature Importance Analysis:**\n",
    "In our feature importance, we see that the Reading and Writing scores are highly valued features that can possibly be a useful explanatory variable for our response of students will pass the math test. It makes sense if you are a good reader and writer that you have a good chance to also pass a test. At the end of a day, you are taking a test, and if you are good at taking a test, math would probably have similar results."
   ]
  },
  {
   "cell_type": "markdown",
   "metadata": {},
   "source": [
    "### Comparing Results (Stratified 10-Fold Cross Validation)"
   ]
  },
  {
   "cell_type": "markdown",
   "metadata": {},
   "source": [
    "| Metric    | Decision Tree | RandomForest  |\n",
    "|---------|-----|----------|\n",
    "| **Accuracy**    | 0.874  | 0.875 |\n",
    "|  **Precision**   | 0.861  | 0.859   |\n",
    "| **Recall** | 0.853 | 0.855   |\n",
    "| **F1 Score**  | 0.857  | 0.855    |\n",
    "| **RMSE**  | 0.354  | 0.352    |\n"
   ]
  },
  {
   "cell_type": "markdown",
   "metadata": {},
   "source": [
    "### Advantages to Using Random Forest\n",
    "\n",
    "- **Feature Importance:** Random Forest models provide a feature importance measure, which help us identify the influetial features in making predictions. This can help understand a relationship between the feature and target variable. <br><br>\n",
    "- **Usefulness in High-Dimensional Data:** Random Forest can handle high-dimensional data effectively, as it automatically select informative features and split and ignore anything irrelevant. There are strong metrics usch as entrophy or gini to help reduce any noise.\n",
    "<br><br>\n",
    "- **Robustness to Noise and Outliers:** Random Forest models is the best out of our models in terms of being more robust to noisy data. The Random Forest aggregate predictions from multiple trees, reducing the impact of outliers and noisy istances.\n",
    "<br><br>\n"
   ]
  },
  {
   "cell_type": "markdown",
   "metadata": {},
   "source": [
    "# Conclusion"
   ]
  },
  {
   "cell_type": "markdown",
   "metadata": {},
   "source": [
    "Random Forest is an ensemble learning method that combines multiple decision trees to make predictions. This ensemble approach improves the model's robustness and reduces overfitting, as each tree is trained on a different subset of the data and features. Secondly, Random Forest can handle both numerical and categorical features effectively, making it suitable for diverse types of input data. It can automatically handle feature interactions and non-linear relationships, which is advantageous when dealing with complex datasets.\n",
    "\n",
    "Similar to our previous models we utilized ROC (Receiver Operating Characteristic) curve to assess the model's predictive ability. The ROC curve displayed the relationship between the true positive rate and the false positive rate at different classification thresholds.\n",
    "\n",
    "The combination of the confusion matrix and ROC curve allowed us to gain a deeper understanding of the Random Forest model's strengths and weaknesses. The confusion matrix provided a comprehensive overview of the model's accuracy metrics, such as precision, recall, and F1 score. On the other hand, the ROC curve and AUC-ROC provided a visual representation and a numerical measure of the model's ability to correctly classify pass and fail instances.\n",
    "\n",
    "Finally our results for the Random Forest are as follow:\n",
    "\n",
    "Accuracy: .875<br>\n",
    "Precision: .859<br>\n",
    "Recall: .855<br>\n",
    "F1 Score: .855<br>\n",
    "RMSE: .352<br>"
   ]
  },
  {
   "cell_type": "markdown",
   "metadata": {},
   "source": [
    "<hr>"
   ]
  },
  {
   "cell_type": "markdown",
   "metadata": {},
   "source": [
    "#  Exceptional Work | Process Recreation with More Features & Grid Searches"
   ]
  },
  {
   "cell_type": "code",
   "execution_count": 55,
   "metadata": {},
   "outputs": [],
   "source": [
    "df = pd.read_csv('cleandf.csv')"
   ]
  },
  {
   "cell_type": "code",
   "execution_count": 56,
   "metadata": {},
   "outputs": [
    {
     "data": {
      "text/html": [
       "<div>\n",
       "<style scoped>\n",
       "    .dataframe tbody tr th:only-of-type {\n",
       "        vertical-align: middle;\n",
       "    }\n",
       "\n",
       "    .dataframe tbody tr th {\n",
       "        vertical-align: top;\n",
       "    }\n",
       "\n",
       "    .dataframe thead th {\n",
       "        text-align: right;\n",
       "    }\n",
       "</style>\n",
       "<table border=\"1\" class=\"dataframe\">\n",
       "  <thead>\n",
       "    <tr style=\"text-align: right;\">\n",
       "      <th></th>\n",
       "      <th>Gender</th>\n",
       "      <th>EthnicGroup</th>\n",
       "      <th>ParentEduc</th>\n",
       "      <th>LunchType</th>\n",
       "      <th>TestPrep</th>\n",
       "      <th>ParentMaritalStatus</th>\n",
       "      <th>PracticeSport</th>\n",
       "      <th>IsFirstChild</th>\n",
       "      <th>NrSiblings</th>\n",
       "      <th>TransportMeans</th>\n",
       "      <th>WklyStudyHours</th>\n",
       "      <th>MathScore</th>\n",
       "      <th>ReadingScore</th>\n",
       "      <th>WritingScore</th>\n",
       "      <th>MathResult</th>\n",
       "      <th>ReadingResult</th>\n",
       "      <th>WritingResult</th>\n",
       "    </tr>\n",
       "  </thead>\n",
       "  <tbody>\n",
       "    <tr>\n",
       "      <th>0</th>\n",
       "      <td>female</td>\n",
       "      <td>group C</td>\n",
       "      <td>bachelor's degree</td>\n",
       "      <td>standard</td>\n",
       "      <td>none</td>\n",
       "      <td>married</td>\n",
       "      <td>regularly</td>\n",
       "      <td>yes</td>\n",
       "      <td>3.0</td>\n",
       "      <td>school_bus</td>\n",
       "      <td>&lt; 5</td>\n",
       "      <td>71</td>\n",
       "      <td>71</td>\n",
       "      <td>74</td>\n",
       "      <td>Pass</td>\n",
       "      <td>Pass</td>\n",
       "      <td>Pass</td>\n",
       "    </tr>\n",
       "    <tr>\n",
       "      <th>1</th>\n",
       "      <td>female</td>\n",
       "      <td>group C</td>\n",
       "      <td>some college</td>\n",
       "      <td>standard</td>\n",
       "      <td>none</td>\n",
       "      <td>married</td>\n",
       "      <td>sometimes</td>\n",
       "      <td>yes</td>\n",
       "      <td>0.0</td>\n",
       "      <td>school_bus</td>\n",
       "      <td>5 - 10</td>\n",
       "      <td>69</td>\n",
       "      <td>90</td>\n",
       "      <td>88</td>\n",
       "      <td>Fail</td>\n",
       "      <td>Pass</td>\n",
       "      <td>Pass</td>\n",
       "    </tr>\n",
       "    <tr>\n",
       "      <th>2</th>\n",
       "      <td>female</td>\n",
       "      <td>group B</td>\n",
       "      <td>master's degree</td>\n",
       "      <td>standard</td>\n",
       "      <td>none</td>\n",
       "      <td>single</td>\n",
       "      <td>sometimes</td>\n",
       "      <td>yes</td>\n",
       "      <td>4.0</td>\n",
       "      <td>school_bus</td>\n",
       "      <td>&lt; 5</td>\n",
       "      <td>87</td>\n",
       "      <td>93</td>\n",
       "      <td>91</td>\n",
       "      <td>Pass</td>\n",
       "      <td>Pass</td>\n",
       "      <td>Pass</td>\n",
       "    </tr>\n",
       "    <tr>\n",
       "      <th>3</th>\n",
       "      <td>male</td>\n",
       "      <td>group A</td>\n",
       "      <td>associate's degree</td>\n",
       "      <td>free/reduced</td>\n",
       "      <td>none</td>\n",
       "      <td>married</td>\n",
       "      <td>never</td>\n",
       "      <td>no</td>\n",
       "      <td>1.0</td>\n",
       "      <td>school_bus</td>\n",
       "      <td>5 - 10</td>\n",
       "      <td>45</td>\n",
       "      <td>56</td>\n",
       "      <td>42</td>\n",
       "      <td>Fail</td>\n",
       "      <td>Fail</td>\n",
       "      <td>Fail</td>\n",
       "    </tr>\n",
       "    <tr>\n",
       "      <th>4</th>\n",
       "      <td>male</td>\n",
       "      <td>group C</td>\n",
       "      <td>some college</td>\n",
       "      <td>standard</td>\n",
       "      <td>none</td>\n",
       "      <td>married</td>\n",
       "      <td>sometimes</td>\n",
       "      <td>yes</td>\n",
       "      <td>0.0</td>\n",
       "      <td>school_bus</td>\n",
       "      <td>5 - 10</td>\n",
       "      <td>76</td>\n",
       "      <td>78</td>\n",
       "      <td>75</td>\n",
       "      <td>Pass</td>\n",
       "      <td>Pass</td>\n",
       "      <td>Pass</td>\n",
       "    </tr>\n",
       "  </tbody>\n",
       "</table>\n",
       "</div>"
      ],
      "text/plain": [
       "   Gender EthnicGroup          ParentEduc     LunchType TestPrep  \\\n",
       "0  female     group C   bachelor's degree      standard     none   \n",
       "1  female     group C        some college      standard     none   \n",
       "2  female     group B     master's degree      standard     none   \n",
       "3    male     group A  associate's degree  free/reduced     none   \n",
       "4    male     group C        some college      standard     none   \n",
       "\n",
       "  ParentMaritalStatus PracticeSport IsFirstChild  NrSiblings TransportMeans  \\\n",
       "0             married     regularly          yes         3.0     school_bus   \n",
       "1             married     sometimes          yes         0.0     school_bus   \n",
       "2              single     sometimes          yes         4.0     school_bus   \n",
       "3             married         never           no         1.0     school_bus   \n",
       "4             married     sometimes          yes         0.0     school_bus   \n",
       "\n",
       "  WklyStudyHours  MathScore  ReadingScore  WritingScore MathResult  \\\n",
       "0            < 5         71            71            74       Pass   \n",
       "1         5 - 10         69            90            88       Fail   \n",
       "2            < 5         87            93            91       Pass   \n",
       "3         5 - 10         45            56            42       Fail   \n",
       "4         5 - 10         76            78            75       Pass   \n",
       "\n",
       "  ReadingResult WritingResult  \n",
       "0          Pass          Pass  \n",
       "1          Pass          Pass  \n",
       "2          Pass          Pass  \n",
       "3          Fail          Fail  \n",
       "4          Pass          Pass  "
      ]
     },
     "execution_count": 56,
     "metadata": {},
     "output_type": "execute_result"
    }
   ],
   "source": [
    "df.head()"
   ]
  },
  {
   "cell_type": "code",
   "execution_count": 57,
   "metadata": {},
   "outputs": [],
   "source": [
    "df_dummy = pd.get_dummies(df, columns=['Gender', 'LunchType', 'TestPrep', 'IsFirstChild','TransportMeans', \n",
    "                                      'EthnicGroup','ParentEduc','ParentMaritalStatus'],\n",
    "                          drop_first=True)\n",
    "df_dummy[\"WklyStudyHours\"] = [1 if x == '> 10' else 0 for x in df_dummy[\"WklyStudyHours\"]]\n",
    "\n",
    "df_dummy[\"PracticeSport\"] = [0 if x == 'never' else 1 for x in df_dummy[\"PracticeSport\"]]\n",
    "\n",
    "math_df = df_dummy.drop([\"ReadingResult\", \"WritingResult\", \"MathScore\"], axis = 1)\n",
    "\n",
    "math_df['HasSiblings'] = math_df['NrSiblings'].apply(lambda x: 1 if x > 0 else 0)\n",
    "\n",
    "math_df.drop('NrSiblings', axis=1, inplace=True)"
   ]
  },
  {
   "cell_type": "code",
   "execution_count": 58,
   "metadata": {},
   "outputs": [],
   "source": [
    "math_df['MathResultNum'] = np.where(math_df['MathResult'] == \"Pass\", 1, 0)"
   ]
  },
  {
   "cell_type": "code",
   "execution_count": 59,
   "metadata": {},
   "outputs": [],
   "source": [
    "from sklearn.preprocessing import MinMaxScaler\n",
    "\n",
    "scaler = MinMaxScaler()\n",
    "scale_math_df = math_df\n",
    "scale_math_df[['ReadingScore','WritingScore']] = scaler.fit_transform(math_df[['ReadingScore','WritingScore']])"
   ]
  },
  {
   "cell_type": "code",
   "execution_count": 60,
   "metadata": {},
   "outputs": [],
   "source": [
    "X = scale_math_df.drop(['MathResultNum','MathResult'], axis = 1)\n",
    "#X = scale_math_df[['Gender_male',\"LunchType_standard\",'WritingScore', 'ReadingScore','TestPrep_none']]\n",
    "y = scale_math_df['MathResultNum']"
   ]
  },
  {
   "cell_type": "markdown",
   "metadata": {},
   "source": [
    "<hr>"
   ]
  },
  {
   "cell_type": "markdown",
   "metadata": {},
   "source": [
    "# KNN - Updated"
   ]
  },
  {
   "cell_type": "code",
   "execution_count": 61,
   "metadata": {},
   "outputs": [],
   "source": [
    "knn = KNeighborsClassifier()"
   ]
  },
  {
   "cell_type": "code",
   "execution_count": 62,
   "metadata": {},
   "outputs": [
    {
     "data": {
      "text/plain": [
       "GridSearchCV(cv=5, estimator=KNeighborsClassifier(),\n",
       "             param_grid={'n_neighbors': [2, 3, 5, 7, 9, 11, 13, 15, 19]})"
      ]
     },
     "execution_count": 62,
     "metadata": {},
     "output_type": "execute_result"
    }
   ],
   "source": [
    "param_grid = {'n_neighbors':[2,3,5,7,9,11,13,15,19]}\n",
    "\n",
    "grid_search = GridSearchCV(knn, param_grid, cv = 5)\n",
    "grid_search.fit(X, y)"
   ]
  },
  {
   "cell_type": "code",
   "execution_count": 63,
   "metadata": {},
   "outputs": [
    {
     "name": "stdout",
     "output_type": "stream",
     "text": [
      "Grid Search Results\n",
      "Parameters: {'n_neighbors': 2} | Mean Accuracy: 0.7622142059302031\n",
      "Parameters: {'n_neighbors': 3} | Mean Accuracy: 0.7871155651746801\n",
      "Parameters: {'n_neighbors': 5} | Mean Accuracy: 0.7937733848454911\n",
      "Parameters: {'n_neighbors': 7} | Mean Accuracy: 0.796645181257447\n",
      "Parameters: {'n_neighbors': 9} | Mean Accuracy: 0.8009857259520825\n",
      "Parameters: {'n_neighbors': 11} | Mean Accuracy: 0.8053915607732277\n",
      "Parameters: {'n_neighbors': 13} | Mean Accuracy: 0.8070234092341038\n",
      "Parameters: {'n_neighbors': 15} | Mean Accuracy: 0.8075455758204692\n",
      "Parameters: {'n_neighbors': 19} | Mean Accuracy: 0.8109723675953935\n"
     ]
    }
   ],
   "source": [
    "grid_search_results = grid_search.cv_results_\n",
    "print('Grid Search Results')\n",
    "for mean_score, params in zip(grid_search_results['mean_test_score'], grid_search_results['params']):\n",
    "    print(f'Parameters: {params} | Mean Accuracy: {mean_score}')"
   ]
  },
  {
   "cell_type": "code",
   "execution_count": 64,
   "metadata": {},
   "outputs": [
    {
     "name": "stdout",
     "output_type": "stream",
     "text": [
      "KNeighborsClassifier(n_neighbors=19)\n"
     ]
    }
   ],
   "source": [
    "best_knn = grid_search.best_estimator_\n",
    "print(best_knn)"
   ]
  },
  {
   "cell_type": "code",
   "execution_count": 65,
   "metadata": {},
   "outputs": [],
   "source": [
    "from sklearn.model_selection import cross_val_score\n",
    "\n",
    "knn = KNeighborsClassifier(n_neighbors = 9)\n",
    "\n",
    "cross_val_scores = cross_val_score(knn, X, y, cv=10)"
   ]
  },
  {
   "cell_type": "code",
   "execution_count": 66,
   "metadata": {},
   "outputs": [
    {
     "name": "stdout",
     "output_type": "stream",
     "text": [
      "Cross-Validation Score: [0.78858075 0.8035248  0.80124021 0.81201044 0.79079634 0.80483029\n",
      " 0.8035248  0.80678851 0.82180157 0.79569191]\n"
     ]
    }
   ],
   "source": [
    "print('Cross-Validation Score:',cross_val_scores)"
   ]
  },
  {
   "cell_type": "code",
   "execution_count": 67,
   "metadata": {},
   "outputs": [
    {
     "name": "stdout",
     "output_type": "stream",
     "text": [
      "Average Accuracy 0.8028789627692425\n"
     ]
    }
   ],
   "source": [
    "avg_accuracy = cross_val_scores.mean()\n",
    "\n",
    "print('Average Accuracy', avg_accuracy)"
   ]
  },
  {
   "cell_type": "code",
   "execution_count": 68,
   "metadata": {},
   "outputs": [],
   "source": [
    "from sklearn.model_selection import cross_val_predict\n",
    "\n",
    "y_pred = cross_val_predict(knn, X, y, cv=10)"
   ]
  },
  {
   "cell_type": "code",
   "execution_count": 69,
   "metadata": {},
   "outputs": [
    {
     "name": "stdout",
     "output_type": "stream",
     "text": [
      "RMSE 0.44398367522620386\n"
     ]
    }
   ],
   "source": [
    "from sklearn.metrics import mean_squared_error\n",
    "\n",
    "mse = mean_squared_error(y,y_pred)\n",
    "rmse = np.sqrt(mse)\n",
    "print('RMSE', rmse)"
   ]
  },
  {
   "cell_type": "code",
   "execution_count": 70,
   "metadata": {},
   "outputs": [
    {
     "name": "stdout",
     "output_type": "stream",
     "text": [
      "Confusion Matrix [[14477  2783]\n",
      " [ 3257 10124]]\n"
     ]
    }
   ],
   "source": [
    "confusion_mat = confusion_matrix(y, y_pred)\n",
    "print('Confusion Matrix', confusion_mat)"
   ]
  },
  {
   "cell_type": "code",
   "execution_count": 71,
   "metadata": {},
   "outputs": [
    {
     "data": {
      "image/png": "[encoded data removed]",
      "text/plain": [
       "<Figure size 432x288 with 2 Axes>"
      ]
     },
     "metadata": {},
     "output_type": "display_data"
    }
   ],
   "source": [
    "sns.heatmap(confusion_mat, annot=True, fmt = 'd', cmap = 'mako')\n",
    "plt.xlabel('Predicted')\n",
    "plt.ylabel('True')\n",
    "plt.title('KNN Confusion Matrix')\n",
    "plt.show()"
   ]
  },
  {
   "cell_type": "code",
   "execution_count": 72,
   "metadata": {},
   "outputs": [
    {
     "name": "stdout",
     "output_type": "stream",
     "text": [
      "Accuracy 86.99781338729153 \n",
      "\n",
      "Sensitivity 85.4868843883118 \n",
      "\n",
      "Specificity 88.16917728852839 \n",
      "\n",
      "Precision 84.85275573028707 \n",
      "\n",
      "Recall 85.4868843883118 \n",
      "\n",
      "F1 - Score 85.16863971409427 \n",
      "\n",
      "RMSE 0.44398367522620386\n"
     ]
    }
   ],
   "source": [
    "TP = 11439 \n",
    "FP = 2042\n",
    "FN = 1942\n",
    "TN = 15218\n",
    "\n",
    "accuracy = (TP + TN)/ (TP + TN + FP + FN)\n",
    "sensitivity = TP / (TP+FN)\n",
    "specificity = TN / (TN+FP)\n",
    "precision = TP / (TP + FP)\n",
    "recall = TP / (TP + FN)\n",
    "f1_score = 2 * (precision * recall)/ (precision + recall)\n",
    "\n",
    "print('Accuracy', accuracy *100 ,'\\n')\n",
    "print('Sensitivity', sensitivity*100,'\\n')\n",
    "print('Specificity', specificity*100,'\\n')\n",
    "print('Precision', precision*100,'\\n')\n",
    "print('Recall', recall*100,'\\n')\n",
    "print('F1 - Score', f1_score*100,'\\n')\n",
    "print('RMSE', rmse)"
   ]
  },
  {
   "cell_type": "code",
   "execution_count": 113,
   "metadata": {},
   "outputs": [
    {
     "ename": "ValueError",
     "evalue": "Found input variables with inconsistent numbers of samples: [21448, 30641]",
     "output_type": "error",
     "traceback": [
      "\u001b[1;31m---------------------------------------------------------------------------\u001b[0m",
      "\u001b[1;31mValueError\u001b[0m                                Traceback (most recent call last)",
      "Input \u001b[1;32mIn [113]\u001b[0m, in \u001b[0;36m<cell line: 2>\u001b[1;34m()\u001b[0m\n\u001b[0;32m      1\u001b[0m \u001b[38;5;28;01mfrom\u001b[39;00m \u001b[38;5;21;01msklearn\u001b[39;00m\u001b[38;5;21;01m.\u001b[39;00m\u001b[38;5;21;01mmetrics\u001b[39;00m \u001b[38;5;28;01mimport\u001b[39;00m classification_report\n\u001b[1;32m----> 2\u001b[0m \u001b[38;5;28mprint\u001b[39m(\u001b[43mclassification_report\u001b[49m\u001b[43m(\u001b[49m\u001b[43my\u001b[49m\u001b[43m,\u001b[49m\u001b[43m \u001b[49m\u001b[43my_pred\u001b[49m\u001b[43m)\u001b[49m)\n\u001b[0;32m      3\u001b[0m \u001b[38;5;28mprint\u001b[39m(\u001b[38;5;124m\"\u001b[39m\u001b[38;5;124mNo Informaiton Rate\u001b[39m\u001b[38;5;124m\"\u001b[39m)\n\u001b[0;32m      4\u001b[0m \u001b[38;5;28mprint\u001b[39m(np\u001b[38;5;241m.\u001b[39mmean(\u001b[38;5;241m1\u001b[39m\u001b[38;5;241m-\u001b[39mmath_df[\u001b[38;5;124m\"\u001b[39m\u001b[38;5;124mMathResultNum\u001b[39m\u001b[38;5;124m\"\u001b[39m]))\n",
      "File \u001b[1;32m~\\anaconda3\\lib\\site-packages\\sklearn\\metrics\\_classification.py:2110\u001b[0m, in \u001b[0;36mclassification_report\u001b[1;34m(y_true, y_pred, labels, target_names, sample_weight, digits, output_dict, zero_division)\u001b[0m\n\u001b[0;32m   1998\u001b[0m \u001b[38;5;28;01mdef\u001b[39;00m \u001b[38;5;21mclassification_report\u001b[39m(\n\u001b[0;32m   1999\u001b[0m     y_true,\n\u001b[0;32m   2000\u001b[0m     y_pred,\n\u001b[1;32m   (...)\u001b[0m\n\u001b[0;32m   2007\u001b[0m     zero_division\u001b[38;5;241m=\u001b[39m\u001b[38;5;124m\"\u001b[39m\u001b[38;5;124mwarn\u001b[39m\u001b[38;5;124m\"\u001b[39m,\n\u001b[0;32m   2008\u001b[0m ):\n\u001b[0;32m   2009\u001b[0m     \u001b[38;5;124;03m\"\"\"Build a text report showing the main classification metrics.\u001b[39;00m\n\u001b[0;32m   2010\u001b[0m \n\u001b[0;32m   2011\u001b[0m \u001b[38;5;124;03m    Read more in the :ref:`User Guide <classification_report>`.\u001b[39;00m\n\u001b[1;32m   (...)\u001b[0m\n\u001b[0;32m   2107\u001b[0m \u001b[38;5;124;03m    <BLANKLINE>\u001b[39;00m\n\u001b[0;32m   2108\u001b[0m \u001b[38;5;124;03m    \"\"\"\u001b[39;00m\n\u001b[1;32m-> 2110\u001b[0m     y_type, y_true, y_pred \u001b[38;5;241m=\u001b[39m \u001b[43m_check_targets\u001b[49m\u001b[43m(\u001b[49m\u001b[43my_true\u001b[49m\u001b[43m,\u001b[49m\u001b[43m \u001b[49m\u001b[43my_pred\u001b[49m\u001b[43m)\u001b[49m\n\u001b[0;32m   2112\u001b[0m     \u001b[38;5;28;01mif\u001b[39;00m labels \u001b[38;5;129;01mis\u001b[39;00m \u001b[38;5;28;01mNone\u001b[39;00m:\n\u001b[0;32m   2113\u001b[0m         labels \u001b[38;5;241m=\u001b[39m unique_labels(y_true, y_pred)\n",
      "File \u001b[1;32m~\\anaconda3\\lib\\site-packages\\sklearn\\metrics\\_classification.py:84\u001b[0m, in \u001b[0;36m_check_targets\u001b[1;34m(y_true, y_pred)\u001b[0m\n\u001b[0;32m     57\u001b[0m \u001b[38;5;28;01mdef\u001b[39;00m \u001b[38;5;21m_check_targets\u001b[39m(y_true, y_pred):\n\u001b[0;32m     58\u001b[0m     \u001b[38;5;124;03m\"\"\"Check that y_true and y_pred belong to the same classification task.\u001b[39;00m\n\u001b[0;32m     59\u001b[0m \n\u001b[0;32m     60\u001b[0m \u001b[38;5;124;03m    This converts multiclass or binary types to a common shape, and raises a\u001b[39;00m\n\u001b[1;32m   (...)\u001b[0m\n\u001b[0;32m     82\u001b[0m \u001b[38;5;124;03m    y_pred : array or indicator matrix\u001b[39;00m\n\u001b[0;32m     83\u001b[0m \u001b[38;5;124;03m    \"\"\"\u001b[39;00m\n\u001b[1;32m---> 84\u001b[0m     \u001b[43mcheck_consistent_length\u001b[49m\u001b[43m(\u001b[49m\u001b[43my_true\u001b[49m\u001b[43m,\u001b[49m\u001b[43m \u001b[49m\u001b[43my_pred\u001b[49m\u001b[43m)\u001b[49m\n\u001b[0;32m     85\u001b[0m     type_true \u001b[38;5;241m=\u001b[39m type_of_target(y_true)\n\u001b[0;32m     86\u001b[0m     type_pred \u001b[38;5;241m=\u001b[39m type_of_target(y_pred)\n",
      "File \u001b[1;32m~\\anaconda3\\lib\\site-packages\\sklearn\\utils\\validation.py:332\u001b[0m, in \u001b[0;36mcheck_consistent_length\u001b[1;34m(*arrays)\u001b[0m\n\u001b[0;32m    330\u001b[0m uniques \u001b[38;5;241m=\u001b[39m np\u001b[38;5;241m.\u001b[39munique(lengths)\n\u001b[0;32m    331\u001b[0m \u001b[38;5;28;01mif\u001b[39;00m \u001b[38;5;28mlen\u001b[39m(uniques) \u001b[38;5;241m>\u001b[39m \u001b[38;5;241m1\u001b[39m:\n\u001b[1;32m--> 332\u001b[0m     \u001b[38;5;28;01mraise\u001b[39;00m \u001b[38;5;167;01mValueError\u001b[39;00m(\n\u001b[0;32m    333\u001b[0m         \u001b[38;5;124m\"\u001b[39m\u001b[38;5;124mFound input variables with inconsistent numbers of samples: \u001b[39m\u001b[38;5;132;01m%r\u001b[39;00m\u001b[38;5;124m\"\u001b[39m\n\u001b[0;32m    334\u001b[0m         \u001b[38;5;241m%\u001b[39m [\u001b[38;5;28mint\u001b[39m(l) \u001b[38;5;28;01mfor\u001b[39;00m l \u001b[38;5;129;01min\u001b[39;00m lengths]\n\u001b[0;32m    335\u001b[0m     )\n",
      "\u001b[1;31mValueError\u001b[0m: Found input variables with inconsistent numbers of samples: [21448, 30641]"
     ]
    }
   ],
   "source": [
    "from sklearn.metrics import classification_report\n",
    "print(classification_report(y, y_pred))\n",
    "print(\"No Informaiton Rate\")\n",
    "print(np.mean(1-math_df[\"MathResultNum\"]))"
   ]
  },
  {
   "cell_type": "code",
   "execution_count": 74,
   "metadata": {},
   "outputs": [],
   "source": [
    "from sklearn.metrics import roc_curve, auc\n",
    "y_scores = cross_val_predict(knn, X, y, cv= 10, method = 'predict_proba')[:,1]\n",
    "\n",
    "\n",
    "# false/true postive & threshold\n",
    "fpr, tpr, thresholds = roc_curve(y, y_scores)\n",
    "\n",
    "#roc calc\n",
    "roc_auc = auc(fpr, tpr)\n"
   ]
  },
  {
   "cell_type": "code",
   "execution_count": 75,
   "metadata": {},
   "outputs": [
    {
     "data": {
      "image/png": "[encoded data removed]",
      "text/plain": [
       "<Figure size 432x288 with 1 Axes>"
      ]
     },
     "metadata": {},
     "output_type": "display_data"
    }
   ],
   "source": [
    "plt.plot(fpr, tpr, label = 'ROC Curve(AUC = %0.2f)' % roc_auc)\n",
    "plt.plot([0,1],[0,1],'k--')\n",
    "plt.xlabel('False Positive Rate')\n",
    "plt.ylabel('True Positive Rate')\n",
    "plt.title('ROC Curve')\n",
    "plt.legend(loc= 'lower right')\n",
    "\n",
    "\n",
    "plt.show()"
   ]
  },
  {
   "cell_type": "markdown",
   "metadata": {},
   "source": [
    "## Model Evaluation on Test Set: Top Features"
   ]
  },
  {
   "cell_type": "code",
   "execution_count": 109,
   "metadata": {},
   "outputs": [],
   "source": [
    "#Test Set\n",
    "X = Train_entire.drop([\"EthnicGroup\", \"ParentEduc\", \"ParentMaritalStatus\", \"MathResult\", \"HasSiblings\",\"MathResultNum\"], axis = 1)\n",
    "y = Train_entire.MathResultNum\n",
    "XT = Test_entire.drop([\"EthnicGroup\", \"ParentEduc\", \"ParentMaritalStatus\", \"MathResult\", \"HasSiblings\",\"MathResultNum\"], axis = 1)\n",
    "actual = Test_entire.MathResultNum \n",
    "\n"
   ]
  },
  {
   "cell_type": "code",
   "execution_count": 112,
   "metadata": {},
   "outputs": [
    {
     "name": "stdout",
     "output_type": "stream",
     "text": [
      "Logistic Classification Report:\n",
      "              precision    recall  f1-score   support\n",
      "\n",
      "           0       0.92      0.87      0.89      5131\n",
      "           1       0.84      0.90      0.87      4062\n",
      "\n",
      "    accuracy                           0.88      9193\n",
      "   macro avg       0.88      0.88      0.88      9193\n",
      "weighted avg       0.89      0.88      0.88      9193\n",
      "\n",
      "KNN Classification Report:\n",
      "              precision    recall  f1-score   support\n",
      "\n",
      "           0       0.87      0.88      0.87      5131\n",
      "           1       0.84      0.84      0.84      4062\n",
      "\n",
      "    accuracy                           0.86      9193\n",
      "   macro avg       0.86      0.86      0.86      9193\n",
      "weighted avg       0.86      0.86      0.86      9193\n",
      "\n",
      "RandomForest Classification Report:\n",
      "              precision    recall  f1-score   support\n",
      "\n",
      "           0       0.88      0.90      0.89      5131\n",
      "           1       0.87      0.85      0.86      4062\n",
      "\n",
      "    accuracy                           0.88      9193\n",
      "   macro avg       0.87      0.87      0.87      9193\n",
      "weighted avg       0.87      0.88      0.87      9193\n",
      "\n"
     ]
    }
   ],
   "source": [
    "import warnings\n",
    "\n",
    "# Suppress warning messages\n",
    "warnings.filterwarnings(\"ignore\")\n",
    "\n",
    "#Logistic Model\n",
    "log_model = LogisticRegression(random_state=1).fit(X,y)\n",
    "threshold = 0.3886995893248815\n",
    "\n",
    "log_clf_probs = log_model.predict_proba(XT)[:,1]\n",
    "log_preds = np.where(log_clf_probs >= threshold, 1, 0)\n",
    "\n",
    "print(\"Logistic Classification Report:\")\n",
    "print(classification_report(actual, log_preds))\n",
    "\n",
    "# KNN Model\n",
    "knn = KNeighborsClassifier(n_neighbors = 9)\n",
    "knn_pred = knn.fit(X,y).predict(XT)\n",
    "print(\"KNN Classification Report:\")\n",
    "print(classification_report(actual, knn_pred))\n",
    "\n",
    "#RandomForest\n",
    "RF_model = RandomForestClassifier(random_state = 1, max_depth = 5, n_estimators = 200).fit(X,y)\n",
    "predsProbs = RF_model.predict(XT)\n",
    "RF_preds = list(map(round,predsProbs))\n",
    "print(\"RandomForest Classification Report:\")\n",
    "print(classification_report(actual, RF_preds))\n",
    "\n",
    "\n",
    "\n",
    "\n"
   ]
  },
  {
   "cell_type": "markdown",
   "metadata": {},
   "source": [
    "<hr>"
   ]
  },
  {
   "cell_type": "markdown",
   "metadata": {},
   "source": [
    "# Task 2: Full Features"
   ]
  },
  {
   "cell_type": "markdown",
   "metadata": {},
   "source": [
    "### Dataframe of full features"
   ]
  },
  {
   "cell_type": "code",
   "execution_count": 117,
   "metadata": {},
   "outputs": [],
   "source": [
    "df_dummy = pd.get_dummies(df, columns=['Gender','EthnicGroup', 'LunchType', 'TestPrep',\"ParentMaritalStatus\", 'IsFirstChild','TransportMeans',\"ParentEduc\"],\n",
    "                          drop_first=True)\n",
    "df_dummy[\"WklyStudyHours\"] = [1 if x == '> 10' else 0 for x in df_dummy[\"WklyStudyHours\"]]\n",
    "\n",
    "df_dummy[\"PracticeSport\"] = [0 if x == 'never' else 1 for x in df_dummy[\"PracticeSport\"]]\n",
    "\n",
    "math_df = df_dummy.drop([\"ReadingResult\", \"WritingResult\", \"MathScore\"], axis = 1)\n",
    "\n",
    "math_df['HasSiblings'] = math_df['NrSiblings'].apply(lambda x: 1 if x > 0 else 0)\n",
    "\n"
   ]
  },
  {
   "cell_type": "markdown",
   "metadata": {},
   "source": [
    "### Nomralize Features"
   ]
  },
  {
   "cell_type": "code",
   "execution_count": 154,
   "metadata": {},
   "outputs": [],
   "source": [
    "scaler = MinMaxScaler()\n",
    "scale_math_df = math_df\n",
    "scale_math_df[['ReadingScore','WritingScore',\"NrSiblings\"]] = scaler.fit_transform(scale_math_df[['ReadingScore','WritingScore',\"NrSiblings\"]])\n"
   ]
  },
  {
   "cell_type": "code",
   "execution_count": 155,
   "metadata": {},
   "outputs": [],
   "source": [
    "scale_math_df['MathResultNum'] = np.where(scale_math_df['MathResult'] == \"Pass\", 1, 0)\n",
    "scale_math_df = scale_math_df.drop([\"MathResult\"], axis = 1)\n"
   ]
  },
  {
   "cell_type": "markdown",
   "metadata": {},
   "source": [
    "### Train and Test Split"
   ]
  },
  {
   "cell_type": "code",
   "execution_count": 161,
   "metadata": {},
   "outputs": [],
   "source": [
    "from sklearn.model_selection import train_test_split\n",
    "\n",
    "Train, Test= train_test_split(scale_math_df, train_size = .7, test_size= .3, random_state=5)"
   ]
  },
  {
   "cell_type": "code",
   "execution_count": 167,
   "metadata": {},
   "outputs": [],
   "source": [
    "X_train = Train.drop(\"MathResultNum\",axis=1)\n",
    "y_train = Train.MathResultNum\n",
    "XT = Test.drop(\"MathResultNum\",axis=1)\n",
    "actual = Test.MathResultNum"
   ]
  },
  {
   "cell_type": "markdown",
   "metadata": {},
   "source": [
    "### Classification Reports (External Cross Validation)"
   ]
  },
  {
   "cell_type": "code",
   "execution_count": 168,
   "metadata": {},
   "outputs": [
    {
     "name": "stdout",
     "output_type": "stream",
     "text": [
      "Logistic Classification Report:\n",
      "              precision    recall  f1-score   support\n",
      "\n",
      "           0       0.89      0.90      0.90      5131\n",
      "           1       0.88      0.86      0.87      4062\n",
      "\n",
      "    accuracy                           0.89      9193\n",
      "   macro avg       0.88      0.88      0.88      9193\n",
      "weighted avg       0.89      0.89      0.89      9193\n",
      "\n",
      "KNN Classification Report:\n",
      "              precision    recall  f1-score   support\n",
      "\n",
      "           0       0.79      0.82      0.81      5131\n",
      "           1       0.76      0.72      0.74      4062\n",
      "\n",
      "    accuracy                           0.78      9193\n",
      "   macro avg       0.78      0.77      0.77      9193\n",
      "weighted avg       0.78      0.78      0.78      9193\n",
      "\n",
      "RandomForest Classification Report:\n",
      "              precision    recall  f1-score   support\n",
      "\n",
      "           0       0.85      0.90      0.87      5131\n",
      "           1       0.86      0.81      0.83      4062\n",
      "\n",
      "    accuracy                           0.86      9193\n",
      "   macro avg       0.86      0.85      0.85      9193\n",
      "weighted avg       0.86      0.86      0.86      9193\n",
      "\n"
     ]
    }
   ],
   "source": [
    "from sklearn.preprocessing import StandardScaler\n",
    "from sklearn.pipeline import make_pipeline\n",
    "\n",
    "log_model = LogisticRegression(random_state=1).fit(X_train,y_train)\n",
    "log_preds = log_model.predict(XT)\n",
    "\n",
    "\n",
    "KNN = KNeighborsClassifier(n_neighbors = 9)\n",
    "knn_preds = KNN.fit(X_train,y_train).predict(XT)\n",
    "\n",
    "RF = make_pipeline(StandardScaler(),RandomForestClassifier(random_state = 1, max_depth = 5, n_estimators = 200))\n",
    "RF_preds = RF.fit(X_train,y_train).predict(XT)\n",
    "\n",
    "print(\"Logistic Classification Report:\")\n",
    "print(classification_report(actual, log_preds))\n",
    "print(\"KNN Classification Report:\")\n",
    "print(classification_report(actual, knn_preds))\n",
    "print(\"RandomForest Classification Report:\")\n",
    "print(classification_report(actual, RF_preds))"
   ]
  },
  {
   "cell_type": "markdown",
   "metadata": {},
   "source": [
    "# Full Conclusion"
   ]
  },
  {
   "cell_type": "code",
   "execution_count": null,
   "metadata": {},
   "outputs": [],
   "source": []
  },
  {
   "cell_type": "markdown",
   "metadata": {},
   "source": [
    "<hr>"
   ]
  },
  {
   "cell_type": "markdown",
   "metadata": {},
   "source": [
    "# Deployment"
   ]
  },
  {
   "cell_type": "markdown",
   "metadata": {},
   "source": [
    "**How useful is your model for interested parties?**\n",
    "- The intended beneficiaries of our modeling process are educational institutions, school districts, and students requiring special attention, either for their exceptional talent or for additional support. We posit that our model can effectively identify knowledge gaps and determine the need for supplementary assistance to succeed in mathematics tests. Given that mathematics tests serve as key indicators of aptitude for pursuing careers in engineering or data science, our model holds potential value for companies seeking to target students for enhanced preparation or identify the growth potential within school districts. This type of modeling holds significant importance for all students, as it enables them to ascertain their current academic standing—an essential aspect in today's rapidly evolving world. By assisting students in achieving their goal of passing mathematics tests or attaining satisfactory scores, our model offers substantial utility.\n",
    "\n",
    "**How would you measure the models's value if it was used by these parties?**\n",
    "- The efficacy of our model lies in its ability to accurately predict whether a student will successfully pass their mathematics test. However, building trust in our model may present some challenges, as stakeholders might have concerns regarding confidence levels. Therefore, it is crucial for us to ensure the provision of reliable confidence intervals. It is essential to approach the identification of students in need of additional support with sensitivity, as individuals, including parents, may be averse to being labeled as failures or requiring extra assistance. Consequently, we must prioritize the accuracy of our model in identifying students who require support to succeed.\n",
    "\n",
    "- Drawing from my own expertise in the field, it is worth noting that schools are assessed based on their performance in tests. While test performance holds significance for all students, it has become particularly critical in the post-COVID era, where the successful completion of state exams has become a prerequisite for advancing to the next grade. Our model can play a pivotal role in early identification of students who may require additional tutoring, particularly after the first and third mid-semester exams. By promptly recognizing such students and assigning them appropriate tutoring resources, we can significantly enhance their chances of passing the state exams.\n",
    "\n",
    "**How would you deploy your model for interested parties?**\n",
    "- In implementing this model, my initial focus would be on utilizing it to monitor the progress of at-risk students in preparation for the state exams. To ensure transparency and gain necessary approvals, I would seek permission and present the model's methodology to district personnel or individuals knowledgeable in its workings. Subsequently, I would collaborate with the data department to acquire relevant data, enabling us to further enhance and refine the model's training. Once ready, I would deploy the model through the district's data portal, providing teachers with the ability to identify students who may be at risk of underperforming.\n",
    "\n",
    "- By targeting at-risk students and closely monitoring their progress using this model, we can effectively intervene and provide timely support to improve their chances of success in the state exams. The step-by-step process outlined above ensures compliance, data integrity, and the seamless integration of the model into the existing infrastructure of the educational system.\n",
    "\n",
    "\n",
    "**What other data should be collected?** \n",
    "- In addition to academic performance data, collecting additional relevant data can provide valuable insights for a comprehensive understanding of the students. Some suggested data that could be considered are:\n",
    "\n",
    "- Physical characteristics: Gathering information such as age, gender, ethnicity, and health status can help identify potential patterns or correlations between these factors and academic performance.\n",
    "\n",
    "- Emotional profiles: Assessing students' emotional well-being, self-esteem, motivation, and attitudes towards learning can provide insights into their overall socio-emotional development and how it may impact their academic performance.\n",
    "\n",
    "- Survey data on home life and cultural background: Understanding students' home environments, including parental education levels, socioeconomic status, and cultural factors, can contribute to a more holistic analysis. This data can shed light on potential external influences that may affect a student's learning experience.\n",
    "\n",
    "- Collecting this additional data can enrich the analysis and help identify potential factors beyond academic knowledge that may contribute to a student's performance. However, it is important to prioritize privacy and obtain appropriate consent when collecting sensitive information, ensuring compliance with ethical guidelines and regulations.\n",
    "\n",
    "**How often would the model need to be updated?**\n",
    "- To ensure the model remains effective and relevant, regular updates are essential. Given the proposed timeline and the availability of new data, it is recommended to update the model on an annual basis. By updating the model annually, it allows for the incorporation of new training data from diverse students, which helps to improve the model's accuracy and adaptability over time.\n",
    "\n",
    "- Updating the model yearly also accounts for potential changes in educational practices, curriculum, and testing standards that may impact the predictive power of the model. It enables the inclusion of the most up-to-date information and ensures the model remains aligned with current educational requirements.\n",
    "\n",
    "- However, the specific frequency of updates may vary depending on factors such as the availability of new data, changes in student demographics, and advancements in modeling techniques. Regular monitoring and evaluation should be conducted to assess the need for more frequent updates or adjustments to the update schedule to maintain the model's efficacy."
   ]
  },
  {
   "cell_type": "code",
   "execution_count": null,
   "metadata": {},
   "outputs": [],
   "source": []
  }
 ],
 "metadata": {
  "colab": {
   "provenance": []
  },
  "kernelspec": {
   "display_name": "Python 3 (ipykernel)",
   "language": "python",
   "name": "python3"
  },
  "language_info": {
   "codemirror_mode": {
    "name": "ipython",
    "version": 3
   },
   "file_extension": ".py",
   "mimetype": "text/x-python",
   "name": "python",
   "nbconvert_exporter": "python",
   "pygments_lexer": "ipython3",
   "version": "3.9.12"
  }
 },
 "nbformat": 4,
 "nbformat_minor": 4
}
