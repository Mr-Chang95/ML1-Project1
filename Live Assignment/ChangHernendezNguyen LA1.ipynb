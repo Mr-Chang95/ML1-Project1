{
 "cells": [
  {
   "cell_type": "code",
   "execution_count": 7,
   "metadata": {},
   "outputs": [
    {
     "data": {
      "text/html": [
       "<link href='https://fonts.googleapis.com/css?family=Passion+One' rel='stylesheet' type='text/css'><style>div.attn { font-family: 'Helvetica Neue'; font-size: 30px; line-height: 40px; color: #FFFFFF; text-align: center; margin: 30px 0; border-width: 10px 0; border-style: solid; border-color: #5AAAAA; padding: 30px 0; background-color: #DDDDFF; }hr { border: 0; background-color: #ffffff; border-top: 1px solid black; }hr.major { border-top: 10px solid #5AAA5A; }hr.minor { border: none; background-color: #ffffff; border-top: 5px dotted #CC3333; }div.bubble { width: 65%; padding: 20px; background: #DDDDDD; border-radius: 15px; margin: 0 auto; font-style: italic; color: #f00; }em { color: #AAA; }div.c1{visibility:hidden;margin:0;height:0;}div.note{color:red;}</style>"
      ],
      "text/plain": [
       "<IPython.core.display.HTML object>"
      ]
     },
     "execution_count": 7,
     "metadata": {},
     "output_type": "execute_result"
    }
   ],
   "source": [
    "#  Ebnable HTML/CSS \n",
    "from IPython.core.display import HTML\n",
    "HTML(\"<link href='https://fonts.googleapis.com/css?family=Passion+One' rel='stylesheet' type='text/css'><style>div.attn { font-family: 'Helvetica Neue'; font-size: 30px; line-height: 40px; color: #FFFFFF; text-align: center; margin: 30px 0; border-width: 10px 0; border-style: solid; border-color: #5AAAAA; padding: 30px 0; background-color: #DDDDFF; }hr { border: 0; background-color: #ffffff; border-top: 1px solid black; }hr.major { border-top: 10px solid #5AAA5A; }hr.minor { border: none; background-color: #ffffff; border-top: 5px dotted #CC3333; }div.bubble { width: 65%; padding: 20px; background: #DDDDDD; border-radius: 15px; margin: 0 auto; font-style: italic; color: #f00; }em { color: #AAA; }div.c1{visibility:hidden;margin:0;height:0;}div.note{color:red;}</style>\")"
   ]
  },
  {
   "cell_type": "markdown",
   "metadata": {},
   "source": [
    "___\n",
    "Enter Team Member Names here (double click to edit):\n",
    "\n",
    "- Name 1: Vo Nguyen\n"
   ]
  },
  {
   "cell_type": "markdown",
   "metadata": {},
   "source": [
    "# In Class Assignment One\n",
    "In the following assignment you will be asked to fill in python code and derivations for a number of different problems. Please read all instructions carefully and turn in the rendered notebook (or HTML of the rendered notebook)  before the end of class (or right after class). The initial portion of this notebook is given before class and the remainder is given during class. Please answer the initial questions before class. Once class has started you may rework your answers as a team for the initial part of the assignment. \n",
    "\n",
    "<a id=\"top\"></a>\n",
    "## Contents\n",
    "* <a href=\"#Loading\">Loading the Data</a>\n",
    "* <a href=\"#linearnumpy\">Linear Regression</a>\n",
    "* <a href=\"#sklearn\">Using Scikit Learn for Regression</a>\n",
    "* <a href=\"#classification\">Linear Classification</a>\n",
    "\n",
    "________________________________________________________________________________________________________\n",
    "\n",
    "<a id=\"Loading\"></a>\n",
    "<a href=\"#top\">Back to Top</a>\n",
    "## Loading the Data\n",
    "Please run the following code to read in the \"diabetes\" dataset from sklearn's data loading module. \n",
    "\n",
    "This will load the data into the variable `ds`. `ds` is a dictionary object with fields like `ds.data`, which is a matrix of the continuous features in the dataset. The object is not a pandas dataframe. It is a numpy matrix. Each row is a set of observed instances, each column is a different feature. It also has a field called `ds.target` that is a continuous value we are trying to predict. Each entry in `ds.target` is a label for each row of the `ds.data` matrix. "
   ]
  },
  {
   "cell_type": "code",
   "execution_count": 36,
   "metadata": {},
   "outputs": [
    {
     "name": "stdout",
     "output_type": "stream",
     "text": [
      "features shape: (442, 10) format is: ('rows', 'columns')\n",
      "range of target: 25.0 346.0\n"
     ]
    }
   ],
   "source": [
    "from __future__ import print_function\n",
    "from sklearn.datasets import load_diabetes\n",
    "import numpy as np\n",
    "import pandas as pd\n",
    "\n",
    "ds = load_diabetes()\n",
    "\n",
    "# this holds the continuous feature data\n",
    "# because ds.data is a matrix, there are some special properties we can access (like 'shape')\n",
    "print('features shape:', ds.data.shape, 'format is:', ('rows','columns')) # there are 442 instances and 10 features per instance\n",
    "print('range of target:', np.min(ds.target),np.max(ds.target))"
   ]
  },
  {
   "cell_type": "code",
   "execution_count": 31,
   "metadata": {},
   "outputs": [
    {
     "name": "stdout",
     "output_type": "stream",
     "text": [
      "array([[ 0.03807591,  0.05068012,  0.06169621, ..., -0.00259226,\n",
      "         0.01990749, -0.01764613],\n",
      "       [-0.00188202, -0.04464164, -0.05147406, ..., -0.03949338,\n",
      "        -0.06833155, -0.09220405],\n",
      "       [ 0.08529891,  0.05068012,  0.04445121, ..., -0.00259226,\n",
      "         0.00286131, -0.02593034],\n",
      "       ...,\n",
      "       [ 0.04170844,  0.05068012, -0.01590626, ..., -0.01107952,\n",
      "        -0.04688253,  0.01549073],\n",
      "       [-0.04547248, -0.04464164,  0.03906215, ...,  0.02655962,\n",
      "         0.04452873, -0.02593034],\n",
      "       [-0.04547248, -0.04464164, -0.0730303 , ..., -0.03949338,\n",
      "        -0.00422151,  0.00306441]])\n",
      "array([151.,  75., 141., 206., 135.,  97., 138.,  63., 110., 310., 101.,\n",
      "        69., 179., 185., 118., 171., 166., 144.,  97., 168.,  68.,  49.,\n",
      "        68., 245., 184., 202., 137.,  85., 131., 283., 129.,  59., 341.,\n",
      "        87.,  65., 102., 265., 276., 252.,  90., 100.,  55.,  61.,  92.,\n",
      "       259.,  53., 190., 142.,  75., 142., 155., 225.,  59., 104., 182.,\n",
      "       128.,  52.,  37., 170., 170.,  61., 144.,  52., 128.,  71., 163.,\n",
      "       150.,  97., 160., 178.,  48., 270., 202., 111.,  85.,  42., 170.,\n",
      "       200., 252., 113., 143.,  51.,  52., 210.,  65., 141.,  55., 134.,\n",
      "        42., 111.,  98., 164.,  48.,  96.,  90., 162., 150., 279.,  92.,\n",
      "        83., 128., 102., 302., 198.,  95.,  53., 134., 144., 232.,  81.,\n",
      "       104.,  59., 246., 297., 258., 229., 275., 281., 179., 200., 200.,\n",
      "       173., 180.,  84., 121., 161.,  99., 109., 115., 268., 274., 158.,\n",
      "       107.,  83., 103., 272.,  85., 280., 336., 281., 118., 317., 235.,\n",
      "        60., 174., 259., 178., 128.,  96., 126., 288.,  88., 292.,  71.,\n",
      "       197., 186.,  25.,  84.,  96., 195.,  53., 217., 172., 131., 214.,\n",
      "        59.,  70., 220., 268., 152.,  47.,  74., 295., 101., 151., 127.,\n",
      "       237., 225.,  81., 151., 107.,  64., 138., 185., 265., 101., 137.,\n",
      "       143., 141.,  79., 292., 178.,  91., 116.,  86., 122.,  72., 129.,\n",
      "       142.,  90., 158.,  39., 196., 222., 277.,  99., 196., 202., 155.,\n",
      "        77., 191.,  70.,  73.,  49.,  65., 263., 248., 296., 214., 185.,\n",
      "        78.,  93., 252., 150.,  77., 208.,  77., 108., 160.,  53., 220.,\n",
      "       154., 259.,  90., 246., 124.,  67.,  72., 257., 262., 275., 177.,\n",
      "        71.,  47., 187., 125.,  78.,  51., 258., 215., 303., 243.,  91.,\n",
      "       150., 310., 153., 346.,  63.,  89.,  50.,  39., 103., 308., 116.,\n",
      "       145.,  74.,  45., 115., 264.,  87., 202., 127., 182., 241.,  66.,\n",
      "        94., 283.,  64., 102., 200., 265.,  94., 230., 181., 156., 233.,\n",
      "        60., 219.,  80.,  68., 332., 248.,  84., 200.,  55.,  85.,  89.,\n",
      "        31., 129.,  83., 275.,  65., 198., 236., 253., 124.,  44., 172.,\n",
      "       114., 142., 109., 180., 144., 163., 147.,  97., 220., 190., 109.,\n",
      "       191., 122., 230., 242., 248., 249., 192., 131., 237.,  78., 135.,\n",
      "       244., 199., 270., 164.,  72.,  96., 306.,  91., 214.,  95., 216.,\n",
      "       263., 178., 113., 200., 139., 139.,  88., 148.,  88., 243.,  71.,\n",
      "        77., 109., 272.,  60.,  54., 221.,  90., 311., 281., 182., 321.,\n",
      "        58., 262., 206., 233., 242., 123., 167.,  63., 197.,  71., 168.,\n",
      "       140., 217., 121., 235., 245.,  40.,  52., 104., 132.,  88.,  69.,\n",
      "       219.,  72., 201., 110.,  51., 277.,  63., 118.,  69., 273., 258.,\n",
      "        43., 198., 242., 232., 175.,  93., 168., 275., 293., 281.,  72.,\n",
      "       140., 189., 181., 209., 136., 261., 113., 131., 174., 257.,  55.,\n",
      "        84.,  42., 146., 212., 233.,  91., 111., 152., 120.,  67., 310.,\n",
      "        94., 183.,  66., 173.,  72.,  49.,  64.,  48., 178., 104., 132.,\n",
      "       220.,  57.])\n"
     ]
    }
   ],
   "source": [
    "from pprint import pprint\n",
    "\n",
    "# we can set the fields inside of ds and set them to new variables in python\n",
    "pprint(df.data) # prints out elements of the matrix\n",
    "pprint(df.target) # prints the vector (all 442 items)"
   ]
  },
  {
   "cell_type": "markdown",
   "metadata": {},
   "source": [
    "________________________________________________________________________________________________________\n",
    "<a id=\"linearnumpy\"></a>\n",
    "<a href=\"#top\">Back to Top</a>\n",
    "## Using Linear Regression \n",
    "In the videos, we derived the formula for calculating the optimal values of the regression weights (you must be connected to the internet for this equation to show up properly):\n",
    "\n",
    "$$ w = (X^TX)^{-1}X^Ty $$\n",
    "\n",
    "where $X$ is the matrix of values with a bias column of ones appended onto it. For the diabetes dataset one could construct this $X$ matrix by stacking a column of ones onto the `ds.data` matrix. \n",
    "\n",
    "$$ X=\\begin{bmatrix}\n",
    "         & \\vdots &        &  1 \\\\\n",
    "        \\dotsb & \\text{ds.data} & \\dotsb &  \\vdots\\\\\n",
    "         & \\vdots &         &  1\\\\\n",
    "     \\end{bmatrix}\n",
    "$$\n",
    "\n",
    "**Question 1:** For the diabetes dataset, how many elements will the vector $w$ contain?"
   ]
  },
  {
   "cell_type": "code",
   "execution_count": 83,
   "metadata": {},
   "outputs": [
    {
     "name": "stdout",
     "output_type": "stream",
     "text": [
      "features shape: (442, 10) format is: ('rows', 'columns')\n",
      "For the diabetes dataset, we have 11 elements in the vector w.\n"
     ]
    }
   ],
   "source": [
    "# Enter your answer here (or write code to calculate it)\n",
    "\n",
    "#there are 10 columns but we need one bias column\n",
    "#to see the rows[0] and [1] to see the columns\n",
    "#then add one for the bias\n",
    "\n",
    "print('features shape:', ds.data.shape, 'format is:', ('rows','columns')) # there are 442 instances and 10 features per instance\n",
    "\n",
    "#Find the number of columns: shape[1] to find the number of columns\n",
    "df.data.shape[1]\n",
    "\n",
    "#Ffind the number of rows: shape[0] to find the number of rows\n",
    "df.data.shape[0]\n",
    "\n",
    "w = (df.data.shape[1]+1)\n",
    "\n",
    "print(\"For the diabetes dataset, we have\", w, \"elements in the vector w. because we are takingt eh number of attributes and adding a bias\")"
   ]
  },
  {
   "cell_type": "markdown",
   "metadata": {},
   "source": [
    "### Question #1\n",
    "\n",
    "w is a weight vector our matrix multiple for linear regression. From the video the professor proved that the weight vector is just a matrix multiplcation of the number of attributes + 1 multiply by the rows or (n+1) rows to get the weight matrix scalar multiplication. Thus, if we know the number of column to be 10 then we know that (N+1)(N+1) will be (10 + 1)(10 + 1) or 11 * 11 or 121 will be the number of element in the w vector."
   ]
  },
  {
   "cell_type": "markdown",
   "metadata": {},
   "source": [
    "________________________________________________________________________________________________________\n",
    "\n",
    "**Exercise 1:** In the following empty cell, use this equation and numpy matrix operations to find the values of the vector $w$. You will need to be sure $X$ and $y$ are created like the instructor talked about in the video. Don't forget to include any modifications to $X$ to account for the bias term in $w$. You might be interested in the following functions:\n",
    "\n",
    "- `np.hstack((mat1,mat2))` stack two matrices horizontally, to create a new matrix\n",
    "- `np.ones((rows,cols))` create a matrix full of ones\n",
    "- `my_mat.T` takes transpose of numpy matrix named `my_mat`\n",
    "- `np.dot(mat1,mat2)` is matrix multiplication for two matrices\n",
    "- `np.linalg.inv(mat)` gets the inverse of the variable `mat`"
   ]
  },
  {
   "cell_type": "code",
   "execution_count": 85,
   "metadata": {},
   "outputs": [
    {
     "name": "stdout",
     "output_type": "stream",
     "text": [
      "[ -10.0098663  -239.81564367  519.84592005  324.3846455  -792.17563855\n",
      "  476.73902101  101.04326794  177.06323767  751.27369956   67.62669218\n",
      "  152.13348416]\n",
      "The number of elements for w is 11\n"
     ]
    }
   ],
   "source": [
    "### Exercise 1\n",
    "\n",
    "# Write you code here, print the values of the regression weights using the 'print()' function in python\n",
    "\n",
    "ones = np.ones(( ds.data.shape[0], 1))\n",
    "X = np.concatenate((ds.data,ones),axis=1)\n",
    "#X.T will be the Transpose\n",
    "Xtranpose = X.T\n",
    "\n",
    "#Matrix Multiplication\n",
    "xmultiply = np.dot(X.T,X)\n",
    "\n",
    "#Inverse Multiplication\n",
    "xtxinverse =  np.linalg.inv((xmultiply))\n",
    "XT =  np.dot(xtxinverse,X.T)\n",
    "\n",
    "#y is ds.target\n",
    "y = ds.target\n",
    "\n",
    "wvector= xmultiply = np.dot(XT,y)\n",
    "\n",
    "print(wvector)\n",
    "print(\"The number of elements for w is 11\")"
   ]
  },
  {
   "cell_type": "markdown",
   "metadata": {},
   "source": [
    "\n",
    "___\n",
    "<a id=\"sklearn\"></a>\n",
    "<a href=\"#top\">Back to Top</a>\n",
    "# Start of Live Session Coding\n",
    "\n",
    "**Exercise 2:** Scikit-learn also has a linear regression fitting implementation. Look at the scikit learn API and learn to use the linear regression method. The API is here: \n",
    "\n",
    "- API Reference: http://scikit-learn.org/stable/modules/generated/sklearn.linear_model.LinearRegression.html\n",
    "\n",
    "Use the sklearn `LinearRegression` module to check your results from the previous question. \n",
    "\n",
    "**Question 2**: Did you get the same parameters? "
   ]
  },
  {
   "cell_type": "code",
   "execution_count": 81,
   "metadata": {
    "tags": []
   },
   "outputs": [
    {
     "name": "stdout",
     "output_type": "stream",
     "text": [
      "The weights or coefficients of the x are: [ -10.0098663  -239.81564367  519.84592005  324.3846455  -792.17563855\n",
      "  476.73902101  101.04326794  177.06323767  751.27369956   67.62669218]\n",
      "THe coefficients we got from running a linear regression using sklearn is the same as doing the matrix multiplcation using the w vector\n"
     ]
    }
   ],
   "source": [
    "from sklearn.linear_model import LinearRegression\n",
    "\n",
    "# write your code here, print the values of model by accessing \n",
    "#    its properties that you looked up from the API\n",
    "\n",
    "# Create the Model\n",
    "linearmodel = LinearRegression()\n",
    "\n",
    "#Fit the model to the data\n",
    "linearmodel.fit(ds.data,y)\n",
    "\n",
    "#Extract coefficients\n",
    "coefficients = linearmodel.coef_\n",
    "\n",
    "print(\"The weights or coefficients of the x are:\", coefficients)\n",
    "print(\"The coefficients we got from running a linear regression using sklearn is the same as doing the matrix multiplcation using the w vector; therefore, we have the same parameters.\")"
   ]
  },
  {
   "cell_type": "markdown",
   "metadata": {},
   "source": [
    "________________________________________________________________________________________________________\n",
    "\n",
    "Recall that to predict the output from our model, $\\hat{y}$, from $w$ and $X$ we need to use the following formula:\n",
    "\n",
    "- $\\hat{y}=w^TX^T$\n",
    "\n",
    "Where $X$ is a matrix with example instances in *each row* of the matrix. \n",
    "\n",
    "**Exercise 3:** \n",
    "- *Part A:* Use matrix multiplication to predict output using numpy, $\\hat{y}_{numpy}$ and also using the sklearn regression object, $\\hat{y}_{sklearn}$.\n",
    " - **Note**: you may need to make the regression weights a column vector using the following code: `w = w.reshape((len(w),1))` This assumes your weights vector is assigned to the variable named `w`.\n",
    "- *Part B:* Calculate the mean squared error between your prediction from numpy and the target, $\\sum_i(y-\\hat{y}_{numpy})^2$. \n",
    "- *Part C:* Calculate the mean squared error between your sklearn prediction and the target, $\\sum_i(y-\\hat{y}_{sklearn})^2$."
   ]
  },
  {
   "cell_type": "code",
   "execution_count": 103,
   "metadata": {
    "tags": []
   },
   "outputs": [
    {
     "name": "stdout",
     "output_type": "stream",
     "text": [
      "[206.11667725  68.07103297 176.88279035 166.91445843 128.46225834\n",
      " 106.35191443  73.89134662 118.85423042 158.80889721 213.58462442\n",
      "  97.07481511  95.10108423 115.06915952 164.67656842 103.07814257\n",
      " 177.17487964 211.7570922  182.84134823 148.00326937 124.01754066\n",
      " 120.33362197  85.80068961 113.1134589  252.45225837 165.48779206\n",
      " 147.71997564  97.12871541 179.09358468 129.05345958 184.7811403\n",
      " 158.71516713  69.47575778 261.50385365 112.82234716  78.37318279\n",
      "  87.66360785 207.92114668 157.87641942 240.84708073 136.93257456\n",
      " 153.48044608  74.15426666 145.62742227  77.82978811 221.07832768\n",
      " 125.21957584 142.6029986  109.49562511  73.14181818 189.87117754\n",
      " 157.9350104  169.55699526 134.1851441  157.72539008 139.11104979\n",
      "  72.73116856 207.82676612  80.11171342 104.08335958 134.57871054\n",
      " 114.23552012 180.67628279  61.12935368  98.72404613 113.79577026\n",
      " 189.95771575 148.98351571 124.34152283 114.8395504  121.99957578\n",
      "  73.91017087 236.71054289 142.31126791 124.51672384 150.84073896\n",
      " 127.75230658 191.16896496  77.05671154 166.82164929  91.00591229\n",
      " 174.75156797 122.83451589  63.27231315 151.99867317  53.72959077\n",
      " 166.0050229   42.6491333  153.04229493  80.54701716 106.90148495\n",
      "  79.93968011 187.1672654  192.5989033   61.07398313 107.4076912\n",
      " 125.04307496 207.72402726 214.21248827 123.47464895 139.16439034\n",
      " 168.21372017 106.92902558 150.64748328 157.92364009 152.75958287\n",
      " 116.22381927  73.03167734 155.67052006 230.1417777  143.49797317\n",
      "  38.09587272 121.8593267  152.79404663 207.99702587 291.23106133\n",
      " 189.17571129 214.02877593 235.18106509 165.38480498 151.2469168\n",
      " 156.57659557 200.44066818 219.35193167 174.78830391 169.23118221\n",
      " 187.87537099  57.49340026 108.54836058  92.68731024 210.87347343\n",
      " 245.47097701  69.84285129 113.03485904  68.42650654 141.69639374\n",
      " 239.46240737  58.37858726 235.47123197 254.92309543 253.30708899\n",
      " 155.51063293 230.55961445 170.44330954 117.9953395  178.55406527\n",
      " 240.07119308 190.33892524 228.66470581 114.24456339 178.36552308\n",
      " 209.091817   144.85615197 200.65926745 121.34295733 150.50993019\n",
      " 199.01879825 146.27926469 124.02163345  85.25913019 235.16173729\n",
      "  82.1730808  231.29474031 144.36940116 197.04628448 146.99841953\n",
      "  77.18813284  59.37368356 262.68557988 225.12900796 220.20301952\n",
      "  46.59651844  88.10194612 221.77450036  97.25199783 164.48838425\n",
      " 119.90096817 157.80220788 223.08012207  99.59081773 165.84386951\n",
      " 179.47680741  89.83353846 171.82590335 158.36419935 201.48185539\n",
      " 186.39194958 197.47424761  66.57371647 154.59985312 116.18319159\n",
      " 195.91755793 128.04834496  91.20395862 140.57223765 155.22669143\n",
      " 169.70326581  98.7573858  190.14568824 142.51704894 177.27157771\n",
      "  95.30812216  69.06191507 164.16391317 198.0659024  178.25996632\n",
      " 228.58539684 160.67104137 212.28734795 222.4833913  172.85421282\n",
      " 125.27946793 174.72103207 152.38094643  98.58135665  99.73771331\n",
      " 262.29507095 223.74033222 221.33976142 133.61470602 145.42828204\n",
      "  53.04569008 141.82052358 153.68617582 125.22290891  77.25168449\n",
      " 230.26180811  78.9090807  105.2051755  117.99622779  99.06233889\n",
      " 166.55796947 159.34137227 158.27448255 143.05684078 231.55890118\n",
      " 176.64724258 187.23580712  65.39099908 190.66218796 179.75181691\n",
      " 234.9080532  119.15669025  85.63551834 100.8597527  140.41937377\n",
      " 101.83524022 120.66560385  83.0664276  234.58488012 245.15862773\n",
      " 263.26954282 274.87127261 180.67257769 203.05642297 254.21625849\n",
      " 118.44300922 268.45369506 104.83843473 115.86820464 140.45857194\n",
      "  58.46948192 129.83145265 263.78607272  45.00934573 123.28890007\n",
      " 131.0856888   34.89181681 138.35467112 244.30103923  89.95923929\n",
      " 192.07096194 164.33017386 147.74779723 191.89092557 176.44360299\n",
      " 158.3490221  189.19166962 116.58117777 111.449754   117.45232726\n",
      " 165.79598354  97.80405886 139.54451791  84.17319946 159.93677518\n",
      " 202.39971737  80.48131518 146.64558568  79.05314048 191.33777472\n",
      " 220.67516721 203.75017281  92.86459928 179.15576252  81.79874055\n",
      " 152.8290929   76.80052219  97.79590831 106.8371012  123.83461591\n",
      " 218.13908293 126.01937664 206.7587966  230.5767944  122.05921633\n",
      " 135.67824405 126.37042532 148.49374458  88.07147107 138.95823614\n",
      " 203.8691938  172.55288732 122.95701477 213.92310163 174.89158814\n",
      " 110.07294222 198.36584973 173.25229067 162.64748776 193.31578983\n",
      " 191.53493643 284.13932209 279.31133207 216.00823829 210.08668656\n",
      " 216.21612991 157.01450004 224.06431372 189.06103154 103.56515315\n",
      " 178.70270016 111.81862434 291.00196609 182.64651752  79.33315426\n",
      "  86.33029851 249.1510082  174.51537682 122.10291074 146.2718871\n",
      " 170.65483847 183.497196   163.36806262 157.03297709 144.42614949\n",
      " 125.30053093 177.50251197 104.57681546 132.17560518  95.06210623\n",
      " 249.89755705  86.23824126  61.99847009 156.81295053 192.32218372\n",
      " 133.85525804  93.67249793 202.49572354  52.54148927 174.82799914\n",
      " 196.91468873 118.06336979 235.29941812 165.09438096 160.41761959\n",
      " 162.37786753 254.05587268 257.23492156 197.5039462  184.06877122\n",
      "  58.62131994 194.39216636 110.775815   142.20991224 128.82520996\n",
      " 180.13082199 211.26488624 169.59494046 164.33851796 136.23374077\n",
      " 174.51001028  74.67587343 246.29432383 114.14494406 111.54552901\n",
      " 140.0224376  109.99895704  91.37283987 163.01540596  75.16804478\n",
      " 254.06119047  53.47338214  98.48397565 100.66315554 258.58683032\n",
      " 170.67256752  61.91771186 182.31148421 171.26948629 189.19505093\n",
      " 187.18494664  87.12170524 148.37964317 251.35815403 199.69656904\n",
      " 283.63576862  50.85911237 172.14766276 204.05976093 174.16540137\n",
      " 157.93182911 150.50028158 232.97445368 121.5814873  164.54245461\n",
      " 172.67625919 226.7768891  149.46832104  99.13924946  80.43418456\n",
      " 140.16148637 191.90710484 199.28001608 153.63277325 171.80344337\n",
      " 112.11054883 162.60002916 129.84290324 258.03100468 100.70810916\n",
      " 115.87608197 122.53559675 218.1797988   60.94350929 131.09296884\n",
      " 119.48376601  52.60911672 193.01756549 101.05581371 121.22668124\n",
      " 211.85894518  53.44727472]\n",
      "[206.11667725  68.07103297 176.88279035 166.91445843 128.46225834\n",
      " 106.35191443  73.89134662 118.85423042 158.80889721 213.58462442\n",
      "  97.07481511  95.10108423 115.06915952 164.67656842 103.07814257\n",
      " 177.17487964 211.7570922  182.84134823 148.00326937 124.01754066\n",
      " 120.33362197  85.80068961 113.1134589  252.45225837 165.48779206\n",
      " 147.71997564  97.12871541 179.09358468 129.05345958 184.7811403\n",
      " 158.71516713  69.47575778 261.50385365 112.82234716  78.37318279\n",
      "  87.66360785 207.92114668 157.87641942 240.84708073 136.93257456\n",
      " 153.48044608  74.15426666 145.62742227  77.82978811 221.07832768\n",
      " 125.21957584 142.6029986  109.49562511  73.14181818 189.87117754\n",
      " 157.9350104  169.55699526 134.1851441  157.72539008 139.11104979\n",
      "  72.73116856 207.82676612  80.11171342 104.08335958 134.57871054\n",
      " 114.23552012 180.67628279  61.12935368  98.72404613 113.79577026\n",
      " 189.95771575 148.98351571 124.34152283 114.8395504  121.99957578\n",
      "  73.91017087 236.71054289 142.31126791 124.51672384 150.84073896\n",
      " 127.75230658 191.16896496  77.05671154 166.82164929  91.00591229\n",
      " 174.75156797 122.83451589  63.27231315 151.99867317  53.72959077\n",
      " 166.0050229   42.6491333  153.04229493  80.54701716 106.90148495\n",
      "  79.93968011 187.1672654  192.5989033   61.07398313 107.4076912\n",
      " 125.04307496 207.72402726 214.21248827 123.47464895 139.16439034\n",
      " 168.21372017 106.92902558 150.64748328 157.92364009 152.75958287\n",
      " 116.22381927  73.03167734 155.67052006 230.1417777  143.49797317\n",
      "  38.09587272 121.8593267  152.79404663 207.99702587 291.23106133\n",
      " 189.17571129 214.02877593 235.18106509 165.38480498 151.2469168\n",
      " 156.57659557 200.44066818 219.35193167 174.78830391 169.23118221\n",
      " 187.87537099  57.49340026 108.54836058  92.68731024 210.87347343\n",
      " 245.47097701  69.84285129 113.03485904  68.42650654 141.69639374\n",
      " 239.46240737  58.37858726 235.47123197 254.92309543 253.30708899\n",
      " 155.51063293 230.55961445 170.44330954 117.9953395  178.55406527\n",
      " 240.07119308 190.33892524 228.66470581 114.24456339 178.36552308\n",
      " 209.091817   144.85615197 200.65926745 121.34295733 150.50993019\n",
      " 199.01879825 146.27926469 124.02163345  85.25913019 235.16173729\n",
      "  82.1730808  231.29474031 144.36940116 197.04628448 146.99841953\n",
      "  77.18813284  59.37368356 262.68557988 225.12900796 220.20301952\n",
      "  46.59651844  88.10194612 221.77450036  97.25199783 164.48838425\n",
      " 119.90096817 157.80220788 223.08012207  99.59081773 165.84386951\n",
      " 179.47680741  89.83353846 171.82590335 158.36419935 201.48185539\n",
      " 186.39194958 197.47424761  66.57371647 154.59985312 116.18319159\n",
      " 195.91755793 128.04834496  91.20395862 140.57223765 155.22669143\n",
      " 169.70326581  98.7573858  190.14568824 142.51704894 177.27157771\n",
      "  95.30812216  69.06191507 164.16391317 198.0659024  178.25996632\n",
      " 228.58539684 160.67104137 212.28734795 222.4833913  172.85421282\n",
      " 125.27946793 174.72103207 152.38094643  98.58135665  99.73771331\n",
      " 262.29507095 223.74033222 221.33976142 133.61470602 145.42828204\n",
      "  53.04569008 141.82052358 153.68617582 125.22290891  77.25168449\n",
      " 230.26180811  78.9090807  105.2051755  117.99622779  99.06233889\n",
      " 166.55796947 159.34137227 158.27448255 143.05684078 231.55890118\n",
      " 176.64724258 187.23580712  65.39099908 190.66218796 179.75181691\n",
      " 234.9080532  119.15669025  85.63551834 100.8597527  140.41937377\n",
      " 101.83524022 120.66560385  83.0664276  234.58488012 245.15862773\n",
      " 263.26954282 274.87127261 180.67257769 203.05642297 254.21625849\n",
      " 118.44300922 268.45369506 104.83843473 115.86820464 140.45857194\n",
      "  58.46948192 129.83145265 263.78607272  45.00934573 123.28890007\n",
      " 131.0856888   34.89181681 138.35467112 244.30103923  89.95923929\n",
      " 192.07096194 164.33017386 147.74779723 191.89092557 176.44360299\n",
      " 158.3490221  189.19166962 116.58117777 111.449754   117.45232726\n",
      " 165.79598354  97.80405886 139.54451791  84.17319946 159.93677518\n",
      " 202.39971737  80.48131518 146.64558568  79.05314048 191.33777472\n",
      " 220.67516721 203.75017281  92.86459928 179.15576252  81.79874055\n",
      " 152.8290929   76.80052219  97.79590831 106.8371012  123.83461591\n",
      " 218.13908293 126.01937664 206.7587966  230.5767944  122.05921633\n",
      " 135.67824405 126.37042532 148.49374458  88.07147107 138.95823614\n",
      " 203.8691938  172.55288732 122.95701477 213.92310163 174.89158814\n",
      " 110.07294222 198.36584973 173.25229067 162.64748776 193.31578983\n",
      " 191.53493643 284.13932209 279.31133207 216.00823829 210.08668656\n",
      " 216.21612991 157.01450004 224.06431372 189.06103154 103.56515315\n",
      " 178.70270016 111.81862434 291.00196609 182.64651752  79.33315426\n",
      "  86.33029851 249.1510082  174.51537682 122.10291074 146.2718871\n",
      " 170.65483847 183.497196   163.36806262 157.03297709 144.42614949\n",
      " 125.30053093 177.50251197 104.57681546 132.17560518  95.06210623\n",
      " 249.89755705  86.23824126  61.99847009 156.81295053 192.32218372\n",
      " 133.85525804  93.67249793 202.49572354  52.54148927 174.82799914\n",
      " 196.91468873 118.06336979 235.29941812 165.09438096 160.41761959\n",
      " 162.37786753 254.05587268 257.23492156 197.5039462  184.06877122\n",
      "  58.62131994 194.39216636 110.775815   142.20991224 128.82520996\n",
      " 180.13082199 211.26488624 169.59494046 164.33851796 136.23374077\n",
      " 174.51001028  74.67587343 246.29432383 114.14494406 111.54552901\n",
      " 140.0224376  109.99895704  91.37283987 163.01540596  75.16804478\n",
      " 254.06119047  53.47338214  98.48397565 100.66315554 258.58683032\n",
      " 170.67256752  61.91771186 182.31148421 171.26948629 189.19505093\n",
      " 187.18494664  87.12170524 148.37964317 251.35815403 199.69656904\n",
      " 283.63576862  50.85911237 172.14766276 204.05976093 174.16540137\n",
      " 157.93182911 150.50028158 232.97445368 121.5814873  164.54245461\n",
      " 172.67625919 226.7768891  149.46832104  99.13924946  80.43418456\n",
      " 140.16148637 191.90710484 199.28001608 153.63277325 171.80344337\n",
      " 112.11054883 162.60002916 129.84290324 258.03100468 100.70810916\n",
      " 115.87608197 122.53559675 218.1797988   60.94350929 131.09296884\n",
      " 119.48376601  52.60911672 193.01756549 101.05581371 121.22668124\n",
      " 211.85894518  53.44727472]\n",
      "The MSE using Numpy is 2859.69634758675\n",
      "The MSE using Sklearn Metrics is 2859.69634758675\n"
     ]
    }
   ],
   "source": [
    "#Exercise 3\n",
    "\n",
    "# Use this block to answer the questions\n",
    "from sklearn import metrics\n",
    "from sklearn.metrics import mean_squared_error\n",
    "\n",
    "\n",
    "## Part A\n",
    "\n",
    "### Numpy\n",
    "y_hat_numpy = np.dot(wvector.T,Xtranpose)\n",
    "print(y_hat_numpy)\n",
    "### Sklearn\n",
    "y_hat_sklearn = linearmodel.predict(ds.data)\n",
    "print(y_hat_sklearn)\n",
    "#Both prediction sets are the same\n",
    "\n",
    "\n",
    "## Part B\n",
    "\n",
    "### Numpy\n",
    "n = len(y)\n",
    "MSE_numpy = np.sum(np.square((y-y_hat_numpy)))/n\n",
    "print(\"The MSE using Numpy is\", MSE_numpy)\n",
    "\n",
    "## Part C\n",
    "\n",
    "### Sklearn\n",
    "MSE_sklearn = mean_squared_error(y, y_hat_sklearn)\n",
    "print(\"The MSE using Sklearn Metrics is\", MSE_sklearn)\n"
   ]
  },
  {
   "cell_type": "markdown",
   "metadata": {},
   "source": [
    "________________________________________________________________________________________________________\n",
    "<a id=\"classification\"></a>\n",
    "<a href=\"#top\">Back to Top</a>\n",
    "## Using Linear Classification\n",
    "Now lets use the code you created to make a classifier with linear boundaries. Run the following code in order to load the iris dataset."
   ]
  },
  {
   "cell_type": "code",
   "execution_count": 104,
   "metadata": {},
   "outputs": [
    {
     "name": "stdout",
     "output_type": "stream",
     "text": [
      "features shape: (150, 4)\n",
      "original number of classes: 3\n",
      "new number of classes: 2\n"
     ]
    }
   ],
   "source": [
    "from sklearn.datasets import load_iris\n",
    "import numpy as np\n",
    "\n",
    "# this will overwrite the diabetes dataset\n",
    "ds = load_iris()\n",
    "print('features shape:', ds.data.shape) # there are 150 instances and 4 features per instance\n",
    "print('original number of classes:', len(np.unique(ds.target)))\n",
    "\n",
    "# now let's make this a binary classification task\n",
    "ds.target = ds.target>1\n",
    "print ('new number of classes:', len(np.unique(ds.target)))"
   ]
  },
  {
   "cell_type": "markdown",
   "metadata": {},
   "source": [
    "________________________________________________________________________________________________________\n",
    "\n",
    "**Exercise 4:** Now use linear regression to come up with a set of weights, `w`, that predict the class value. This is exactly like you did before for the *diabetes* dataset. However, instead of regressing to continuous values, you are just regressing to the integer value of the class (0 or 1), like we talked about in the video. Remember to account for the bias term when constructing the feature matrix, `X`. Print the weights of the linear classifier."
   ]
  },
  {
   "cell_type": "code",
   "execution_count": 15,
   "metadata": {},
   "outputs": [
    {
     "name": "stdout",
     "output_type": "stream",
     "text": [
      "[-0.69528186 -0.04587608  0.20276839  0.00398791  0.55177932]\n"
     ]
    }
   ],
   "source": [
    "# write your code here and print the values of the weights \n",
    "\n",
    "rows = ds.data.shape[0]             #<- grab all of the data for X\n",
    "ones_col = np.ones([rows,1])        #<- create a ones column for the bias term \n",
    "X = np.hstack( (ones_col, ds.data) )  #<- stack the ones column onto ds.data using np.haystack(), litterally appends the ones column to X (hstack == stack horizontally) \n",
    "\n",
    "y = ds.target\n",
    "\n",
    "w = np.dot( np.dot( np.linalg.inv( np.dot(X.T, X) ) , X.T ) , y)\n",
    "print(w) \n",
    "#"
   ]
  },
  {
   "cell_type": "markdown",
   "metadata": {},
   "source": [
    "________________________________________________________________________________________________________\n",
    "\n",
    "**Exercise 5:** Finally, use a hard decision function on the output of the linear regression to make this a binary classifier. This is just like we talked about in the video, where the output of the linear regression passes through a function: \n",
    "\n",
    "- $\\hat{y}=g(w^TX^T)$ where\n",
    " - $g(w^TX^T)$ for $w^TX^T < \\alpha$ maps the predicted class to `0` \n",
    " - $g(w^TX^T)$ for $w^TX^T \\geq \\alpha$ maps the predicted class to `1`. \n",
    "\n",
    "Here, alpha is a threshold for deciding the class. \n",
    "\n",
    "**Question 3**: What value for $\\alpha$ makes the most sense? What is the accuracy of the classifier given the $\\alpha$ you chose? \n",
    "\n",
    "Note: You can calculate the accuracy with the following code: `accuracy = float(sum(yhat==y)) / len(y)` assuming you choose variable names `y` and `yhat` for the target and prediction, respectively."
   ]
  },
  {
   "cell_type": "code",
   "execution_count": 16,
   "metadata": {},
   "outputs": [
    {
     "name": "stdout",
     "output_type": "stream",
     "text": [
      "Percentage accuracy: 0.9266666666666666\n"
     ]
    }
   ],
   "source": [
    "# use this box to predict the classification output\n",
    "lr = LinearRegression()\n",
    "lr.fit(ds.data, ds.target)\n",
    "\n",
    "y_sk = lr.predict(ds.data)\n",
    "yhat = y_sk >= 0.50\n",
    "\n",
    "sk_accuracy = float(sum(yhat==ds.target)) / len(ds.target)\n",
    "\n",
    "print('Percentage accuracy:', sk_accuracy)"
   ]
  },
  {
   "cell_type": "code",
   "execution_count": 17,
   "metadata": {},
   "outputs": [
    {
     "name": "stdout",
     "output_type": "stream",
     "text": [
      "Maximum accuracy is: 0.9466666666666667\n",
      "Best threshold value is: 0.52\n"
     ]
    }
   ],
   "source": [
    "#finding best threshold value which gives highest accuracy\n",
    "accuracy = np.zeros(100, dtype=np.float64)\n",
    "a=0\n",
    "for x in range(0, 99):\n",
    "    yhat = y_sk >= a\n",
    "    accuracy[x] = float((sum(yhat==ds.target)) / len(ds.target))\n",
    "    a+=.01\n",
    "    x+=1\n",
    "print('Maximum accuracy is:' ,np.amax(accuracy))\n",
    "print('Best threshold value is:',np.argmax(accuracy)/100)"
   ]
  },
  {
   "cell_type": "markdown",
   "metadata": {},
   "source": [
    "________________________________________________________________________________________________________\n",
    "\n",
    "That's all! Please **save (make sure you saved!!!) and upload your rendered notebook** and please include **team member names** in the notebook submission."
   ]
  }
 ],
 "metadata": {
  "@webio": {
   "lastCommId": null,
   "lastKernelId": null
  },
  "kernelspec": {
   "display_name": "Python 3 (ipykernel)",
   "language": "python",
   "name": "python3"
  },
  "language_info": {
   "codemirror_mode": {
    "name": "ipython",
    "version": 3
   },
   "file_extension": ".py",
   "mimetype": "text/x-python",
   "name": "python",
   "nbconvert_exporter": "python",
   "pygments_lexer": "ipython3",
   "version": "3.10.9"
  }
 },
 "nbformat": 4,
 "nbformat_minor": 4
}
