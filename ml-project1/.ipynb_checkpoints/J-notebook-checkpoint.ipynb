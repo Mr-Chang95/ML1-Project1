{
 "cells": [
  {
   "cell_type": "markdown",
   "id": "da5186bc",
   "metadata": {},
   "source": [
    "# Load in packages"
   ]
  },
  {
   "cell_type": "code",
   "execution_count": 1,
   "id": "b18bd9d0",
   "metadata": {},
   "outputs": [],
   "source": [
    "# packages\n",
    "import numpy as np\n",
    "import pandas as pd\n",
    "import matplotlib.pyplot as plt\n",
    "import seaborn as sns"
   ]
  },
  {
   "cell_type": "markdown",
   "id": "f7edb51d",
   "metadata": {},
   "source": [
    "# Read in dataset"
   ]
  },
  {
   "cell_type": "code",
   "execution_count": 2,
   "id": "6b08313b",
   "metadata": {},
   "outputs": [
    {
     "name": "stdout",
     "output_type": "stream",
     "text": [
      "       Unnamed: 0  Gender EthnicGroup          ParentEduc     LunchType  \\\n",
      "0               0  female         NaN   bachelor's degree      standard   \n",
      "1               1  female     group C        some college      standard   \n",
      "2               2  female     group B     master's degree      standard   \n",
      "3               3    male     group A  associate's degree  free/reduced   \n",
      "4               4    male     group C        some college      standard   \n",
      "...           ...     ...         ...                 ...           ...   \n",
      "30636         816  female     group D         high school      standard   \n",
      "30637         890    male     group E         high school      standard   \n",
      "30638         911  female         NaN         high school  free/reduced   \n",
      "30639         934  female     group D  associate's degree      standard   \n",
      "30640         960    male     group B        some college      standard   \n",
      "\n",
      "        TestPrep ParentMaritalStatus PracticeSport IsFirstChild  NrSiblings  \\\n",
      "0           none             married     regularly          yes         3.0   \n",
      "1            NaN             married     sometimes          yes         0.0   \n",
      "2           none              single     sometimes          yes         4.0   \n",
      "3           none             married         never           no         1.0   \n",
      "4           none             married     sometimes          yes         0.0   \n",
      "...          ...                 ...           ...          ...         ...   \n",
      "30636       none              single     sometimes           no         2.0   \n",
      "30637       none              single     regularly           no         1.0   \n",
      "30638  completed             married     sometimes           no         1.0   \n",
      "30639  completed             married     regularly           no         3.0   \n",
      "30640       none             married         never           no         1.0   \n",
      "\n",
      "      TransportMeans WklyStudyHours  MathScore  ReadingScore  WritingScore  \n",
      "0         school_bus            < 5         71            71            74  \n",
      "1                NaN         5 - 10         69            90            88  \n",
      "2         school_bus            < 5         87            93            91  \n",
      "3                NaN         5 - 10         45            56            42  \n",
      "4         school_bus         5 - 10         76            78            75  \n",
      "...              ...            ...        ...           ...           ...  \n",
      "30636     school_bus         5 - 10         59            61            65  \n",
      "30637        private         5 - 10         58            53            51  \n",
      "30638        private         5 - 10         61            70            67  \n",
      "30639     school_bus         5 - 10         82            90            93  \n",
      "30640     school_bus         5 - 10         64            60            58  \n",
      "\n",
      "[30641 rows x 15 columns]\n"
     ]
    }
   ],
   "source": [
    "df = pd.read_csv('Expanded_data_with_more_features.csv') # read in data\n",
    "\n",
    "print(df) # check to see if it loaded"
   ]
  },
  {
   "cell_type": "markdown",
   "id": "1ecf6dc3",
   "metadata": {},
   "source": [
    "<hr>\n",
    "\n",
    "# Objective 1\n",
    "## Business Understanding:\n",
    "<hr>"
   ]
  },
  {
   "cell_type": "markdown",
   "id": "e08b0ce1",
   "metadata": {},
   "source": [
    "### A) Describe the purpose of the data set you selected (why was it collected in the first place?)."
   ]
  },
  {
   "cell_type": "code",
   "execution_count": null,
   "id": "82ef6eba",
   "metadata": {},
   "outputs": [],
   "source": []
  },
  {
   "cell_type": "markdown",
   "id": "553a6ddd",
   "metadata": {},
   "source": [
    "### B) Describe how you would define and measure the outcomes from the dataset. That is, why is this data importantand how do you know if you have mined useful knowledge from the dataset? "
   ]
  },
  {
   "cell_type": "code",
   "execution_count": null,
   "id": "99ebff4a",
   "metadata": {},
   "outputs": [],
   "source": []
  },
  {
   "cell_type": "markdown",
   "id": "7614e9d3",
   "metadata": {},
   "source": [
    "### C) How would you measure the effectiveness of a good prediction algorithm? Be specific. "
   ]
  },
  {
   "cell_type": "code",
   "execution_count": null,
   "id": "9bfdbdc4",
   "metadata": {},
   "outputs": [],
   "source": []
  },
  {
   "cell_type": "markdown",
   "id": "0150efb5",
   "metadata": {},
   "source": [
    "<hr>\n",
    "\n",
    "# Objective 2\n",
    "\n",
    "## Data Understanding\n",
    "\n",
    "<hr>"
   ]
  },
  {
   "cell_type": "code",
   "execution_count": 3,
   "id": "1f21ad49",
   "metadata": {},
   "outputs": [
    {
     "data": {
      "text/html": [
       "<div>\n",
       "<style scoped>\n",
       "    .dataframe tbody tr th:only-of-type {\n",
       "        vertical-align: middle;\n",
       "    }\n",
       "\n",
       "    .dataframe tbody tr th {\n",
       "        vertical-align: top;\n",
       "    }\n",
       "\n",
       "    .dataframe thead th {\n",
       "        text-align: right;\n",
       "    }\n",
       "</style>\n",
       "<table border=\"1\" class=\"dataframe\">\n",
       "  <thead>\n",
       "    <tr style=\"text-align: right;\">\n",
       "      <th></th>\n",
       "      <th>Unnamed: 0</th>\n",
       "      <th>Gender</th>\n",
       "      <th>EthnicGroup</th>\n",
       "      <th>ParentEduc</th>\n",
       "      <th>LunchType</th>\n",
       "      <th>TestPrep</th>\n",
       "      <th>ParentMaritalStatus</th>\n",
       "      <th>PracticeSport</th>\n",
       "      <th>IsFirstChild</th>\n",
       "      <th>NrSiblings</th>\n",
       "      <th>TransportMeans</th>\n",
       "      <th>WklyStudyHours</th>\n",
       "      <th>MathScore</th>\n",
       "      <th>ReadingScore</th>\n",
       "      <th>WritingScore</th>\n",
       "    </tr>\n",
       "  </thead>\n",
       "  <tbody>\n",
       "    <tr>\n",
       "      <th>0</th>\n",
       "      <td>0</td>\n",
       "      <td>female</td>\n",
       "      <td>NaN</td>\n",
       "      <td>bachelor's degree</td>\n",
       "      <td>standard</td>\n",
       "      <td>none</td>\n",
       "      <td>married</td>\n",
       "      <td>regularly</td>\n",
       "      <td>yes</td>\n",
       "      <td>3.0</td>\n",
       "      <td>school_bus</td>\n",
       "      <td>&lt; 5</td>\n",
       "      <td>71</td>\n",
       "      <td>71</td>\n",
       "      <td>74</td>\n",
       "    </tr>\n",
       "    <tr>\n",
       "      <th>1</th>\n",
       "      <td>1</td>\n",
       "      <td>female</td>\n",
       "      <td>group C</td>\n",
       "      <td>some college</td>\n",
       "      <td>standard</td>\n",
       "      <td>NaN</td>\n",
       "      <td>married</td>\n",
       "      <td>sometimes</td>\n",
       "      <td>yes</td>\n",
       "      <td>0.0</td>\n",
       "      <td>NaN</td>\n",
       "      <td>5 - 10</td>\n",
       "      <td>69</td>\n",
       "      <td>90</td>\n",
       "      <td>88</td>\n",
       "    </tr>\n",
       "    <tr>\n",
       "      <th>2</th>\n",
       "      <td>2</td>\n",
       "      <td>female</td>\n",
       "      <td>group B</td>\n",
       "      <td>master's degree</td>\n",
       "      <td>standard</td>\n",
       "      <td>none</td>\n",
       "      <td>single</td>\n",
       "      <td>sometimes</td>\n",
       "      <td>yes</td>\n",
       "      <td>4.0</td>\n",
       "      <td>school_bus</td>\n",
       "      <td>&lt; 5</td>\n",
       "      <td>87</td>\n",
       "      <td>93</td>\n",
       "      <td>91</td>\n",
       "    </tr>\n",
       "    <tr>\n",
       "      <th>3</th>\n",
       "      <td>3</td>\n",
       "      <td>male</td>\n",
       "      <td>group A</td>\n",
       "      <td>associate's degree</td>\n",
       "      <td>free/reduced</td>\n",
       "      <td>none</td>\n",
       "      <td>married</td>\n",
       "      <td>never</td>\n",
       "      <td>no</td>\n",
       "      <td>1.0</td>\n",
       "      <td>NaN</td>\n",
       "      <td>5 - 10</td>\n",
       "      <td>45</td>\n",
       "      <td>56</td>\n",
       "      <td>42</td>\n",
       "    </tr>\n",
       "    <tr>\n",
       "      <th>4</th>\n",
       "      <td>4</td>\n",
       "      <td>male</td>\n",
       "      <td>group C</td>\n",
       "      <td>some college</td>\n",
       "      <td>standard</td>\n",
       "      <td>none</td>\n",
       "      <td>married</td>\n",
       "      <td>sometimes</td>\n",
       "      <td>yes</td>\n",
       "      <td>0.0</td>\n",
       "      <td>school_bus</td>\n",
       "      <td>5 - 10</td>\n",
       "      <td>76</td>\n",
       "      <td>78</td>\n",
       "      <td>75</td>\n",
       "    </tr>\n",
       "  </tbody>\n",
       "</table>\n",
       "</div>"
      ],
      "text/plain": [
       "   Unnamed: 0  Gender EthnicGroup          ParentEduc     LunchType TestPrep  \\\n",
       "0           0  female         NaN   bachelor's degree      standard     none   \n",
       "1           1  female     group C        some college      standard      NaN   \n",
       "2           2  female     group B     master's degree      standard     none   \n",
       "3           3    male     group A  associate's degree  free/reduced     none   \n",
       "4           4    male     group C        some college      standard     none   \n",
       "\n",
       "  ParentMaritalStatus PracticeSport IsFirstChild  NrSiblings TransportMeans  \\\n",
       "0             married     regularly          yes         3.0     school_bus   \n",
       "1             married     sometimes          yes         0.0            NaN   \n",
       "2              single     sometimes          yes         4.0     school_bus   \n",
       "3             married         never           no         1.0            NaN   \n",
       "4             married     sometimes          yes         0.0     school_bus   \n",
       "\n",
       "  WklyStudyHours  MathScore  ReadingScore  WritingScore  \n",
       "0            < 5         71            71            74  \n",
       "1         5 - 10         69            90            88  \n",
       "2            < 5         87            93            91  \n",
       "3         5 - 10         45            56            42  \n",
       "4         5 - 10         76            78            75  "
      ]
     },
     "execution_count": 3,
     "metadata": {},
     "output_type": "execute_result"
    }
   ],
   "source": [
    "df.head()"
   ]
  },
  {
   "cell_type": "markdown",
   "id": "8ce9583f",
   "metadata": {},
   "source": [
    "Notes on data from Head function."
   ]
  },
  {
   "cell_type": "code",
   "execution_count": 4,
   "id": "10a44490",
   "metadata": {},
   "outputs": [
    {
     "name": "stdout",
     "output_type": "stream",
     "text": [
      "<class 'pandas.core.frame.DataFrame'>\n",
      "RangeIndex: 30641 entries, 0 to 30640\n",
      "Data columns (total 15 columns):\n",
      " #   Column               Non-Null Count  Dtype  \n",
      "---  ------               --------------  -----  \n",
      " 0   Unnamed: 0           30641 non-null  int64  \n",
      " 1   Gender               30641 non-null  object \n",
      " 2   EthnicGroup          28801 non-null  object \n",
      " 3   ParentEduc           28796 non-null  object \n",
      " 4   LunchType            30641 non-null  object \n",
      " 5   TestPrep             28811 non-null  object \n",
      " 6   ParentMaritalStatus  29451 non-null  object \n",
      " 7   PracticeSport        30010 non-null  object \n",
      " 8   IsFirstChild         29737 non-null  object \n",
      " 9   NrSiblings           29069 non-null  float64\n",
      " 10  TransportMeans       27507 non-null  object \n",
      " 11  WklyStudyHours       29686 non-null  object \n",
      " 12  MathScore            30641 non-null  int64  \n",
      " 13  ReadingScore         30641 non-null  int64  \n",
      " 14  WritingScore         30641 non-null  int64  \n",
      "dtypes: float64(1), int64(4), object(10)\n",
      "memory usage: 3.5+ MB\n"
     ]
    }
   ],
   "source": [
    "df.info()"
   ]
  },
  {
   "cell_type": "code",
   "execution_count": 5,
   "id": "16ea9e22",
   "metadata": {},
   "outputs": [
    {
     "data": {
      "text/html": [
       "<div>\n",
       "<style scoped>\n",
       "    .dataframe tbody tr th:only-of-type {\n",
       "        vertical-align: middle;\n",
       "    }\n",
       "\n",
       "    .dataframe tbody tr th {\n",
       "        vertical-align: top;\n",
       "    }\n",
       "\n",
       "    .dataframe thead th {\n",
       "        text-align: right;\n",
       "    }\n",
       "</style>\n",
       "<table border=\"1\" class=\"dataframe\">\n",
       "  <thead>\n",
       "    <tr style=\"text-align: right;\">\n",
       "      <th></th>\n",
       "      <th>Unnamed: 0</th>\n",
       "      <th>NrSiblings</th>\n",
       "      <th>MathScore</th>\n",
       "      <th>ReadingScore</th>\n",
       "      <th>WritingScore</th>\n",
       "    </tr>\n",
       "  </thead>\n",
       "  <tbody>\n",
       "    <tr>\n",
       "      <th>count</th>\n",
       "      <td>30641.000000</td>\n",
       "      <td>29069.000000</td>\n",
       "      <td>30641.000000</td>\n",
       "      <td>30641.000000</td>\n",
       "      <td>30641.000000</td>\n",
       "    </tr>\n",
       "    <tr>\n",
       "      <th>mean</th>\n",
       "      <td>499.556607</td>\n",
       "      <td>2.145894</td>\n",
       "      <td>66.558402</td>\n",
       "      <td>69.377533</td>\n",
       "      <td>68.418622</td>\n",
       "    </tr>\n",
       "    <tr>\n",
       "      <th>std</th>\n",
       "      <td>288.747894</td>\n",
       "      <td>1.458242</td>\n",
       "      <td>15.361616</td>\n",
       "      <td>14.758952</td>\n",
       "      <td>15.443525</td>\n",
       "    </tr>\n",
       "    <tr>\n",
       "      <th>min</th>\n",
       "      <td>0.000000</td>\n",
       "      <td>0.000000</td>\n",
       "      <td>0.000000</td>\n",
       "      <td>10.000000</td>\n",
       "      <td>4.000000</td>\n",
       "    </tr>\n",
       "    <tr>\n",
       "      <th>25%</th>\n",
       "      <td>249.000000</td>\n",
       "      <td>1.000000</td>\n",
       "      <td>56.000000</td>\n",
       "      <td>59.000000</td>\n",
       "      <td>58.000000</td>\n",
       "    </tr>\n",
       "    <tr>\n",
       "      <th>50%</th>\n",
       "      <td>500.000000</td>\n",
       "      <td>2.000000</td>\n",
       "      <td>67.000000</td>\n",
       "      <td>70.000000</td>\n",
       "      <td>69.000000</td>\n",
       "    </tr>\n",
       "    <tr>\n",
       "      <th>75%</th>\n",
       "      <td>750.000000</td>\n",
       "      <td>3.000000</td>\n",
       "      <td>78.000000</td>\n",
       "      <td>80.000000</td>\n",
       "      <td>79.000000</td>\n",
       "    </tr>\n",
       "    <tr>\n",
       "      <th>max</th>\n",
       "      <td>999.000000</td>\n",
       "      <td>7.000000</td>\n",
       "      <td>100.000000</td>\n",
       "      <td>100.000000</td>\n",
       "      <td>100.000000</td>\n",
       "    </tr>\n",
       "  </tbody>\n",
       "</table>\n",
       "</div>"
      ],
      "text/plain": [
       "         Unnamed: 0    NrSiblings     MathScore  ReadingScore  WritingScore\n",
       "count  30641.000000  29069.000000  30641.000000  30641.000000  30641.000000\n",
       "mean     499.556607      2.145894     66.558402     69.377533     68.418622\n",
       "std      288.747894      1.458242     15.361616     14.758952     15.443525\n",
       "min        0.000000      0.000000      0.000000     10.000000      4.000000\n",
       "25%      249.000000      1.000000     56.000000     59.000000     58.000000\n",
       "50%      500.000000      2.000000     67.000000     70.000000     69.000000\n",
       "75%      750.000000      3.000000     78.000000     80.000000     79.000000\n",
       "max      999.000000      7.000000    100.000000    100.000000    100.000000"
      ]
     },
     "execution_count": 5,
     "metadata": {},
     "output_type": "execute_result"
    }
   ],
   "source": [
    "df.describe()"
   ]
  },
  {
   "cell_type": "code",
   "execution_count": 7,
   "id": "1c07b343",
   "metadata": {},
   "outputs": [
    {
     "data": {
      "text/plain": [
       "15"
      ]
     },
     "execution_count": 7,
     "metadata": {},
     "output_type": "execute_result"
    }
   ],
   "source": [
    "len(df.columns)"
   ]
  },
  {
   "cell_type": "code",
   "execution_count": null,
   "id": "ad8b80fa",
   "metadata": {},
   "outputs": [],
   "source": []
  },
  {
   "cell_type": "markdown",
   "id": "72f4f09a",
   "metadata": {},
   "source": [
    "### A) Describe the meaning and type of data (Scale, Values, etc.) for each attribute in the data file."
   ]
  },
  {
   "cell_type": "markdown",
   "id": "8f7771b0",
   "metadata": {},
   "source": [
    "### Meaning: \n",
    "\n",
    "    1) Gender: Gender of the student (male/female)\n",
    "    2) EthnicGroup: Ethnic group of the student (group A to E)\n",
    "    3) ParentEduc: Parent(s) education background (from some_highschool to master's degree)\n",
    "    4) LunchType: School lunch type (standard or free/reduced)\n",
    "    5) TestPrep: Test preparation course followed (completed or none)\n",
    "    6) ParentMaritalStatus: Parent(s) marital status (married/single/widowed/divorced)\n",
    "    7) PracticeSport: How often the student parctice sport (never/sometimes/regularly))\n",
    "    8) IsFirstChild: If the child is first child in the family or not (yes/no)\n",
    "    9) NrSiblings: Number of siblings the student has (0 to 7)\n",
    "    10) TransportMeans: Means of transport to school (schoolbus/private)\n",
    "    11) WklyStudyHours: Weekly self-study hours(less that 5hrs; between 5 and 10hrs; more than 10hrs)\n",
    "    12) MathScore: math test score(0-100)\n",
    "    13) ReadingScore: reading test score(0-100)\n",
    "    14) WritingScore: writing test score(0-100)\n"
   ]
  },
  {
   "cell_type": "markdown",
   "id": "c69505fa",
   "metadata": {},
   "source": [
    "###  Un-changed (raw) data type:\n",
    "    1) Gender: object\n",
    "    2) EthnicGroup: object\n",
    "    3) ParentEduc: object\n",
    "    4) LunchType: object\n",
    "    5) TestPrep: object\n",
    "    6) ParentMaritalStatus: object\n",
    "    7) PracticeSport: object\n",
    "    8) IsFirstChild: object\n",
    "    9) NrSiblings: float64\n",
    "    10) TransportMeans: object\n",
    "    11) WklyStudyHours: object\n",
    "    12) MathScore: int64\n",
    "    13) ReadingScore: int64\n",
    "    14) WritingScore:int64\n",
    "    \n",
    "    object = column containing a python object such as strings, lists, or dictionaries.\n",
    "    int64 = column containing integer values\n",
    "    float64 = column containing floating-point values (decimal numbers)"
   ]
  },
  {
   "cell_type": "code",
   "execution_count": null,
   "id": "228201ab",
   "metadata": {},
   "outputs": [],
   "source": []
  },
  {
   "cell_type": "markdown",
   "id": "64af6cbb",
   "metadata": {},
   "source": [
    "### B) Verify the data quality: Explain any missing values, duplicate data, and outliers. Are those mistakes? How do you deal with these problems? Be. Specific."
   ]
  },
  {
   "cell_type": "markdown",
   "id": "f394847a",
   "metadata": {},
   "source": [
    "#### - Missing Values:\n"
   ]
  },
  {
   "cell_type": "code",
   "execution_count": 11,
   "id": "f6ecd83e",
   "metadata": {},
   "outputs": [
    {
     "data": {
      "text/plain": [
       "Unnamed: 0                0\n",
       "Gender                    0\n",
       "EthnicGroup            1840\n",
       "ParentEduc             1845\n",
       "LunchType                 0\n",
       "TestPrep               1830\n",
       "ParentMaritalStatus    1190\n",
       "PracticeSport           631\n",
       "IsFirstChild            904\n",
       "NrSiblings             1572\n",
       "TransportMeans         3134\n",
       "WklyStudyHours          955\n",
       "MathScore                 0\n",
       "ReadingScore              0\n",
       "WritingScore              0\n",
       "dtype: int64"
      ]
     },
     "execution_count": 11,
     "metadata": {},
     "output_type": "execute_result"
    }
   ],
   "source": [
    "# missing data\n",
    "df.isnull().sum()"
   ]
  },
  {
   "cell_type": "code",
   "execution_count": 10,
   "id": "b88b3dd5",
   "metadata": {},
   "outputs": [
    {
     "data": {
      "text/plain": [
       "Unnamed: 0              0.000000\n",
       "Gender                  0.000000\n",
       "EthnicGroup             6.005026\n",
       "ParentEduc              6.021344\n",
       "LunchType               0.000000\n",
       "TestPrep                5.972390\n",
       "ParentMaritalStatus     3.883685\n",
       "PracticeSport           2.059332\n",
       "IsFirstChild            2.950295\n",
       "NrSiblings              5.130381\n",
       "TransportMeans         10.228126\n",
       "WklyStudyHours          3.116739\n",
       "MathScore               0.000000\n",
       "ReadingScore            0.000000\n",
       "WritingScore            0.000000\n",
       "dtype: float64"
      ]
     },
     "execution_count": 10,
     "metadata": {},
     "output_type": "execute_result"
    }
   ],
   "source": [
    "# percentage of missing data\n",
    "100 * df.isnull().sum() / len(df)"
   ]
  },
  {
   "cell_type": "code",
   "execution_count": 12,
   "id": "3c53aa0e",
   "metadata": {},
   "outputs": [],
   "source": [
    "def percent_missing(df):\n",
    "    percent_nan = 100* df.isnull().sum()/len(df)\n",
    "    percent_nan = percent_nan[percent_nan > 0].sort_values()\n",
    "    return percent_nan"
   ]
  },
  {
   "cell_type": "code",
   "execution_count": 13,
   "id": "1025958d",
   "metadata": {},
   "outputs": [],
   "source": [
    "percent_nan = percent_missing(df)"
   ]
  },
  {
   "cell_type": "code",
   "execution_count": 14,
   "id": "9bbfdfea",
   "metadata": {},
   "outputs": [
    {
     "data": {
      "image/png": "[encoded data removed]",
      "text/plain": [
       "<Figure size 640x480 with 1 Axes>"
      ]
     },
     "metadata": {},
     "output_type": "display_data"
    }
   ],
   "source": [
    "# plot of missing data (percentage) \n",
    "sns.barplot(x=percent_nan.index, y = percent_nan)\n",
    "plt.xticks(rotation = 90);"
   ]
  },
  {
   "cell_type": "markdown",
   "id": "32e34e07",
   "metadata": {},
   "source": [
    "#### - Duplicate Data"
   ]
  },
  {
   "cell_type": "code",
   "execution_count": null,
   "id": "c14046f5",
   "metadata": {},
   "outputs": [],
   "source": []
  },
  {
   "cell_type": "markdown",
   "id": "6827f1f7",
   "metadata": {},
   "source": [
    "#### - Outliers"
   ]
  }
 ],
 "metadata": {
  "kernelspec": {
   "display_name": "Python 3 (ipykernel)",
   "language": "python",
   "name": "python3"
  },
  "language_info": {
   "codemirror_mode": {
    "name": "ipython",
    "version": 3
   },
   "file_extension": ".py",
   "mimetype": "text/x-python",
   "name": "python",
   "nbconvert_exporter": "python",
   "pygments_lexer": "ipython3",
   "version": "3.10.9"
  }
 },
 "nbformat": 4,
 "nbformat_minor": 5
}
