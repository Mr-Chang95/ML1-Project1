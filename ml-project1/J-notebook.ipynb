{
 "cells": [
  {
   "cell_type": "markdown",
   "id": "da5186bc",
   "metadata": {},
   "source": [
    "# Load in packages"
   ]
  },
  {
   "cell_type": "code",
   "execution_count": 1,
   "id": "b18bd9d0",
   "metadata": {},
   "outputs": [],
   "source": [
    "# packages\n",
    "import numpy as np\n",
    "import pandas as pd\n",
    "import matplotlib.pyplot as plt\n",
    "import seaborn as sns\n",
    "import warnings"
   ]
  },
  {
   "cell_type": "code",
   "execution_count": 2,
   "id": "88b76e09",
   "metadata": {},
   "outputs": [],
   "source": [
    "# remove \"future\" warnings\n",
    "warnings.simplefilter(action=\"ignore\", category= FutureWarning)"
   ]
  },
  {
   "cell_type": "markdown",
   "id": "f7edb51d",
   "metadata": {},
   "source": [
    "# Read in dataset"
   ]
  },
  {
   "cell_type": "code",
   "execution_count": 3,
   "id": "6b08313b",
   "metadata": {},
   "outputs": [],
   "source": [
    "df = pd.read_csv('Expanded_data_with_more_features.csv') # read in data\n",
    "df = df.drop(\"Unnamed: 0\", axis = 1)"
   ]
  },
  {
   "cell_type": "markdown",
   "id": "1ecf6dc3",
   "metadata": {},
   "source": [
    "<hr>\n",
    "\n",
    "# <center>Objective 1</center>\n",
    "## <center>Business Understanding:</center>\n",
    "\n",
    "<hr>"
   ]
  },
  {
   "cell_type": "markdown",
   "id": "e08b0ce1",
   "metadata": {},
   "source": [
    "###  <span style = \"color:blue\"> A) Describe the purpose of the data set you selected (why was it collected in the first place?).</span>"
   ]
  },
  {
   "cell_type": "markdown",
   "id": "5347a547",
   "metadata": {},
   "source": [
    "#### - The data (fictional) is comprised of scores from three tests of students at a public school along with a variety of personal and socio-economic factors which may contain interaction effects. \n",
    "\n",
    "#### - We assume that this data was collected to identitfy potential relationships between personal and socio-economic factors that could help to predict and better understand which factors affect test scores most. With this knowledge educators, parents and students can focus their attention towards variables which can potentially help students earn higher testing scores.  "
   ]
  },
  {
   "cell_type": "markdown",
   "id": "553a6ddd",
   "metadata": {},
   "source": [
    "###  <span style = \"color:blue\">B) Describe how you would define and measure the outcomes from the dataset. That is, why is this data important and how do you know if you have mined useful knowledge from the dataset?</span>"
   ]
  },
  {
   "cell_type": "markdown",
   "id": "f6d15654",
   "metadata": {},
   "source": [
    "#### - The importance of student education and testing scores are of the utmost importance. Education is the foundation upon which students will build their future on. If we are able to identify factors that could assist in making a more efficient learning and testing experiece it will impact the future positively for many students.\n",
    "\n",
    "#### - We will know if we have mined useful knowledge from the dataset if we are able to identify patterns and significant relationships that help us in identifying student performance factors.\n"
   ]
  },
  {
   "cell_type": "markdown",
   "id": "7614e9d3",
   "metadata": {},
   "source": [
    "### <span style = \"color:blue\">C) How would you measure the effectiveness of a good prediction algorithm? Be specific.</span>"
   ]
  },
  {
   "cell_type": "markdown",
   "id": "79ca5597",
   "metadata": {},
   "source": [
    "#### - A good prediction algorithm will be one that not only allows us to accurately predict test scores for given inputs, but one that will allow us to obtain interpreable results that we can use to better understand to what extent each factor has an effect on testing scores. Understanding which key relationships that lie within our data will help staff, family, and students identify actionable opportunitites in which interventions and support can be provided."
   ]
  },
  {
   "cell_type": "markdown",
   "id": "0150efb5",
   "metadata": {},
   "source": [
    "<hr>\n",
    "\n",
    "# <center>Objective 2</center>\n",
    "\n",
    "## <center>Data Understanding</center>\n",
    "\n",
    "<hr>"
   ]
  },
  {
   "cell_type": "markdown",
   "id": "22401be6",
   "metadata": {},
   "source": [
    "### Data Conversion\n",
    "- Becuase we have many categorical variables... we will anticipate the need for a data conversion but keep a separate df so that can can explore changes between the two. "
   ]
  },
  {
   "cell_type": "code",
   "execution_count": 4,
   "id": "1c07b343",
   "metadata": {},
   "outputs": [
    {
     "name": "stdout",
     "output_type": "stream",
     "text": [
      "Unique values in column 'Gender':['female' 'male']\n",
      "Unique values in column 'EthnicGroup':[nan 'group C' 'group B' 'group A' 'group D' 'group E']\n",
      "Unique values in column 'ParentEduc':[\"bachelor's degree\" 'some college' \"master's degree\" \"associate's degree\"\n",
      " 'high school' 'some high school' nan]\n",
      "Unique values in column 'LunchType':['standard' 'free/reduced']\n",
      "Unique values in column 'TestPrep':['none' nan 'completed']\n",
      "Unique values in column 'ParentMaritalStatus':['married' 'single' 'widowed' nan 'divorced']\n",
      "Unique values in column 'PracticeSport':['regularly' 'sometimes' 'never' nan]\n",
      "Unique values in column 'IsFirstChild':['yes' 'no' nan]\n",
      "Unique values in column 'TransportMeans':['school_bus' nan 'private']\n",
      "Unique values in column 'WklyStudyHours':['< 5' '5 - 10' '> 10' nan]\n"
     ]
    },
    {
     "data": {
      "text/html": [
       "<div>\n",
       "<style scoped>\n",
       "    .dataframe tbody tr th:only-of-type {\n",
       "        vertical-align: middle;\n",
       "    }\n",
       "\n",
       "    .dataframe tbody tr th {\n",
       "        vertical-align: top;\n",
       "    }\n",
       "\n",
       "    .dataframe thead th {\n",
       "        text-align: right;\n",
       "    }\n",
       "</style>\n",
       "<table border=\"1\" class=\"dataframe\">\n",
       "  <thead>\n",
       "    <tr style=\"text-align: right;\">\n",
       "      <th></th>\n",
       "      <th>NrSiblings</th>\n",
       "      <th>MathScore</th>\n",
       "      <th>ReadingScore</th>\n",
       "      <th>WritingScore</th>\n",
       "      <th>Gender_male</th>\n",
       "      <th>EthnicGroup_group B</th>\n",
       "      <th>EthnicGroup_group C</th>\n",
       "      <th>EthnicGroup_group D</th>\n",
       "      <th>EthnicGroup_group E</th>\n",
       "      <th>ParentEduc_bachelor's degree</th>\n",
       "      <th>...</th>\n",
       "      <th>TestPrep_none</th>\n",
       "      <th>ParentMaritalStatus_married</th>\n",
       "      <th>ParentMaritalStatus_single</th>\n",
       "      <th>ParentMaritalStatus_widowed</th>\n",
       "      <th>PracticeSport_regularly</th>\n",
       "      <th>PracticeSport_sometimes</th>\n",
       "      <th>IsFirstChild_yes</th>\n",
       "      <th>TransportMeans_school_bus</th>\n",
       "      <th>WklyStudyHours_&lt; 5</th>\n",
       "      <th>WklyStudyHours_&gt; 10</th>\n",
       "    </tr>\n",
       "  </thead>\n",
       "  <tbody>\n",
       "    <tr>\n",
       "      <th>0</th>\n",
       "      <td>3.0</td>\n",
       "      <td>71</td>\n",
       "      <td>71</td>\n",
       "      <td>74</td>\n",
       "      <td>0</td>\n",
       "      <td>0</td>\n",
       "      <td>0</td>\n",
       "      <td>0</td>\n",
       "      <td>0</td>\n",
       "      <td>1</td>\n",
       "      <td>...</td>\n",
       "      <td>1</td>\n",
       "      <td>1</td>\n",
       "      <td>0</td>\n",
       "      <td>0</td>\n",
       "      <td>1</td>\n",
       "      <td>0</td>\n",
       "      <td>1</td>\n",
       "      <td>1</td>\n",
       "      <td>1</td>\n",
       "      <td>0</td>\n",
       "    </tr>\n",
       "    <tr>\n",
       "      <th>1</th>\n",
       "      <td>0.0</td>\n",
       "      <td>69</td>\n",
       "      <td>90</td>\n",
       "      <td>88</td>\n",
       "      <td>0</td>\n",
       "      <td>0</td>\n",
       "      <td>1</td>\n",
       "      <td>0</td>\n",
       "      <td>0</td>\n",
       "      <td>0</td>\n",
       "      <td>...</td>\n",
       "      <td>0</td>\n",
       "      <td>1</td>\n",
       "      <td>0</td>\n",
       "      <td>0</td>\n",
       "      <td>0</td>\n",
       "      <td>1</td>\n",
       "      <td>1</td>\n",
       "      <td>0</td>\n",
       "      <td>0</td>\n",
       "      <td>0</td>\n",
       "    </tr>\n",
       "    <tr>\n",
       "      <th>2</th>\n",
       "      <td>4.0</td>\n",
       "      <td>87</td>\n",
       "      <td>93</td>\n",
       "      <td>91</td>\n",
       "      <td>0</td>\n",
       "      <td>1</td>\n",
       "      <td>0</td>\n",
       "      <td>0</td>\n",
       "      <td>0</td>\n",
       "      <td>0</td>\n",
       "      <td>...</td>\n",
       "      <td>1</td>\n",
       "      <td>0</td>\n",
       "      <td>1</td>\n",
       "      <td>0</td>\n",
       "      <td>0</td>\n",
       "      <td>1</td>\n",
       "      <td>1</td>\n",
       "      <td>1</td>\n",
       "      <td>1</td>\n",
       "      <td>0</td>\n",
       "    </tr>\n",
       "    <tr>\n",
       "      <th>3</th>\n",
       "      <td>1.0</td>\n",
       "      <td>45</td>\n",
       "      <td>56</td>\n",
       "      <td>42</td>\n",
       "      <td>1</td>\n",
       "      <td>0</td>\n",
       "      <td>0</td>\n",
       "      <td>0</td>\n",
       "      <td>0</td>\n",
       "      <td>0</td>\n",
       "      <td>...</td>\n",
       "      <td>1</td>\n",
       "      <td>1</td>\n",
       "      <td>0</td>\n",
       "      <td>0</td>\n",
       "      <td>0</td>\n",
       "      <td>0</td>\n",
       "      <td>0</td>\n",
       "      <td>0</td>\n",
       "      <td>0</td>\n",
       "      <td>0</td>\n",
       "    </tr>\n",
       "    <tr>\n",
       "      <th>4</th>\n",
       "      <td>0.0</td>\n",
       "      <td>76</td>\n",
       "      <td>78</td>\n",
       "      <td>75</td>\n",
       "      <td>1</td>\n",
       "      <td>0</td>\n",
       "      <td>1</td>\n",
       "      <td>0</td>\n",
       "      <td>0</td>\n",
       "      <td>0</td>\n",
       "      <td>...</td>\n",
       "      <td>1</td>\n",
       "      <td>1</td>\n",
       "      <td>0</td>\n",
       "      <td>0</td>\n",
       "      <td>0</td>\n",
       "      <td>1</td>\n",
       "      <td>1</td>\n",
       "      <td>1</td>\n",
       "      <td>0</td>\n",
       "      <td>0</td>\n",
       "    </tr>\n",
       "    <tr>\n",
       "      <th>...</th>\n",
       "      <td>...</td>\n",
       "      <td>...</td>\n",
       "      <td>...</td>\n",
       "      <td>...</td>\n",
       "      <td>...</td>\n",
       "      <td>...</td>\n",
       "      <td>...</td>\n",
       "      <td>...</td>\n",
       "      <td>...</td>\n",
       "      <td>...</td>\n",
       "      <td>...</td>\n",
       "      <td>...</td>\n",
       "      <td>...</td>\n",
       "      <td>...</td>\n",
       "      <td>...</td>\n",
       "      <td>...</td>\n",
       "      <td>...</td>\n",
       "      <td>...</td>\n",
       "      <td>...</td>\n",
       "      <td>...</td>\n",
       "      <td>...</td>\n",
       "    </tr>\n",
       "    <tr>\n",
       "      <th>30636</th>\n",
       "      <td>2.0</td>\n",
       "      <td>59</td>\n",
       "      <td>61</td>\n",
       "      <td>65</td>\n",
       "      <td>0</td>\n",
       "      <td>0</td>\n",
       "      <td>0</td>\n",
       "      <td>1</td>\n",
       "      <td>0</td>\n",
       "      <td>0</td>\n",
       "      <td>...</td>\n",
       "      <td>1</td>\n",
       "      <td>0</td>\n",
       "      <td>1</td>\n",
       "      <td>0</td>\n",
       "      <td>0</td>\n",
       "      <td>1</td>\n",
       "      <td>0</td>\n",
       "      <td>1</td>\n",
       "      <td>0</td>\n",
       "      <td>0</td>\n",
       "    </tr>\n",
       "    <tr>\n",
       "      <th>30637</th>\n",
       "      <td>1.0</td>\n",
       "      <td>58</td>\n",
       "      <td>53</td>\n",
       "      <td>51</td>\n",
       "      <td>1</td>\n",
       "      <td>0</td>\n",
       "      <td>0</td>\n",
       "      <td>0</td>\n",
       "      <td>1</td>\n",
       "      <td>0</td>\n",
       "      <td>...</td>\n",
       "      <td>1</td>\n",
       "      <td>0</td>\n",
       "      <td>1</td>\n",
       "      <td>0</td>\n",
       "      <td>1</td>\n",
       "      <td>0</td>\n",
       "      <td>0</td>\n",
       "      <td>0</td>\n",
       "      <td>0</td>\n",
       "      <td>0</td>\n",
       "    </tr>\n",
       "    <tr>\n",
       "      <th>30638</th>\n",
       "      <td>1.0</td>\n",
       "      <td>61</td>\n",
       "      <td>70</td>\n",
       "      <td>67</td>\n",
       "      <td>0</td>\n",
       "      <td>0</td>\n",
       "      <td>0</td>\n",
       "      <td>0</td>\n",
       "      <td>0</td>\n",
       "      <td>0</td>\n",
       "      <td>...</td>\n",
       "      <td>0</td>\n",
       "      <td>1</td>\n",
       "      <td>0</td>\n",
       "      <td>0</td>\n",
       "      <td>0</td>\n",
       "      <td>1</td>\n",
       "      <td>0</td>\n",
       "      <td>0</td>\n",
       "      <td>0</td>\n",
       "      <td>0</td>\n",
       "    </tr>\n",
       "    <tr>\n",
       "      <th>30639</th>\n",
       "      <td>3.0</td>\n",
       "      <td>82</td>\n",
       "      <td>90</td>\n",
       "      <td>93</td>\n",
       "      <td>0</td>\n",
       "      <td>0</td>\n",
       "      <td>0</td>\n",
       "      <td>1</td>\n",
       "      <td>0</td>\n",
       "      <td>0</td>\n",
       "      <td>...</td>\n",
       "      <td>0</td>\n",
       "      <td>1</td>\n",
       "      <td>0</td>\n",
       "      <td>0</td>\n",
       "      <td>1</td>\n",
       "      <td>0</td>\n",
       "      <td>0</td>\n",
       "      <td>1</td>\n",
       "      <td>0</td>\n",
       "      <td>0</td>\n",
       "    </tr>\n",
       "    <tr>\n",
       "      <th>30640</th>\n",
       "      <td>1.0</td>\n",
       "      <td>64</td>\n",
       "      <td>60</td>\n",
       "      <td>58</td>\n",
       "      <td>1</td>\n",
       "      <td>1</td>\n",
       "      <td>0</td>\n",
       "      <td>0</td>\n",
       "      <td>0</td>\n",
       "      <td>0</td>\n",
       "      <td>...</td>\n",
       "      <td>1</td>\n",
       "      <td>1</td>\n",
       "      <td>0</td>\n",
       "      <td>0</td>\n",
       "      <td>0</td>\n",
       "      <td>0</td>\n",
       "      <td>0</td>\n",
       "      <td>1</td>\n",
       "      <td>0</td>\n",
       "      <td>0</td>\n",
       "    </tr>\n",
       "  </tbody>\n",
       "</table>\n",
       "<p>30641 rows × 25 columns</p>\n",
       "</div>"
      ],
      "text/plain": [
       "       NrSiblings  MathScore  ReadingScore  WritingScore  Gender_male  \\\n",
       "0             3.0         71            71            74            0   \n",
       "1             0.0         69            90            88            0   \n",
       "2             4.0         87            93            91            0   \n",
       "3             1.0         45            56            42            1   \n",
       "4             0.0         76            78            75            1   \n",
       "...           ...        ...           ...           ...          ...   \n",
       "30636         2.0         59            61            65            0   \n",
       "30637         1.0         58            53            51            1   \n",
       "30638         1.0         61            70            67            0   \n",
       "30639         3.0         82            90            93            0   \n",
       "30640         1.0         64            60            58            1   \n",
       "\n",
       "       EthnicGroup_group B  EthnicGroup_group C  EthnicGroup_group D  \\\n",
       "0                        0                    0                    0   \n",
       "1                        0                    1                    0   \n",
       "2                        1                    0                    0   \n",
       "3                        0                    0                    0   \n",
       "4                        0                    1                    0   \n",
       "...                    ...                  ...                  ...   \n",
       "30636                    0                    0                    1   \n",
       "30637                    0                    0                    0   \n",
       "30638                    0                    0                    0   \n",
       "30639                    0                    0                    1   \n",
       "30640                    1                    0                    0   \n",
       "\n",
       "       EthnicGroup_group E  ParentEduc_bachelor's degree  ...  TestPrep_none  \\\n",
       "0                        0                             1  ...              1   \n",
       "1                        0                             0  ...              0   \n",
       "2                        0                             0  ...              1   \n",
       "3                        0                             0  ...              1   \n",
       "4                        0                             0  ...              1   \n",
       "...                    ...                           ...  ...            ...   \n",
       "30636                    0                             0  ...              1   \n",
       "30637                    1                             0  ...              1   \n",
       "30638                    0                             0  ...              0   \n",
       "30639                    0                             0  ...              0   \n",
       "30640                    0                             0  ...              1   \n",
       "\n",
       "       ParentMaritalStatus_married  ParentMaritalStatus_single  \\\n",
       "0                                1                           0   \n",
       "1                                1                           0   \n",
       "2                                0                           1   \n",
       "3                                1                           0   \n",
       "4                                1                           0   \n",
       "...                            ...                         ...   \n",
       "30636                            0                           1   \n",
       "30637                            0                           1   \n",
       "30638                            1                           0   \n",
       "30639                            1                           0   \n",
       "30640                            1                           0   \n",
       "\n",
       "       ParentMaritalStatus_widowed  PracticeSport_regularly  \\\n",
       "0                                0                        1   \n",
       "1                                0                        0   \n",
       "2                                0                        0   \n",
       "3                                0                        0   \n",
       "4                                0                        0   \n",
       "...                            ...                      ...   \n",
       "30636                            0                        0   \n",
       "30637                            0                        1   \n",
       "30638                            0                        0   \n",
       "30639                            0                        1   \n",
       "30640                            0                        0   \n",
       "\n",
       "       PracticeSport_sometimes  IsFirstChild_yes  TransportMeans_school_bus  \\\n",
       "0                            0                 1                          1   \n",
       "1                            1                 1                          0   \n",
       "2                            1                 1                          1   \n",
       "3                            0                 0                          0   \n",
       "4                            1                 1                          1   \n",
       "...                        ...               ...                        ...   \n",
       "30636                        1                 0                          1   \n",
       "30637                        0                 0                          0   \n",
       "30638                        1                 0                          0   \n",
       "30639                        0                 0                          1   \n",
       "30640                        0                 0                          1   \n",
       "\n",
       "       WklyStudyHours_< 5  WklyStudyHours_> 10  \n",
       "0                       1                    0  \n",
       "1                       0                    0  \n",
       "2                       1                    0  \n",
       "3                       0                    0  \n",
       "4                       0                    0  \n",
       "...                   ...                  ...  \n",
       "30636                   0                    0  \n",
       "30637                   0                    0  \n",
       "30638                   0                    0  \n",
       "30639                   0                    0  \n",
       "30640                   0                    0  \n",
       "\n",
       "[30641 rows x 25 columns]"
      ]
     },
     "execution_count": 4,
     "metadata": {},
     "output_type": "execute_result"
    }
   ],
   "source": [
    "# new dfs with/without object type\n",
    "df_obj = df.select_dtypes(include = \"object\")\n",
    "df_num = df.select_dtypes(exclude = \"object\")\n",
    "\n",
    "# view levels of columns\n",
    "for col in df_obj.columns:\n",
    "    unique_values = df_obj[col].unique()\n",
    "    print(f\"Unique values in column '{col}':{unique_values}\")\n",
    "    \n",
    "    # creating dummy var for the object type df. \n",
    "# dropping first = True for multicollinearity dummy trap\n",
    "df_obj = pd.get_dummies(df_obj, drop_first = True)\n",
    "\n",
    "# combining into one df\n",
    "new_df = pd.concat([df_num, df_obj], axis = 1)\n",
    "\n",
    "# viewing new df. \n",
    "new_df"
   ]
  },
  {
   "cell_type": "markdown",
   "id": "72f4f09a",
   "metadata": {},
   "source": [
    "### <span style = \"color:blue\">A) Describe the meaning and type of data (Scale, Values, etc.) for each attribute in the data file.</span>"
   ]
  },
  {
   "cell_type": "markdown",
   "id": "8f7771b0",
   "metadata": {},
   "source": [
    "### Meaning / Description of Data: \n",
    "\n",
    "    1) Gender: Gender of the student (male/female)\n",
    "    2) EthnicGroup: Ethnic group of the student (group A to E)\n",
    "    3) ParentEduc: Parent(s) education background (from some_highschool to master's degree)\n",
    "    4) LunchType: School lunch type (standard or free/reduced)\n",
    "    5) TestPrep: Test preparation course followed (completed or none)\n",
    "    6) ParentMaritalStatus: Parent(s) marital status (married/single/widowed/divorced)\n",
    "    7) PracticeSport: How often the student parctice sport (never/sometimes/regularly))\n",
    "    8) IsFirstChild: If the child is first child in the family or not (yes/no)\n",
    "    9) NrSiblings: Number of siblings the student has (0 to 7)\n",
    "    10) TransportMeans: Means of transport to school (schoolbus/private)\n",
    "    11) WklyStudyHours: Weekly self-study hours(less that 5hrs; between 5 and 10hrs; more than 10hrs)\n",
    "    12) MathScore: math test score(0-100)\n",
    "    13) ReadingScore: reading test score(0-100)\n",
    "    14) WritingScore: writing test score(0-100)\n"
   ]
  },
  {
   "cell_type": "markdown",
   "id": "c69505fa",
   "metadata": {},
   "source": [
    "###  Original (as-is) Data Types:\n",
    "    1) Gender: object\n",
    "    2) EthnicGroup: object\n",
    "    3) ParentEduc: object\n",
    "    4) LunchType: object\n",
    "    5) TestPrep: object\n",
    "    6) ParentMaritalStatus: object\n",
    "    7) PracticeSport: object\n",
    "    8) IsFirstChild: object\n",
    "    9) NrSiblings: float64\n",
    "    10) TransportMeans: object\n",
    "    11) WklyStudyHours: object\n",
    "    12) MathScore: int64\n",
    "    13) ReadingScore: int64\n",
    "    14) WritingScore:int64\n",
    "    \n",
    "    object = column containing a python object such as strings, lists, or dictionaries.\n",
    "    int64 = column containing integer values\n",
    "    float64 = column containing floating-point values (decimal numbers)"
   ]
  },
  {
   "cell_type": "markdown",
   "id": "b911d33b",
   "metadata": {},
   "source": [
    "### Scale/Values Etc:\n",
    "\n",
    "    1)Gender (male/female)\n",
    "    2)Ethnic Group (group A to E)\n",
    "    3)Parent Educ (from some_highschool to master's degree)\n",
    "    4)Lunch Type (standard or free/reduced)\n",
    "    5)Test Prep (completed or none)\n",
    "    6)Parent Marital Status (married/single/widowed/divorced)\n",
    "    7)Practice Sport (never/sometimes/regularly)\n",
    "    8)Is First Child (yes/no)\n",
    "    9)Nr Siblings (0 to 7)\n",
    "    10)Transport Means (schoolbus/private)\n",
    "    11)Wkly Study Hours (less that 5hrs; between 5 and 10hrs; more than 10hrs)\n",
    "    12)Math Score (0-100)\n",
    "    13)Reading Score (0-100)\n",
    "    14)Writing Score (0-100)"
   ]
  },
  {
   "cell_type": "markdown",
   "id": "64af6cbb",
   "metadata": {},
   "source": [
    "### <span style = \"color:blue\">B) Verify the data quality: Explain any missing values, duplicate data, and outliers. Are those mistakes? How do you deal with these problems? Be. Specific.</span>"
   ]
  },
  {
   "cell_type": "markdown",
   "id": "36f9f963",
   "metadata": {},
   "source": [
    "### - Missing Values:\n",
    "\n",
    "    - The dataset contains many missing values at first glance. Upon further investigation, we found that many columns of data contain \"nan\".\n",
    "    \n",
    "    - The nan values are only in categorical variables and could likely be attributed to not having an answer that fits within the given reponses. It's hard to determine this since we have no information on how each response was gathered, and from who/how it was gathered. \n",
    "    \n",
    "    - The missing data will be handled on a case by case basis. \n",
    "   "
   ]
  },
  {
   "cell_type": "markdown",
   "id": "063002e2",
   "metadata": {},
   "source": [
    "### - Missing Values - Potential Reasonings:\n",
    "\n",
    "    - Ethnic Group: This could be result of not fitting into Group A-E, or a choice to not provide the information. or truly missing data.    \n",
    "    \n",
    "    - Parent Edu: This could be a result of not fitting into the specific groups (having a PhD for example), or a choice not to provide the information. or truly missing data.    \n",
    "    \n",
    "     - TestPrep: This is likely to be a result of not fitting into the specific groups (maybe being \"in progress\", or \"started\"/\"some\"). The reasoning is that this is (likley) not a controversial or discriminatory question in nature and would leave us with a reasonable assumption. \n",
    "        \n",
    "     - ParentMartitalStatus: This is likely to be a result of choosing to not offer a response, or truly missing data. (additionally there is the potential for this to be due to not having the answer choice \"never married\" meaning the parents are together but never married.)\n",
    "     \n",
    "     - Practice Sport: This could be a result of not fitting into a specific group (there is no answer for \"not in sports\", or addressing other extra cirrcular activities, etc).  \n",
    "     \n",
    "     - Is First Child: likley to be missing data? or twins / have a \"step\" sibling of same age? \n",
    "     \n",
    "     - Transport Means: can be missing data or likely to be result of not fitting into the specific group (no walking/biking option)\n",
    "     \n",
    "     - Wkly Study Hours: likely to be missing data since the scale of options is covered. \n",
    "     "
   ]
  },
  {
   "cell_type": "markdown",
   "id": "460e7370",
   "metadata": {},
   "source": [
    "### - Missing Values - Proposed Solutions\n",
    "\n",
    "    - Ethnic Group: nan = not_specified\n",
    "    - Parent Edu: nan = not_specified\n",
    "    - Test Prep: nan = not_specified\n",
    "    - Parent Martital Status: nan = not_specified\n",
    "    - Practice Sport: nan = not_specified **making up 2 percent of missing values it's possible we can drop the rows if we determine an adequate threshold of missing rows to be allowed for dropping.**\n",
    "    - Is First Child:  **making up 2 percent of missing values it's possible we can drop the rows if we determine an adequate threshold of missing rows to be allowed for dropping.**\n",
    "    - Transport means: nan = not_specified\n",
    "    - Wkly Study Hours: nan = no_study?"
   ]
  },
  {
   "cell_type": "code",
   "execution_count": 5,
   "id": "db3f3ed3",
   "metadata": {},
   "outputs": [
    {
     "data": {
      "text/html": [
       "<div>\n",
       "<style scoped>\n",
       "    .dataframe tbody tr th:only-of-type {\n",
       "        vertical-align: middle;\n",
       "    }\n",
       "\n",
       "    .dataframe tbody tr th {\n",
       "        vertical-align: top;\n",
       "    }\n",
       "\n",
       "    .dataframe thead th {\n",
       "        text-align: right;\n",
       "    }\n",
       "</style>\n",
       "<table border=\"1\" class=\"dataframe\">\n",
       "  <thead>\n",
       "    <tr style=\"text-align: right;\">\n",
       "      <th></th>\n",
       "      <th>Gender</th>\n",
       "      <th>EthnicGroup</th>\n",
       "      <th>ParentEduc</th>\n",
       "      <th>LunchType</th>\n",
       "      <th>TestPrep</th>\n",
       "      <th>ParentMaritalStatus</th>\n",
       "      <th>PracticeSport</th>\n",
       "      <th>IsFirstChild</th>\n",
       "      <th>NrSiblings</th>\n",
       "      <th>TransportMeans</th>\n",
       "      <th>WklyStudyHours</th>\n",
       "      <th>MathScore</th>\n",
       "      <th>ReadingScore</th>\n",
       "      <th>WritingScore</th>\n",
       "    </tr>\n",
       "  </thead>\n",
       "  <tbody>\n",
       "    <tr>\n",
       "      <th>0</th>\n",
       "      <td>False</td>\n",
       "      <td>True</td>\n",
       "      <td>False</td>\n",
       "      <td>False</td>\n",
       "      <td>False</td>\n",
       "      <td>False</td>\n",
       "      <td>False</td>\n",
       "      <td>False</td>\n",
       "      <td>False</td>\n",
       "      <td>False</td>\n",
       "      <td>False</td>\n",
       "      <td>False</td>\n",
       "      <td>False</td>\n",
       "      <td>False</td>\n",
       "    </tr>\n",
       "    <tr>\n",
       "      <th>1</th>\n",
       "      <td>False</td>\n",
       "      <td>False</td>\n",
       "      <td>False</td>\n",
       "      <td>False</td>\n",
       "      <td>True</td>\n",
       "      <td>False</td>\n",
       "      <td>False</td>\n",
       "      <td>False</td>\n",
       "      <td>False</td>\n",
       "      <td>True</td>\n",
       "      <td>False</td>\n",
       "      <td>False</td>\n",
       "      <td>False</td>\n",
       "      <td>False</td>\n",
       "    </tr>\n",
       "    <tr>\n",
       "      <th>2</th>\n",
       "      <td>False</td>\n",
       "      <td>False</td>\n",
       "      <td>False</td>\n",
       "      <td>False</td>\n",
       "      <td>False</td>\n",
       "      <td>False</td>\n",
       "      <td>False</td>\n",
       "      <td>False</td>\n",
       "      <td>False</td>\n",
       "      <td>False</td>\n",
       "      <td>False</td>\n",
       "      <td>False</td>\n",
       "      <td>False</td>\n",
       "      <td>False</td>\n",
       "    </tr>\n",
       "    <tr>\n",
       "      <th>3</th>\n",
       "      <td>False</td>\n",
       "      <td>False</td>\n",
       "      <td>False</td>\n",
       "      <td>False</td>\n",
       "      <td>False</td>\n",
       "      <td>False</td>\n",
       "      <td>False</td>\n",
       "      <td>False</td>\n",
       "      <td>False</td>\n",
       "      <td>True</td>\n",
       "      <td>False</td>\n",
       "      <td>False</td>\n",
       "      <td>False</td>\n",
       "      <td>False</td>\n",
       "    </tr>\n",
       "    <tr>\n",
       "      <th>4</th>\n",
       "      <td>False</td>\n",
       "      <td>False</td>\n",
       "      <td>False</td>\n",
       "      <td>False</td>\n",
       "      <td>False</td>\n",
       "      <td>False</td>\n",
       "      <td>False</td>\n",
       "      <td>False</td>\n",
       "      <td>False</td>\n",
       "      <td>False</td>\n",
       "      <td>False</td>\n",
       "      <td>False</td>\n",
       "      <td>False</td>\n",
       "      <td>False</td>\n",
       "    </tr>\n",
       "    <tr>\n",
       "      <th>...</th>\n",
       "      <td>...</td>\n",
       "      <td>...</td>\n",
       "      <td>...</td>\n",
       "      <td>...</td>\n",
       "      <td>...</td>\n",
       "      <td>...</td>\n",
       "      <td>...</td>\n",
       "      <td>...</td>\n",
       "      <td>...</td>\n",
       "      <td>...</td>\n",
       "      <td>...</td>\n",
       "      <td>...</td>\n",
       "      <td>...</td>\n",
       "      <td>...</td>\n",
       "    </tr>\n",
       "    <tr>\n",
       "      <th>30636</th>\n",
       "      <td>False</td>\n",
       "      <td>False</td>\n",
       "      <td>False</td>\n",
       "      <td>False</td>\n",
       "      <td>False</td>\n",
       "      <td>False</td>\n",
       "      <td>False</td>\n",
       "      <td>False</td>\n",
       "      <td>False</td>\n",
       "      <td>False</td>\n",
       "      <td>False</td>\n",
       "      <td>False</td>\n",
       "      <td>False</td>\n",
       "      <td>False</td>\n",
       "    </tr>\n",
       "    <tr>\n",
       "      <th>30637</th>\n",
       "      <td>False</td>\n",
       "      <td>False</td>\n",
       "      <td>False</td>\n",
       "      <td>False</td>\n",
       "      <td>False</td>\n",
       "      <td>False</td>\n",
       "      <td>False</td>\n",
       "      <td>False</td>\n",
       "      <td>False</td>\n",
       "      <td>False</td>\n",
       "      <td>False</td>\n",
       "      <td>False</td>\n",
       "      <td>False</td>\n",
       "      <td>False</td>\n",
       "    </tr>\n",
       "    <tr>\n",
       "      <th>30638</th>\n",
       "      <td>False</td>\n",
       "      <td>True</td>\n",
       "      <td>False</td>\n",
       "      <td>False</td>\n",
       "      <td>False</td>\n",
       "      <td>False</td>\n",
       "      <td>False</td>\n",
       "      <td>False</td>\n",
       "      <td>False</td>\n",
       "      <td>False</td>\n",
       "      <td>False</td>\n",
       "      <td>False</td>\n",
       "      <td>False</td>\n",
       "      <td>False</td>\n",
       "    </tr>\n",
       "    <tr>\n",
       "      <th>30639</th>\n",
       "      <td>False</td>\n",
       "      <td>False</td>\n",
       "      <td>False</td>\n",
       "      <td>False</td>\n",
       "      <td>False</td>\n",
       "      <td>False</td>\n",
       "      <td>False</td>\n",
       "      <td>False</td>\n",
       "      <td>False</td>\n",
       "      <td>False</td>\n",
       "      <td>False</td>\n",
       "      <td>False</td>\n",
       "      <td>False</td>\n",
       "      <td>False</td>\n",
       "    </tr>\n",
       "    <tr>\n",
       "      <th>30640</th>\n",
       "      <td>False</td>\n",
       "      <td>False</td>\n",
       "      <td>False</td>\n",
       "      <td>False</td>\n",
       "      <td>False</td>\n",
       "      <td>False</td>\n",
       "      <td>False</td>\n",
       "      <td>False</td>\n",
       "      <td>False</td>\n",
       "      <td>False</td>\n",
       "      <td>False</td>\n",
       "      <td>False</td>\n",
       "      <td>False</td>\n",
       "      <td>False</td>\n",
       "    </tr>\n",
       "  </tbody>\n",
       "</table>\n",
       "<p>30641 rows × 14 columns</p>\n",
       "</div>"
      ],
      "text/plain": [
       "       Gender  EthnicGroup  ParentEduc  LunchType  TestPrep  \\\n",
       "0       False         True       False      False     False   \n",
       "1       False        False       False      False      True   \n",
       "2       False        False       False      False     False   \n",
       "3       False        False       False      False     False   \n",
       "4       False        False       False      False     False   \n",
       "...       ...          ...         ...        ...       ...   \n",
       "30636   False        False       False      False     False   \n",
       "30637   False        False       False      False     False   \n",
       "30638   False         True       False      False     False   \n",
       "30639   False        False       False      False     False   \n",
       "30640   False        False       False      False     False   \n",
       "\n",
       "       ParentMaritalStatus  PracticeSport  IsFirstChild  NrSiblings  \\\n",
       "0                    False          False         False       False   \n",
       "1                    False          False         False       False   \n",
       "2                    False          False         False       False   \n",
       "3                    False          False         False       False   \n",
       "4                    False          False         False       False   \n",
       "...                    ...            ...           ...         ...   \n",
       "30636                False          False         False       False   \n",
       "30637                False          False         False       False   \n",
       "30638                False          False         False       False   \n",
       "30639                False          False         False       False   \n",
       "30640                False          False         False       False   \n",
       "\n",
       "       TransportMeans  WklyStudyHours  MathScore  ReadingScore  WritingScore  \n",
       "0               False           False      False         False         False  \n",
       "1                True           False      False         False         False  \n",
       "2               False           False      False         False         False  \n",
       "3                True           False      False         False         False  \n",
       "4               False           False      False         False         False  \n",
       "...               ...             ...        ...           ...           ...  \n",
       "30636           False           False      False         False         False  \n",
       "30637           False           False      False         False         False  \n",
       "30638           False           False      False         False         False  \n",
       "30639           False           False      False         False         False  \n",
       "30640           False           False      False         False         False  \n",
       "\n",
       "[30641 rows x 14 columns]"
      ]
     },
     "execution_count": 5,
     "metadata": {},
     "output_type": "execute_result"
    }
   ],
   "source": [
    "# observing missing data\n",
    "df.isnull()"
   ]
  },
  {
   "cell_type": "code",
   "execution_count": 6,
   "id": "c63c3b62",
   "metadata": {},
   "outputs": [
    {
     "data": {
      "text/plain": [
       "Gender                    0\n",
       "EthnicGroup            1840\n",
       "ParentEduc             1845\n",
       "LunchType                 0\n",
       "TestPrep               1830\n",
       "ParentMaritalStatus    1190\n",
       "PracticeSport           631\n",
       "IsFirstChild            904\n",
       "NrSiblings             1572\n",
       "TransportMeans         3134\n",
       "WklyStudyHours          955\n",
       "MathScore                 0\n",
       "ReadingScore              0\n",
       "WritingScore              0\n",
       "dtype: int64"
      ]
     },
     "execution_count": 6,
     "metadata": {},
     "output_type": "execute_result"
    }
   ],
   "source": [
    "# missing data\n",
    "df.isnull().sum()"
   ]
  },
  {
   "cell_type": "code",
   "execution_count": 7,
   "id": "b88b3dd5",
   "metadata": {},
   "outputs": [
    {
     "data": {
      "text/plain": [
       "Gender                  0.000000\n",
       "EthnicGroup             6.005026\n",
       "ParentEduc              6.021344\n",
       "LunchType               0.000000\n",
       "TestPrep                5.972390\n",
       "ParentMaritalStatus     3.883685\n",
       "PracticeSport           2.059332\n",
       "IsFirstChild            2.950295\n",
       "NrSiblings              5.130381\n",
       "TransportMeans         10.228126\n",
       "WklyStudyHours          3.116739\n",
       "MathScore               0.000000\n",
       "ReadingScore            0.000000\n",
       "WritingScore            0.000000\n",
       "dtype: float64"
      ]
     },
     "execution_count": 7,
     "metadata": {},
     "output_type": "execute_result"
    }
   ],
   "source": [
    "# percentage of missing data\n",
    "100 * df.isnull().sum() / len(df)"
   ]
  },
  {
   "cell_type": "code",
   "execution_count": 8,
   "id": "3c53aa0e",
   "metadata": {},
   "outputs": [],
   "source": [
    "def percent_missing(df):\n",
    "    percent_nan = 100* df.isnull().sum()/len(df)\n",
    "    percent_nan = percent_nan[percent_nan > 0].sort_values()\n",
    "    return percent_nan"
   ]
  },
  {
   "cell_type": "code",
   "execution_count": 9,
   "id": "e755cfd9",
   "metadata": {},
   "outputs": [],
   "source": [
    "percent_nan = percent_missing(df)"
   ]
  },
  {
   "cell_type": "code",
   "execution_count": 10,
   "id": "cb51a9f5",
   "metadata": {},
   "outputs": [
    {
     "data": {
      "image/png": "[encoded data removed]",
      "text/plain": [
       "<Figure size 1200x750 with 1 Axes>"
      ]
     },
     "metadata": {
      "needs_background": "light"
     },
     "output_type": "display_data"
    }
   ],
   "source": [
    "# plot of missing data (percentage) \n",
    "plt.figure(figsize= (8,5), dpi = 150)\n",
    "sns.barplot(x=percent_nan.index, y = percent_nan)\n",
    "plt.title(\"Bar Plot of Missing Data (%)\")\n",
    "plt.xlabel(\"Explanatory Variables\")\n",
    "plt.ylabel(\"Percent Missing (%)\")\n",
    "plt.xticks(rotation = 45);"
   ]
  },
  {
   "cell_type": "markdown",
   "id": "dd54f7c9",
   "metadata": {},
   "source": [
    "### - Duplicate Data"
   ]
  },
  {
   "cell_type": "markdown",
   "id": "d0cdb852",
   "metadata": {},
   "source": [
    "We do not appear to have duplicated rows or columns in the data. While there may be certain values (such as scores) which are \"duplicated\" this is to be expected."
   ]
  },
  {
   "cell_type": "code",
   "execution_count": 11,
   "id": "c14046f5",
   "metadata": {},
   "outputs": [
    {
     "name": "stdout",
     "output_type": "stream",
     "text": [
      "Total Duplicated Rows 0\n",
      "Total Duplicated Columns 0\n"
     ]
    }
   ],
   "source": [
    "# viewing duplicated data rows/cols\n",
    "duplicate_sum = df.duplicated().sum()\n",
    "print(\"Total Duplicated Rows\", duplicate_sum)\n",
    "\n",
    "duplicate_sum_column = df.duplicated(). sum(axis =0)\n",
    "print(\"Total Duplicated Columns\", duplicate_sum_column)"
   ]
  },
  {
   "cell_type": "markdown",
   "id": "a162ec56",
   "metadata": {},
   "source": [
    "### - Outliers"
   ]
  },
  {
   "cell_type": "code",
   "execution_count": 14,
   "id": "6af9aee4",
   "metadata": {},
   "outputs": [],
   "source": [
    "def find_IQR(df,x):\n",
    "    # IQR\n",
    "    Q1 = np.percentile(df[x], 25)\n",
    "    Q3 = np.percentile(df[x], 75)\n",
    "    IQR = Q3 - Q1\n",
    "    return Q1, Q3, IQR"
   ]
  },
  {
   "cell_type": "code",
   "execution_count": 15,
   "id": "654c7598-cf19-45ce-8300-1b2b0857126c",
   "metadata": {},
   "outputs": [
    {
     "data": {
      "text/html": [
       "<div>\n",
       "<style scoped>\n",
       "    .dataframe tbody tr th:only-of-type {\n",
       "        vertical-align: middle;\n",
       "    }\n",
       "\n",
       "    .dataframe tbody tr th {\n",
       "        vertical-align: top;\n",
       "    }\n",
       "\n",
       "    .dataframe thead th {\n",
       "        text-align: right;\n",
       "    }\n",
       "</style>\n",
       "<table border=\"1\" class=\"dataframe\">\n",
       "  <thead>\n",
       "    <tr style=\"text-align: right;\">\n",
       "      <th></th>\n",
       "      <th>Gender</th>\n",
       "      <th>EthnicGroup</th>\n",
       "      <th>ParentEduc</th>\n",
       "      <th>LunchType</th>\n",
       "      <th>TestPrep</th>\n",
       "      <th>ParentMaritalStatus</th>\n",
       "      <th>PracticeSport</th>\n",
       "      <th>IsFirstChild</th>\n",
       "      <th>NrSiblings</th>\n",
       "      <th>TransportMeans</th>\n",
       "      <th>WklyStudyHours</th>\n",
       "      <th>MathScore</th>\n",
       "      <th>ReadingScore</th>\n",
       "      <th>WritingScore</th>\n",
       "    </tr>\n",
       "  </thead>\n",
       "  <tbody>\n",
       "  </tbody>\n",
       "</table>\n",
       "</div>"
      ],
      "text/plain": [
       "Empty DataFrame\n",
       "Columns: [Gender, EthnicGroup, ParentEduc, LunchType, TestPrep, ParentMaritalStatus, PracticeSport, IsFirstChild, NrSiblings, TransportMeans, WklyStudyHours, MathScore, ReadingScore, WritingScore]\n",
       "Index: []"
      ]
     },
     "execution_count": 15,
     "metadata": {},
     "output_type": "execute_result"
    }
   ],
   "source": [
    "# Reading IQR\n",
    "Q1, Q3, IQR = find_IQR(df, \"MathScore\")\n",
    "\n",
    "# Upper Bound\n",
    "math_upper=Q3+1.5*IQR\n",
    "mathupper_array=df[np.array(df[\"MathScore\"]>=math_upper)]\n",
    "\n",
    "mathupper_array"
   ]
  },
  {
   "cell_type": "code",
   "execution_count": 16,
   "id": "84d82d85-8d12-4302-ab96-19b67a9127eb",
   "metadata": {},
   "outputs": [
    {
     "data": {
      "text/html": [
       "<div>\n",
       "<style scoped>\n",
       "    .dataframe tbody tr th:only-of-type {\n",
       "        vertical-align: middle;\n",
       "    }\n",
       "\n",
       "    .dataframe tbody tr th {\n",
       "        vertical-align: top;\n",
       "    }\n",
       "\n",
       "    .dataframe thead th {\n",
       "        text-align: right;\n",
       "    }\n",
       "</style>\n",
       "<table border=\"1\" class=\"dataframe\">\n",
       "  <thead>\n",
       "    <tr style=\"text-align: right;\">\n",
       "      <th></th>\n",
       "      <th>Gender</th>\n",
       "      <th>EthnicGroup</th>\n",
       "      <th>ParentEduc</th>\n",
       "      <th>LunchType</th>\n",
       "      <th>TestPrep</th>\n",
       "      <th>ParentMaritalStatus</th>\n",
       "      <th>PracticeSport</th>\n",
       "      <th>IsFirstChild</th>\n",
       "      <th>NrSiblings</th>\n",
       "      <th>TransportMeans</th>\n",
       "      <th>WklyStudyHours</th>\n",
       "      <th>MathScore</th>\n",
       "      <th>ReadingScore</th>\n",
       "      <th>WritingScore</th>\n",
       "    </tr>\n",
       "  </thead>\n",
       "  <tbody>\n",
       "    <tr>\n",
       "      <th>17</th>\n",
       "      <td>female</td>\n",
       "      <td>group B</td>\n",
       "      <td>some high school</td>\n",
       "      <td>free/reduced</td>\n",
       "      <td>none</td>\n",
       "      <td>divorced</td>\n",
       "      <td>sometimes</td>\n",
       "      <td>yes</td>\n",
       "      <td>1.0</td>\n",
       "      <td>school_bus</td>\n",
       "      <td>5 - 10</td>\n",
       "      <td>18</td>\n",
       "      <td>32</td>\n",
       "      <td>28</td>\n",
       "    </tr>\n",
       "    <tr>\n",
       "      <th>55</th>\n",
       "      <td>female</td>\n",
       "      <td>group C</td>\n",
       "      <td>some high school</td>\n",
       "      <td>free/reduced</td>\n",
       "      <td>none</td>\n",
       "      <td>single</td>\n",
       "      <td>regularly</td>\n",
       "      <td>yes</td>\n",
       "      <td>3.0</td>\n",
       "      <td>school_bus</td>\n",
       "      <td>&gt; 10</td>\n",
       "      <td>0</td>\n",
       "      <td>17</td>\n",
       "      <td>10</td>\n",
       "    </tr>\n",
       "    <tr>\n",
       "      <th>136</th>\n",
       "      <td>female</td>\n",
       "      <td>group C</td>\n",
       "      <td>some college</td>\n",
       "      <td>free/reduced</td>\n",
       "      <td>none</td>\n",
       "      <td>single</td>\n",
       "      <td>regularly</td>\n",
       "      <td>yes</td>\n",
       "      <td>1.0</td>\n",
       "      <td>school_bus</td>\n",
       "      <td>&lt; 5</td>\n",
       "      <td>21</td>\n",
       "      <td>38</td>\n",
       "      <td>33</td>\n",
       "    </tr>\n",
       "    <tr>\n",
       "      <th>319</th>\n",
       "      <td>female</td>\n",
       "      <td>group B</td>\n",
       "      <td>some high school</td>\n",
       "      <td>free/reduced</td>\n",
       "      <td>none</td>\n",
       "      <td>single</td>\n",
       "      <td>sometimes</td>\n",
       "      <td>no</td>\n",
       "      <td>3.0</td>\n",
       "      <td>school_bus</td>\n",
       "      <td>&lt; 5</td>\n",
       "      <td>23</td>\n",
       "      <td>37</td>\n",
       "      <td>26</td>\n",
       "    </tr>\n",
       "    <tr>\n",
       "      <th>751</th>\n",
       "      <td>female</td>\n",
       "      <td>group B</td>\n",
       "      <td>some college</td>\n",
       "      <td>standard</td>\n",
       "      <td>none</td>\n",
       "      <td>single</td>\n",
       "      <td>regularly</td>\n",
       "      <td>no</td>\n",
       "      <td>4.0</td>\n",
       "      <td>private</td>\n",
       "      <td>&lt; 5</td>\n",
       "      <td>18</td>\n",
       "      <td>37</td>\n",
       "      <td>32</td>\n",
       "    </tr>\n",
       "    <tr>\n",
       "      <th>...</th>\n",
       "      <td>...</td>\n",
       "      <td>...</td>\n",
       "      <td>...</td>\n",
       "      <td>...</td>\n",
       "      <td>...</td>\n",
       "      <td>...</td>\n",
       "      <td>...</td>\n",
       "      <td>...</td>\n",
       "      <td>...</td>\n",
       "      <td>...</td>\n",
       "      <td>...</td>\n",
       "      <td>...</td>\n",
       "      <td>...</td>\n",
       "      <td>...</td>\n",
       "    </tr>\n",
       "    <tr>\n",
       "      <th>28544</th>\n",
       "      <td>female</td>\n",
       "      <td>group C</td>\n",
       "      <td>some college</td>\n",
       "      <td>free/reduced</td>\n",
       "      <td>none</td>\n",
       "      <td>single</td>\n",
       "      <td>sometimes</td>\n",
       "      <td>yes</td>\n",
       "      <td>3.0</td>\n",
       "      <td>private</td>\n",
       "      <td>NaN</td>\n",
       "      <td>11</td>\n",
       "      <td>39</td>\n",
       "      <td>34</td>\n",
       "    </tr>\n",
       "    <tr>\n",
       "      <th>28597</th>\n",
       "      <td>female</td>\n",
       "      <td>group D</td>\n",
       "      <td>high school</td>\n",
       "      <td>free/reduced</td>\n",
       "      <td>completed</td>\n",
       "      <td>married</td>\n",
       "      <td>sometimes</td>\n",
       "      <td>yes</td>\n",
       "      <td>2.0</td>\n",
       "      <td>school_bus</td>\n",
       "      <td>&gt; 10</td>\n",
       "      <td>9</td>\n",
       "      <td>32</td>\n",
       "      <td>32</td>\n",
       "    </tr>\n",
       "    <tr>\n",
       "      <th>29000</th>\n",
       "      <td>male</td>\n",
       "      <td>group A</td>\n",
       "      <td>some college</td>\n",
       "      <td>free/reduced</td>\n",
       "      <td>none</td>\n",
       "      <td>married</td>\n",
       "      <td>sometimes</td>\n",
       "      <td>no</td>\n",
       "      <td>1.0</td>\n",
       "      <td>school_bus</td>\n",
       "      <td>&lt; 5</td>\n",
       "      <td>21</td>\n",
       "      <td>18</td>\n",
       "      <td>21</td>\n",
       "    </tr>\n",
       "    <tr>\n",
       "      <th>29654</th>\n",
       "      <td>female</td>\n",
       "      <td>group B</td>\n",
       "      <td>associate's degree</td>\n",
       "      <td>free/reduced</td>\n",
       "      <td>none</td>\n",
       "      <td>single</td>\n",
       "      <td>sometimes</td>\n",
       "      <td>no</td>\n",
       "      <td>4.0</td>\n",
       "      <td>private</td>\n",
       "      <td>5 - 10</td>\n",
       "      <td>19</td>\n",
       "      <td>41</td>\n",
       "      <td>34</td>\n",
       "    </tr>\n",
       "    <tr>\n",
       "      <th>29947</th>\n",
       "      <td>female</td>\n",
       "      <td>group B</td>\n",
       "      <td>some college</td>\n",
       "      <td>free/reduced</td>\n",
       "      <td>none</td>\n",
       "      <td>married</td>\n",
       "      <td>regularly</td>\n",
       "      <td>no</td>\n",
       "      <td>1.0</td>\n",
       "      <td>private</td>\n",
       "      <td>5 - 10</td>\n",
       "      <td>23</td>\n",
       "      <td>44</td>\n",
       "      <td>38</td>\n",
       "    </tr>\n",
       "  </tbody>\n",
       "</table>\n",
       "<p>93 rows × 14 columns</p>\n",
       "</div>"
      ],
      "text/plain": [
       "       Gender EthnicGroup          ParentEduc     LunchType   TestPrep  \\\n",
       "17     female     group B    some high school  free/reduced       none   \n",
       "55     female     group C    some high school  free/reduced       none   \n",
       "136    female     group C        some college  free/reduced       none   \n",
       "319    female     group B    some high school  free/reduced       none   \n",
       "751    female     group B        some college      standard       none   \n",
       "...       ...         ...                 ...           ...        ...   \n",
       "28544  female     group C        some college  free/reduced       none   \n",
       "28597  female     group D         high school  free/reduced  completed   \n",
       "29000    male     group A        some college  free/reduced       none   \n",
       "29654  female     group B  associate's degree  free/reduced       none   \n",
       "29947  female     group B        some college  free/reduced       none   \n",
       "\n",
       "      ParentMaritalStatus PracticeSport IsFirstChild  NrSiblings  \\\n",
       "17               divorced     sometimes          yes         1.0   \n",
       "55                 single     regularly          yes         3.0   \n",
       "136                single     regularly          yes         1.0   \n",
       "319                single     sometimes           no         3.0   \n",
       "751                single     regularly           no         4.0   \n",
       "...                   ...           ...          ...         ...   \n",
       "28544              single     sometimes          yes         3.0   \n",
       "28597             married     sometimes          yes         2.0   \n",
       "29000             married     sometimes           no         1.0   \n",
       "29654              single     sometimes           no         4.0   \n",
       "29947             married     regularly           no         1.0   \n",
       "\n",
       "      TransportMeans WklyStudyHours  MathScore  ReadingScore  WritingScore  \n",
       "17        school_bus         5 - 10         18            32            28  \n",
       "55        school_bus           > 10          0            17            10  \n",
       "136       school_bus            < 5         21            38            33  \n",
       "319       school_bus            < 5         23            37            26  \n",
       "751          private            < 5         18            37            32  \n",
       "...              ...            ...        ...           ...           ...  \n",
       "28544        private            NaN         11            39            34  \n",
       "28597     school_bus           > 10          9            32            32  \n",
       "29000     school_bus            < 5         21            18            21  \n",
       "29654        private         5 - 10         19            41            34  \n",
       "29947        private         5 - 10         23            44            38  \n",
       "\n",
       "[93 rows x 14 columns]"
      ]
     },
     "execution_count": 16,
     "metadata": {},
     "output_type": "execute_result"
    }
   ],
   "source": [
    "# Math Lower bound\n",
    "math_lower=Q1-1.5*IQR\n",
    "mathlower_array=df[np.array(df[\"MathScore\"]<=math_lower)]\n",
    "\n",
    "mathlower_array"
   ]
  },
  {
   "cell_type": "code",
   "execution_count": 17,
   "id": "8f3ea226-8b57-4632-ae39-0c1dd31c56ee",
   "metadata": {},
   "outputs": [
    {
     "data": {
      "image/png": "[encoded data removed]",
      "text/plain": [
       "<Figure size 432x288 with 1 Axes>"
      ]
     },
     "metadata": {
      "needs_background": "light"
     },
     "output_type": "display_data"
    }
   ],
   "source": [
    "sns.boxplot(df[\"MathScore\"])\n",
    "plt.show()"
   ]
  },
  {
   "cell_type": "code",
   "execution_count": null,
   "id": "2f1ef7c3",
   "metadata": {},
   "outputs": [],
   "source": [
    "# Reading IQR\n",
    "Q1, Q3, IQR = find_IQR(df, \"ReadingScore\")\n",
    "\n",
    "# Upper Bound\n",
    "reading_upper=Q3+1.5*IQR\n",
    "readingupper_array=df[np.array(df[\"ReadingScore\"]>=reading_upper)]\n",
    "\n",
    "readingupper_array"
   ]
  },
  {
   "cell_type": "code",
   "execution_count": null,
   "id": "cdf35549-43c9-423d-a4f9-cf31fe9358c2",
   "metadata": {},
   "outputs": [],
   "source": [
    "# Lower bound\n",
    "reading_lower=Q1-1.5*IQR\n",
    "readinglower_array=df[np.array(df[\"ReadingScore\"]<=reading_lower)]\n",
    "\n",
    "readinglower_array"
   ]
  },
  {
   "cell_type": "code",
   "execution_count": null,
   "id": "0a2612fe",
   "metadata": {},
   "outputs": [],
   "source": [
    "sns.boxplot(df[\"ReadingScore\"])\n",
    "plt.show()"
   ]
  },
  {
   "cell_type": "code",
   "execution_count": null,
   "id": "40fa03ba",
   "metadata": {},
   "outputs": [],
   "source": [
    "# Writing IQR\n",
    "Q1, Q3, IQR = find_IQR(df, \"WritingScore\")\n",
    "\n",
    "# Upper Bound\n",
    "write_upper=Q3+1.5*IQR\n",
    "writeupper_array=df[np.array(df[\"WritingScore\"]>=write_upper)]\n",
    "\n",
    "writeupper_array"
   ]
  },
  {
   "cell_type": "code",
   "execution_count": null,
   "id": "b029fd2f-7107-4703-b8d0-ca63ea501b81",
   "metadata": {},
   "outputs": [],
   "source": [
    "# Lower bound\n",
    "write_lower=Q1-1.5*IQR\n",
    "writelower_array=df[np.array(df[\"WritingScore\"]<=write_lower)]\n",
    "\n",
    "writelower_array"
   ]
  },
  {
   "cell_type": "code",
   "execution_count": null,
   "id": "5abeba56",
   "metadata": {},
   "outputs": [],
   "source": [
    "sns.boxplot(df[\"WritingScore\"])\n",
    "plt.show()"
   ]
  },
  {
   "cell_type": "markdown",
   "id": "a710f270",
   "metadata": {},
   "source": [
    "### <span style = \"color:blue\">C) Give simple, appropriate statistics (range, mode, mean, median, variance, counts, etc.) for the most important attributes and describe what they mean or if you found somthing interesting.</span>\n",
    "\n",
    "### <span style = \"color:blue\">Explain the significance of the statistics run and why they are meaniningful.</span>"
   ]
  },
  {
   "cell_type": "code",
   "execution_count": null,
   "id": "2928ab97",
   "metadata": {},
   "outputs": [],
   "source": [
    "df.describe().transpose()"
   ]
  },
  {
   "cell_type": "markdown",
   "id": "5763243d",
   "metadata": {},
   "source": [
    "### Metrics Defined\n",
    "\n",
    "   - **Range**: The range is the difference between the highest and the lowest values in a dataset. It gives an indication of how spread out the data is.\n",
    "\n",
    "   - **Mode**: The mode is the value that appears most frequently in a dataset. It represents the most common or typical value in the data.\n",
    "\n",
    "   - **Mean**: The mean is the average of all values in a dataset. It is calculated by summing up all the values and dividing by the number of values.\n",
    "\n",
    "   - **Median**: The median is the middle value of a dataset when it is ordered from lowest to highest (or highest to lowest). It is used as a measure of central tendency when the dataset contains outliers or is not normally distributed.\n",
    "\n",
    "   - **Standard Deviation**: The standard deviation is a measure of the spread or dispersion of a dataset. It represents how much the values in a dataset vary from the mean. A higher standard deviation indicates a larger spread of the data.\n",
    "\n",
    "   - **Min**: The minimum value is the smallest value in a dataset.\n",
    "\n",
    "   - **25%**: The 25th percentile, also known as the first quartile, is the value below which 25% of the data falls.\n",
    "\n",
    "   - **50%**: The 50th percentile, also known as the median, is the middle value of the dataset.\n",
    "\n",
    "   - **75%**: The 75th percentile, also known as the third quartile, is the value below which 75% of the data falls.\n",
    "\n",
    "   - **Max**: The maximum value is the largest value in a dataset.\n",
    "\n",
    "   - **Count**: The count is the total number of values in a dataset."
   ]
  },
  {
   "cell_type": "markdown",
   "id": "3cad75cc",
   "metadata": {},
   "source": [
    "### Calculated Metrics For Our Data\n",
    "- **Range**:\n",
    "- **Mode**:\n",
    "- **Mean**:\n",
    "- **Median**:\n",
    "- **Standard Deviation**:\n",
    "- **Min**:\n",
    "- **25%**:\n",
    "- **50%**: \n",
    "- **75%**:\n",
    "- **Max**:\n",
    "- **Count**:"
   ]
  },
  {
   "cell_type": "markdown",
   "id": "65f1e36e",
   "metadata": {},
   "source": [
    "### <span style = \"color:blue\">D) Visualize the most important attributes appropriately (at least 5). </span>\n",
    " \n",
    " *provide an interpretation for each chart*\n",
    "\n",
    "  *explain why each visual is appropriate.* "
   ]
  },
  {
   "cell_type": "code",
   "execution_count": null,
   "id": "30dc79ea",
   "metadata": {},
   "outputs": [],
   "source": [
    "# raw data corr viz. \n",
    "plt.figure(figsize=(12,8), dpi=200)\n",
    "sns.heatmap(df.corr(), cmap = \"mako\", annot=True)\n",
    "plt.show()"
   ]
  },
  {
   "cell_type": "code",
   "execution_count": null,
   "id": "453913b6",
   "metadata": {},
   "outputs": [],
   "source": [
    "plt.figure(figsize=(12,10), dpi=200)\n",
    "sns.heatmap(new_df.corr(),cmap = \"magma\", linecolor='white', linewidths=1)"
   ]
  },
  {
   "cell_type": "code",
   "execution_count": null,
   "id": "4331ceea",
   "metadata": {},
   "outputs": [],
   "source": [
    "new_df.corr()[\"WritingScore\"].sort_values()"
   ]
  },
  {
   "cell_type": "code",
   "execution_count": null,
   "id": "b602fbde",
   "metadata": {},
   "outputs": [],
   "source": [
    "new_df.corr()[\"ReadingScore\"].sort_values()"
   ]
  },
  {
   "cell_type": "code",
   "execution_count": null,
   "id": "6fb57b14",
   "metadata": {},
   "outputs": [],
   "source": [
    "new_df.corr()[\"MathScore\"].sort_values()"
   ]
  },
  {
   "cell_type": "markdown",
   "id": "bed7cf5b",
   "metadata": {},
   "source": [
    "### Gender / Test Score Viz"
   ]
  },
  {
   "cell_type": "code",
   "execution_count": null,
   "id": "12839e13",
   "metadata": {},
   "outputs": [],
   "source": [
    "# create a 2x2 subplot grid\n",
    "fig, axes = plt.subplots(nrows=2, ncols=2, figsize=(10, 10))\n",
    "\n",
    "# create boxplots for each variable within each subplot\n",
    "sns.boxplot(ax=axes[0, 0], data=df, x='Gender', y='MathScore')\n",
    "sns.boxplot(ax=axes[0, 1], data=df, x='Gender', y='ReadingScore')\n",
    "sns.boxplot(ax=axes[1, 0], data=df, x='Gender', y='WritingScore')\n",
    "\n",
    "# add titles to each subplot\n",
    "axes[0, 0].set_title('Math Scores by Gender')\n",
    "axes[0, 1].set_title('Reading Scores by Gender')\n",
    "axes[1, 0].set_title('Writing Scores by Gender')\n",
    "\n",
    "# adjust subplot spacing\n",
    "plt.tight_layout()\n",
    "\n",
    "# show the plot\n",
    "plt.show()"
   ]
  },
  {
   "cell_type": "markdown",
   "id": "9aae1e24",
   "metadata": {},
   "source": [
    "### Parent Educ. / Test Score Viz"
   ]
  },
  {
   "cell_type": "code",
   "execution_count": null,
   "id": "a5cb196a",
   "metadata": {},
   "outputs": [],
   "source": [
    "# create a 2x2 subplot grid\n",
    "fig, axes = plt.subplots(nrows=2, ncols=2, figsize=(10, 10))\n",
    "\n",
    "# create boxplots for each variable within each subplot\n",
    "sns.boxplot(ax=axes[0, 0], data=df, x='ParentEduc', y='MathScore')\n",
    "sns.boxplot(ax=axes[0, 1], data=df, x='ParentEduc', y='ReadingScore')\n",
    "sns.boxplot(ax=axes[1, 0], data=df, x='ParentEduc', y='WritingScore')\n",
    "\n",
    "\n",
    "# customize x-axis tick labels for each subplot\n",
    "axes[0, 0].set_xticklabels(axes[0, 0].get_xticklabels(), rotation=90)\n",
    "axes[0, 1].set_xticklabels(axes[0, 1].get_xticklabels(), rotation=90)\n",
    "axes[1, 0].set_xticklabels(axes[1, 0].get_xticklabels(), rotation=90)\n",
    "\n",
    "# add titles to each subplot\n",
    "axes[0, 0].set_title('Math Scores by Parent Education Level')\n",
    "axes[0, 1].set_title('Reading Scores by Parent Education Level')\n",
    "axes[1, 0].set_title('Writing Scores by Parent Education Level')\n",
    "\n",
    "\n",
    "# adjust subplot spacing\n",
    "plt.tight_layout()\n",
    "\n",
    "# show the plot\n",
    "plt.show()"
   ]
  },
  {
   "cell_type": "markdown",
   "id": "48c25e17",
   "metadata": {},
   "source": [
    "### Ethnic Group / Test Score Viz"
   ]
  },
  {
   "cell_type": "code",
   "execution_count": null,
   "id": "3053e2b7",
   "metadata": {},
   "outputs": [],
   "source": [
    "fig, axes = plt.subplots(nrows= 2, ncols = 2, figsize = (10,10))\n",
    "\n",
    "sns.boxplot(ax = axes[0,0], data = df, x = \"EthnicGroup\", y = \"WritingScore\")\n",
    "sns.boxplot(ax = axes[0,1], data = df, x = \"EthnicGroup\", y = \"ReadingScore\")\n",
    "sns.boxplot(ax=axes[1,0], data = df, x = \"EthnicGroup\", y = \"MathScore\")\n",
    "\n",
    "axes[0,0].set_title(\"Writing Scores by Ethnic Group\")\n",
    "axes[0,1].set_title(\"Reading Scores by Ethnic Group\")\n",
    "axes[1,0].set_title(\"Math Scores by Ethnic Group\")\n",
    "\n",
    "plt.show()"
   ]
  },
  {
   "cell_type": "markdown",
   "id": "5125602b",
   "metadata": {},
   "source": [
    "### Lunch Type / Test Score Viz"
   ]
  },
  {
   "cell_type": "code",
   "execution_count": null,
   "id": "19e13988",
   "metadata": {},
   "outputs": [],
   "source": [
    "# create 2x2 subplot \n",
    "fig, axes = plt.subplots(nrows = 2, ncols = 2, figsize = (10,10))\n",
    "\n",
    "# create boxplot for each var within each plot\n",
    "sns.boxplot(ax = axes[0,0], data = df, x = \"LunchType\", y = \"WritingScore\")\n",
    "sns.boxplot(ax = axes[0,1], data = df, x = \"LunchType\", y = \"ReadingScore\")\n",
    "sns.boxplot(ax = axes[1,0], data = df, x= \"LunchType\", y = \"MathScore\")\n",
    "\n",
    "# add titles\n",
    "axes[0,0].set_title(\"Writing Scores by Lunch Type\")\n",
    "axes[0,1].set_title(\"Reading Scores by Lunch Type\")\n",
    "axes[1,0].set_title(\"Math Scores by Lunch Type\")\n",
    "\n",
    "plt.tight_layout()\n",
    "\n",
    "plt.show()"
   ]
  },
  {
   "cell_type": "markdown",
   "id": "0a8af61f",
   "metadata": {},
   "source": [
    "### Test Prep / Test Score Viz"
   ]
  },
  {
   "cell_type": "code",
   "execution_count": null,
   "id": "bcd2c40b",
   "metadata": {},
   "outputs": [],
   "source": [
    "fig, axes = plt.subplots(nrows = 2, ncols = 2, figsize = (10,10))\n",
    "\n",
    "sns.boxplot(ax=axes[0,0], data = df, x = \"TestPrep\", y = \"MathScore\")\n",
    "sns.boxplot(ax = axes[0,1], data = df, x = \"TestPrep\", y = \"ReadingScore\")\n",
    "sns.boxplot(ax=axes[1,0], data = df, x = \"TestPrep\", y = \"WritingScore\")\n",
    "\n",
    "axes[0,0].set_title(\"Math Scores by TestPrep\")\n",
    "axes[0,1].set_title(\"Reading Scores by TestPrep\")\n",
    "axes[1,0].set_title(\"Writing Scores by TestPrep\")\n",
    "\n",
    "plt.tight_layout()\n",
    "\n",
    "plt.show()"
   ]
  },
  {
   "cell_type": "code",
   "execution_count": null,
   "id": "af22d24a",
   "metadata": {},
   "outputs": [],
   "source": [
    "sns.pairplot(df[[\"WritingScore\", \"ReadingScore\",\"MathScore\", \"Gender\"]], hue= \"Gender\")\n",
    "plt.show()"
   ]
  },
  {
   "cell_type": "markdown",
   "id": "6427bd00",
   "metadata": {},
   "source": [
    "### <span style = \"color:blue\"> E) Explore relationships between attributes: look at the attributes via scatterplot, correlation, cross-tabulation, group-wise averages, etc. as appropriate.</span>\n",
    "\n",
    "*explain any interesting relationships*"
   ]
  },
  {
   "cell_type": "code",
   "execution_count": null,
   "id": "f4d75ec2",
   "metadata": {},
   "outputs": [],
   "source": [
    "df.groupby(\"EthnicGroup\")[\"MathScore\"].mean()"
   ]
  },
  {
   "cell_type": "code",
   "execution_count": null,
   "id": "66ffae6b",
   "metadata": {},
   "outputs": [],
   "source": [
    "df.groupby(\"EthnicGroup\")[\"ReadingScore\"].mean()"
   ]
  },
  {
   "cell_type": "code",
   "execution_count": null,
   "id": "056b8642",
   "metadata": {},
   "outputs": [],
   "source": [
    "df.groupby(\"EthnicGroup\")[\"WritingScore\"].mean()"
   ]
  },
  {
   "cell_type": "code",
   "execution_count": null,
   "id": "7e7632b1",
   "metadata": {},
   "outputs": [],
   "source": [
    "# Reorder EthnicGroup col\n",
    "df['EthnicGroup'] = df['EthnicGroup'].astype('category')\n",
    "df[\"EthnicGroup\"].cat.reorder_categories([\"group A\",\"group B\", \"group C\", \"group D\", \"group E\"])\n",
    "\n",
    "# Visualize Boxplot\n",
    "plt.figure(figsize= (8,5), dpi = 150)\n",
    "sns.boxplot(data = df , x = \"EthnicGroup\", y = \"MathScore\")\n",
    "plt.show()"
   ]
  },
  {
   "cell_type": "code",
   "execution_count": null,
   "id": "61f7634a",
   "metadata": {},
   "outputs": [],
   "source": [
    "plt.figure(figsize= (8,5), dpi = 150)\n",
    "sns.boxplot(data = df , x = \"ParentMaritalStatus\", y = \"MathScore\")\n",
    "plt.show()"
   ]
  },
  {
   "cell_type": "markdown",
   "id": "17db3142",
   "metadata": {},
   "source": [
    "### <span style = \"color:blue\">F) Are there other features that could be added to the data or created from existing features? which ones?</span> "
   ]
  },
  {
   "cell_type": "markdown",
   "id": "c91ffa98",
   "metadata": {},
   "source": [
    "Features that could be added to the data:\n",
    "1) School (or geographic location/district)\n",
    "2) Teacher (or class) \n",
    "3) Extracurricular Activities (other than sport specifically)\n",
    "4) Parent Household Income\n",
    "5) Work with Tutor\n",
    "6) Teacher offers tutoring\n",
    "7) Age\n",
    "8) participant in \"student government\" \n",
    "9) parent participation in PTA\n",
    "10) class or school average GPA\n",
    "11) student GPA\n",
    "\n",
    "Features that can be created from existing features:\n",
    "1) Column \"Has Siblings\" can be created with \"only child\" or \"sibling\" as attributes if a student has no siblings/has siblings as reported by nrsiblings\n",
    "\n",
    "2) Pass/Fail for Math/Reading/Writing can be created by creating levels of score data (>=70 : pass, <70 : Fail) \n",
    "*this is not very helpful*"
   ]
  },
  {
   "cell_type": "code",
   "execution_count": null,
   "id": "f3fbee50",
   "metadata": {},
   "outputs": [],
   "source": [
    "# create a function for the mentioned feature above\n",
    "def pass_fail(score):\n",
    "    if score >= 70:\n",
    "        return \"Pass\"\n",
    "    else:\n",
    "        return \"Fail\""
   ]
  },
  {
   "cell_type": "code",
   "execution_count": null,
   "id": "0e594813",
   "metadata": {},
   "outputs": [],
   "source": [
    "new_df[\"MathResult\"] = new_df[\"MathScore\"].apply(pass_fail)\n"
   ]
  },
  {
   "cell_type": "code",
   "execution_count": null,
   "id": "7cb9adb1",
   "metadata": {},
   "outputs": [],
   "source": [
    "new_df[\"ReadingResult\"] = new_df[\"ReadingScore\"].apply(pass_fail)\n"
   ]
  },
  {
   "cell_type": "code",
   "execution_count": null,
   "id": "f48b3e7d",
   "metadata": {},
   "outputs": [],
   "source": [
    "new_df[\"WritingResult\"] = new_df[\"WritingScore\"].apply(pass_fail)\n"
   ]
  },
  {
   "cell_type": "code",
   "execution_count": null,
   "id": "1d1d026a",
   "metadata": {},
   "outputs": [],
   "source": [
    "# new dfs with/without object type\n",
    "df_obj = new_df.select_dtypes(include = \"object\")\n",
    "df_num = new_df.select_dtypes(exclude = \"object\")"
   ]
  },
  {
   "cell_type": "code",
   "execution_count": null,
   "id": "02e2dfa4",
   "metadata": {},
   "outputs": [],
   "source": [
    "# view levels of columns\n",
    "for col in df_obj.columns:\n",
    "    unique_values = df_obj[col].unique()\n",
    "    print(f\"Unique values in column '{col}':{unique_values}\")\n",
    "    "
   ]
  },
  {
   "cell_type": "code",
   "execution_count": null,
   "id": "02414782",
   "metadata": {},
   "outputs": [],
   "source": [
    "    # creating dummy var for the object type df. \n",
    "# dropping first = True for multicollinearity dummy trap\n",
    "df_obj = pd.get_dummies(df_obj, drop_first = True)\n"
   ]
  },
  {
   "cell_type": "code",
   "execution_count": null,
   "id": "8238b59d",
   "metadata": {},
   "outputs": [],
   "source": [
    "# combining into one df\n",
    "new_df = pd.concat([df_num, df_obj], axis = 1)"
   ]
  },
  {
   "cell_type": "code",
   "execution_count": null,
   "id": "0ea6e6f7",
   "metadata": {},
   "outputs": [],
   "source": [
    "plt.figure(figsize=(12,10))\n",
    "sns.heatmap(new_df.corr(),cmap = \"magma\", linecolor='white', linewidths=.5)\n",
    "plt.show()"
   ]
  },
  {
   "cell_type": "code",
   "execution_count": null,
   "id": "68c95bf4",
   "metadata": {},
   "outputs": [],
   "source": [
    "def has_siblings(nrsiblings):\n",
    "    if nrsiblings == 0:\n",
    "        return \"only child\"\n",
    "    else:\n",
    "        return \"siblings\""
   ]
  },
  {
   "cell_type": "code",
   "execution_count": null,
   "id": "815834a5",
   "metadata": {},
   "outputs": [],
   "source": [
    "new_df[\"HasSiblings\"] = df[\"NrSiblings\"].apply(has_siblings)"
   ]
  },
  {
   "cell_type": "code",
   "execution_count": null,
   "id": "fd02d252",
   "metadata": {},
   "outputs": [],
   "source": [
    "# new dfs with/without object type\n",
    "df_obj = new_df.select_dtypes(include = \"object\")\n",
    "df_num = new_df.select_dtypes(exclude = \"object\")"
   ]
  },
  {
   "cell_type": "code",
   "execution_count": null,
   "id": "bc4f2f6b",
   "metadata": {},
   "outputs": [],
   "source": [
    "# view levels of columns\n",
    "for col in df_obj.columns:\n",
    "    unique_values = df_obj[col].unique()\n",
    "    print(f\"Unique values in column '{col}':{unique_values}\")\n",
    "    "
   ]
  },
  {
   "cell_type": "code",
   "execution_count": null,
   "id": "2a3458fa",
   "metadata": {},
   "outputs": [],
   "source": [
    "    # creating dummy var for the object type df. \n",
    "# dropping first = True for multicollinearity dummy trap\n",
    "df_obj = pd.get_dummies(df_obj, drop_first = True)\n"
   ]
  },
  {
   "cell_type": "code",
   "execution_count": null,
   "id": "54fa1516",
   "metadata": {},
   "outputs": [],
   "source": [
    "# combining into one df\n",
    "new_df = pd.concat([df_num, df_obj], axis = 1)"
   ]
  },
  {
   "cell_type": "code",
   "execution_count": null,
   "id": "7a3f3907",
   "metadata": {},
   "outputs": [],
   "source": [
    "plt.figure(figsize=(12,10))\n",
    "sns.heatmap(new_df.corr(),cmap = \"magma\", linecolor='white', linewidths=.5)\n",
    "plt.show()"
   ]
  },
  {
   "cell_type": "markdown",
   "id": "ffa4a2fa",
   "metadata": {},
   "source": [
    "<hr>\n",
    "\n",
    "## <center>BONUS</center>\n",
    "\n",
    "<hr>"
   ]
  },
  {
   "cell_type": "markdown",
   "id": "abd79b4d",
   "metadata": {},
   "source": [
    "### <span style = \"color:blue\">Provide Additional Analyses.</span> \n",
    "*one idea: implement dimensinoality reduction, then visualize and interpret the results.*\n",
    "#### <span style = \"color:red\">*note, I tried running PCA... but it didn't look like anything beneficial. This is likely becaue the data we are working with is mostly categorical variables and even though the variables have been encoded (one-hot) PCA was not meant to work with this type of data. MCA would be a more effective alternative, but we must understand that we lose the interpretation that we would have had with PCA variables. </span>"
   ]
  },
  {
   "cell_type": "markdown",
   "id": "5dd5da77",
   "metadata": {},
   "source": [
    "### MCA (Multiple Correspondence Analysis)"
   ]
  },
  {
   "cell_type": "code",
   "execution_count": null,
   "id": "bb29184b",
   "metadata": {},
   "outputs": [],
   "source": [
    "import prince"
   ]
  },
  {
   "cell_type": "code",
   "execution_count": null,
   "id": "88fa496f",
   "metadata": {},
   "outputs": [],
   "source": [
    "# remove numerical data and response variables\n",
    "df_mca = df.drop([\"NrSiblings\", \"MathScore\",\"ReadingScore\",\"WritingScore\"], axis = 1)"
   ]
  },
  {
   "cell_type": "code",
   "execution_count": null,
   "id": "3e93d0c7",
   "metadata": {},
   "outputs": [],
   "source": [
    "# fitting \n",
    "mca = prince.MCA(n_components = 2, random_state= 42)"
   ]
  },
  {
   "cell_type": "code",
   "execution_count": null,
   "id": "40baf6be",
   "metadata": {},
   "outputs": [],
   "source": [
    "# Eigenvalues\n",
    "mca = mca.fit(df_mca)"
   ]
  },
  {
   "cell_type": "code",
   "execution_count": null,
   "id": "82092e5c",
   "metadata": {},
   "outputs": [],
   "source": [
    "mca.eigenvalues_summary"
   ]
  },
  {
   "cell_type": "code",
   "execution_count": null,
   "id": "595ea4ad",
   "metadata": {},
   "outputs": [],
   "source": [
    "# Coordinates\n",
    "mca.row_coordinates(df_mca).head()"
   ]
  },
  {
   "cell_type": "code",
   "execution_count": null,
   "id": "d34ad791",
   "metadata": {},
   "outputs": [],
   "source": [
    "# Coordinates\n",
    "mca.column_coordinates(df_mca).head()"
   ]
  },
  {
   "cell_type": "code",
   "execution_count": null,
   "id": "b78919a0",
   "metadata": {},
   "outputs": [],
   "source": [
    "mca.plot(\n",
    "    df_mca,\n",
    "    x_component=0,\n",
    "    y_component=1\n",
    ")"
   ]
  },
  {
   "cell_type": "code",
   "execution_count": null,
   "id": "f9ab0b07",
   "metadata": {
    "scrolled": true
   },
   "outputs": [],
   "source": [
    "plt.scatter(coordinates.iloc[:, 0], coordinates.iloc[:, 1], label='Row Points', s=30)\n",
    "plt.show()"
   ]
  },
  {
   "cell_type": "code",
   "execution_count": null,
   "id": "09b965fe",
   "metadata": {},
   "outputs": [],
   "source": []
  },
  {
   "cell_type": "code",
   "execution_count": null,
   "id": "28a49094",
   "metadata": {},
   "outputs": [],
   "source": []
  },
  {
   "cell_type": "code",
   "execution_count": null,
   "id": "b8bc3582",
   "metadata": {},
   "outputs": [],
   "source": []
  }
 ],
 "metadata": {
  "kernelspec": {
   "display_name": "Python 3 (ipykernel)",
   "language": "python",
   "name": "python3"
  },
  "language_info": {
   "codemirror_mode": {
    "name": "ipython",
    "version": 3
   },
   "file_extension": ".py",
   "mimetype": "text/x-python",
   "name": "python",
   "nbconvert_exporter": "python",
   "pygments_lexer": "ipython3",
   "version": "3.9.12"
  }
 },
 "nbformat": 4,
 "nbformat_minor": 5
}
