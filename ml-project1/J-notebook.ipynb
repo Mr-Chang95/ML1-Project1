{
 "cells": [
  {
   "cell_type": "markdown",
   "id": "da5186bc",
   "metadata": {},
   "source": [
    "# Load in packages"
   ]
  },
  {
   "cell_type": "code",
   "execution_count": 1,
   "id": "b18bd9d0",
   "metadata": {},
   "outputs": [],
   "source": [
    "# packages\n",
    "import numpy as np\n",
    "import pandas as pd\n",
    "import matplotlib.pyplot as plt\n",
    "import seaborn as sns"
   ]
  },
  {
   "cell_type": "markdown",
   "id": "f7edb51d",
   "metadata": {},
   "source": [
    "# Read in dataset"
   ]
  },
  {
   "cell_type": "code",
   "execution_count": 2,
   "id": "6b08313b",
   "metadata": {},
   "outputs": [],
   "source": [
    "df = pd.read_csv('Expanded_data_with_more_features.csv') # read in data\n",
    "df = df.drop(\"Unnamed: 0\", axis = 1)"
   ]
  },
  {
   "cell_type": "markdown",
   "id": "1ecf6dc3",
   "metadata": {},
   "source": [
    "<hr>\n",
    "\n",
    "# Objective 1\n",
    "## Business Understanding:\n",
    "<hr>"
   ]
  },
  {
   "cell_type": "markdown",
   "id": "e08b0ce1",
   "metadata": {},
   "source": [
    "### A) Describe the purpose of the data set you selected (why was it collected in the first place?)."
   ]
  },
  {
   "cell_type": "markdown",
   "id": "bae01d68",
   "metadata": {},
   "source": [
    "#### - The data (fictional) is comprised of scores from three tests of students at a public school along with a variety of personal and socio-economic factors which may contain interaction effects. \n",
    "\n",
    "#### - We assume that this data was collected to identitfy potential relationships between personal and socio-economic factors that could help to predict and better understand which factors affect test scores most. With this knowledge educators, parents and students can focus their attention towards variables which can potentially help students earn higher testing scores.  "
   ]
  },
  {
   "cell_type": "markdown",
   "id": "553a6ddd",
   "metadata": {},
   "source": [
    "### B) Describe how you would define and measure the outcomes from the dataset. That is, why is this data important and how do you know if you have mined useful knowledge from the dataset? "
   ]
  },
  {
   "cell_type": "markdown",
   "id": "461e94b5",
   "metadata": {},
   "source": [
    "#### - The importance of student education and testing scores are of the utmost importance. Education is the foundation upon which students will build their future on. If we are able to identify factors that could assist in making a more efficient learning and testing experiece it will impact the future positively for many students.\n",
    "\n",
    "#### - We will know if we have mined useful knowledge from the dataset if we are able to identify patterns and significant relationships that help us in identifying student performance factors.\n"
   ]
  },
  {
   "cell_type": "markdown",
   "id": "7614e9d3",
   "metadata": {},
   "source": [
    "### C) How would you measure the effectiveness of a good prediction algorithm? Be specific. "
   ]
  },
  {
   "cell_type": "markdown",
   "id": "1d863346",
   "metadata": {},
   "source": [
    "#### - A good prediction algorithm will be one that not only allows us to accurately predict test scores for given inputs, but one that will allow us to obtain interpreable results that we can use to better understand to what extent each factor has an effect on testing scores. Understanding which key relationships that lie within our data will help staff, family, and students identify actionable opportunitites in which interventions and support can be provided."
   ]
  },
  {
   "cell_type": "markdown",
   "id": "0150efb5",
   "metadata": {},
   "source": [
    "<hr>\n",
    "\n",
    "# Objective 2\n",
    "\n",
    "## Data Understanding\n",
    "\n",
    "<hr>"
   ]
  },
  {
   "cell_type": "code",
   "execution_count": 3,
   "id": "1f21ad49",
   "metadata": {},
   "outputs": [
    {
     "data": {
      "text/html": [
       "<div>\n",
       "<style scoped>\n",
       "    .dataframe tbody tr th:only-of-type {\n",
       "        vertical-align: middle;\n",
       "    }\n",
       "\n",
       "    .dataframe tbody tr th {\n",
       "        vertical-align: top;\n",
       "    }\n",
       "\n",
       "    .dataframe thead th {\n",
       "        text-align: right;\n",
       "    }\n",
       "</style>\n",
       "<table border=\"1\" class=\"dataframe\">\n",
       "  <thead>\n",
       "    <tr style=\"text-align: right;\">\n",
       "      <th></th>\n",
       "      <th>Gender</th>\n",
       "      <th>EthnicGroup</th>\n",
       "      <th>ParentEduc</th>\n",
       "      <th>LunchType</th>\n",
       "      <th>TestPrep</th>\n",
       "      <th>ParentMaritalStatus</th>\n",
       "      <th>PracticeSport</th>\n",
       "      <th>IsFirstChild</th>\n",
       "      <th>NrSiblings</th>\n",
       "      <th>TransportMeans</th>\n",
       "      <th>WklyStudyHours</th>\n",
       "      <th>MathScore</th>\n",
       "      <th>ReadingScore</th>\n",
       "      <th>WritingScore</th>\n",
       "    </tr>\n",
       "  </thead>\n",
       "  <tbody>\n",
       "    <tr>\n",
       "      <th>0</th>\n",
       "      <td>female</td>\n",
       "      <td>NaN</td>\n",
       "      <td>bachelor's degree</td>\n",
       "      <td>standard</td>\n",
       "      <td>none</td>\n",
       "      <td>married</td>\n",
       "      <td>regularly</td>\n",
       "      <td>yes</td>\n",
       "      <td>3.0</td>\n",
       "      <td>school_bus</td>\n",
       "      <td>&lt; 5</td>\n",
       "      <td>71</td>\n",
       "      <td>71</td>\n",
       "      <td>74</td>\n",
       "    </tr>\n",
       "    <tr>\n",
       "      <th>1</th>\n",
       "      <td>female</td>\n",
       "      <td>group C</td>\n",
       "      <td>some college</td>\n",
       "      <td>standard</td>\n",
       "      <td>NaN</td>\n",
       "      <td>married</td>\n",
       "      <td>sometimes</td>\n",
       "      <td>yes</td>\n",
       "      <td>0.0</td>\n",
       "      <td>NaN</td>\n",
       "      <td>5 - 10</td>\n",
       "      <td>69</td>\n",
       "      <td>90</td>\n",
       "      <td>88</td>\n",
       "    </tr>\n",
       "    <tr>\n",
       "      <th>2</th>\n",
       "      <td>female</td>\n",
       "      <td>group B</td>\n",
       "      <td>master's degree</td>\n",
       "      <td>standard</td>\n",
       "      <td>none</td>\n",
       "      <td>single</td>\n",
       "      <td>sometimes</td>\n",
       "      <td>yes</td>\n",
       "      <td>4.0</td>\n",
       "      <td>school_bus</td>\n",
       "      <td>&lt; 5</td>\n",
       "      <td>87</td>\n",
       "      <td>93</td>\n",
       "      <td>91</td>\n",
       "    </tr>\n",
       "    <tr>\n",
       "      <th>3</th>\n",
       "      <td>male</td>\n",
       "      <td>group A</td>\n",
       "      <td>associate's degree</td>\n",
       "      <td>free/reduced</td>\n",
       "      <td>none</td>\n",
       "      <td>married</td>\n",
       "      <td>never</td>\n",
       "      <td>no</td>\n",
       "      <td>1.0</td>\n",
       "      <td>NaN</td>\n",
       "      <td>5 - 10</td>\n",
       "      <td>45</td>\n",
       "      <td>56</td>\n",
       "      <td>42</td>\n",
       "    </tr>\n",
       "    <tr>\n",
       "      <th>4</th>\n",
       "      <td>male</td>\n",
       "      <td>group C</td>\n",
       "      <td>some college</td>\n",
       "      <td>standard</td>\n",
       "      <td>none</td>\n",
       "      <td>married</td>\n",
       "      <td>sometimes</td>\n",
       "      <td>yes</td>\n",
       "      <td>0.0</td>\n",
       "      <td>school_bus</td>\n",
       "      <td>5 - 10</td>\n",
       "      <td>76</td>\n",
       "      <td>78</td>\n",
       "      <td>75</td>\n",
       "    </tr>\n",
       "  </tbody>\n",
       "</table>\n",
       "</div>"
      ],
      "text/plain": [
       "   Gender EthnicGroup          ParentEduc     LunchType TestPrep  \\\n",
       "0  female         NaN   bachelor's degree      standard     none   \n",
       "1  female     group C        some college      standard      NaN   \n",
       "2  female     group B     master's degree      standard     none   \n",
       "3    male     group A  associate's degree  free/reduced     none   \n",
       "4    male     group C        some college      standard     none   \n",
       "\n",
       "  ParentMaritalStatus PracticeSport IsFirstChild  NrSiblings TransportMeans  \\\n",
       "0             married     regularly          yes         3.0     school_bus   \n",
       "1             married     sometimes          yes         0.0            NaN   \n",
       "2              single     sometimes          yes         4.0     school_bus   \n",
       "3             married         never           no         1.0            NaN   \n",
       "4             married     sometimes          yes         0.0     school_bus   \n",
       "\n",
       "  WklyStudyHours  MathScore  ReadingScore  WritingScore  \n",
       "0            < 5         71            71            74  \n",
       "1         5 - 10         69            90            88  \n",
       "2            < 5         87            93            91  \n",
       "3         5 - 10         45            56            42  \n",
       "4         5 - 10         76            78            75  "
      ]
     },
     "execution_count": 3,
     "metadata": {},
     "output_type": "execute_result"
    }
   ],
   "source": [
    "df.head()"
   ]
  },
  {
   "cell_type": "markdown",
   "id": "8ce9583f",
   "metadata": {},
   "source": [
    "Notes on data from Head function."
   ]
  },
  {
   "cell_type": "code",
   "execution_count": 4,
   "id": "10a44490",
   "metadata": {},
   "outputs": [
    {
     "name": "stdout",
     "output_type": "stream",
     "text": [
      "<class 'pandas.core.frame.DataFrame'>\n",
      "RangeIndex: 30641 entries, 0 to 30640\n",
      "Data columns (total 14 columns):\n",
      " #   Column               Non-Null Count  Dtype  \n",
      "---  ------               --------------  -----  \n",
      " 0   Gender               30641 non-null  object \n",
      " 1   EthnicGroup          28801 non-null  object \n",
      " 2   ParentEduc           28796 non-null  object \n",
      " 3   LunchType            30641 non-null  object \n",
      " 4   TestPrep             28811 non-null  object \n",
      " 5   ParentMaritalStatus  29451 non-null  object \n",
      " 6   PracticeSport        30010 non-null  object \n",
      " 7   IsFirstChild         29737 non-null  object \n",
      " 8   NrSiblings           29069 non-null  float64\n",
      " 9   TransportMeans       27507 non-null  object \n",
      " 10  WklyStudyHours       29686 non-null  object \n",
      " 11  MathScore            30641 non-null  int64  \n",
      " 12  ReadingScore         30641 non-null  int64  \n",
      " 13  WritingScore         30641 non-null  int64  \n",
      "dtypes: float64(1), int64(3), object(10)\n",
      "memory usage: 3.3+ MB\n"
     ]
    }
   ],
   "source": [
    "df.info()"
   ]
  },
  {
   "cell_type": "code",
   "execution_count": 5,
   "id": "16ea9e22",
   "metadata": {},
   "outputs": [
    {
     "data": {
      "text/html": [
       "<div>\n",
       "<style scoped>\n",
       "    .dataframe tbody tr th:only-of-type {\n",
       "        vertical-align: middle;\n",
       "    }\n",
       "\n",
       "    .dataframe tbody tr th {\n",
       "        vertical-align: top;\n",
       "    }\n",
       "\n",
       "    .dataframe thead th {\n",
       "        text-align: right;\n",
       "    }\n",
       "</style>\n",
       "<table border=\"1\" class=\"dataframe\">\n",
       "  <thead>\n",
       "    <tr style=\"text-align: right;\">\n",
       "      <th></th>\n",
       "      <th>NrSiblings</th>\n",
       "      <th>MathScore</th>\n",
       "      <th>ReadingScore</th>\n",
       "      <th>WritingScore</th>\n",
       "    </tr>\n",
       "  </thead>\n",
       "  <tbody>\n",
       "    <tr>\n",
       "      <th>count</th>\n",
       "      <td>29069.000000</td>\n",
       "      <td>30641.000000</td>\n",
       "      <td>30641.000000</td>\n",
       "      <td>30641.000000</td>\n",
       "    </tr>\n",
       "    <tr>\n",
       "      <th>mean</th>\n",
       "      <td>2.145894</td>\n",
       "      <td>66.558402</td>\n",
       "      <td>69.377533</td>\n",
       "      <td>68.418622</td>\n",
       "    </tr>\n",
       "    <tr>\n",
       "      <th>std</th>\n",
       "      <td>1.458242</td>\n",
       "      <td>15.361616</td>\n",
       "      <td>14.758952</td>\n",
       "      <td>15.443525</td>\n",
       "    </tr>\n",
       "    <tr>\n",
       "      <th>min</th>\n",
       "      <td>0.000000</td>\n",
       "      <td>0.000000</td>\n",
       "      <td>10.000000</td>\n",
       "      <td>4.000000</td>\n",
       "    </tr>\n",
       "    <tr>\n",
       "      <th>25%</th>\n",
       "      <td>1.000000</td>\n",
       "      <td>56.000000</td>\n",
       "      <td>59.000000</td>\n",
       "      <td>58.000000</td>\n",
       "    </tr>\n",
       "    <tr>\n",
       "      <th>50%</th>\n",
       "      <td>2.000000</td>\n",
       "      <td>67.000000</td>\n",
       "      <td>70.000000</td>\n",
       "      <td>69.000000</td>\n",
       "    </tr>\n",
       "    <tr>\n",
       "      <th>75%</th>\n",
       "      <td>3.000000</td>\n",
       "      <td>78.000000</td>\n",
       "      <td>80.000000</td>\n",
       "      <td>79.000000</td>\n",
       "    </tr>\n",
       "    <tr>\n",
       "      <th>max</th>\n",
       "      <td>7.000000</td>\n",
       "      <td>100.000000</td>\n",
       "      <td>100.000000</td>\n",
       "      <td>100.000000</td>\n",
       "    </tr>\n",
       "  </tbody>\n",
       "</table>\n",
       "</div>"
      ],
      "text/plain": [
       "         NrSiblings     MathScore  ReadingScore  WritingScore\n",
       "count  29069.000000  30641.000000  30641.000000  30641.000000\n",
       "mean       2.145894     66.558402     69.377533     68.418622\n",
       "std        1.458242     15.361616     14.758952     15.443525\n",
       "min        0.000000      0.000000     10.000000      4.000000\n",
       "25%        1.000000     56.000000     59.000000     58.000000\n",
       "50%        2.000000     67.000000     70.000000     69.000000\n",
       "75%        3.000000     78.000000     80.000000     79.000000\n",
       "max        7.000000    100.000000    100.000000    100.000000"
      ]
     },
     "execution_count": 5,
     "metadata": {},
     "output_type": "execute_result"
    }
   ],
   "source": [
    "df.describe()"
   ]
  },
  {
   "cell_type": "code",
   "execution_count": 6,
   "id": "1c07b343",
   "metadata": {},
   "outputs": [
    {
     "data": {
      "text/plain": [
       "14"
      ]
     },
     "execution_count": 6,
     "metadata": {},
     "output_type": "execute_result"
    }
   ],
   "source": [
    "len(df.columns)"
   ]
  },
  {
   "cell_type": "code",
   "execution_count": null,
   "id": "dea7c18b",
   "metadata": {},
   "outputs": [],
   "source": []
  },
  {
   "cell_type": "markdown",
   "id": "72f4f09a",
   "metadata": {},
   "source": [
    "### A) Describe the meaning and type of data (Scale, Values, etc.) for each attribute in the data file."
   ]
  },
  {
   "cell_type": "markdown",
   "id": "8f7771b0",
   "metadata": {},
   "source": [
    "### Meaning: \n",
    "\n",
    "    1) Gender: Gender of the student (male/female)\n",
    "    2) EthnicGroup: Ethnic group of the student (group A to E)\n",
    "    3) ParentEduc: Parent(s) education background (from some_highschool to master's degree)\n",
    "    4) LunchType: School lunch type (standard or free/reduced)\n",
    "    5) TestPrep: Test preparation course followed (completed or none)\n",
    "    6) ParentMaritalStatus: Parent(s) marital status (married/single/widowed/divorced)\n",
    "    7) PracticeSport: How often the student parctice sport (never/sometimes/regularly))\n",
    "    8) IsFirstChild: If the child is first child in the family or not (yes/no)\n",
    "    9) NrSiblings: Number of siblings the student has (0 to 7)\n",
    "    10) TransportMeans: Means of transport to school (schoolbus/private)\n",
    "    11) WklyStudyHours: Weekly self-study hours(less that 5hrs; between 5 and 10hrs; more than 10hrs)\n",
    "    12) MathScore: math test score(0-100)\n",
    "    13) ReadingScore: reading test score(0-100)\n",
    "    14) WritingScore: writing test score(0-100)\n"
   ]
  },
  {
   "cell_type": "markdown",
   "id": "c69505fa",
   "metadata": {},
   "source": [
    "###  Un-changed (raw) data type:\n",
    "    1) Gender: object\n",
    "    2) EthnicGroup: object\n",
    "    3) ParentEduc: object\n",
    "    4) LunchType: object\n",
    "    5) TestPrep: object\n",
    "    6) ParentMaritalStatus: object\n",
    "    7) PracticeSport: object\n",
    "    8) IsFirstChild: object\n",
    "    9) NrSiblings: float64\n",
    "    10) TransportMeans: object\n",
    "    11) WklyStudyHours: object\n",
    "    12) MathScore: int64\n",
    "    13) ReadingScore: int64\n",
    "    14) WritingScore:int64\n",
    "    \n",
    "    object = column containing a python object such as strings, lists, or dictionaries.\n",
    "    int64 = column containing integer values\n",
    "    float64 = column containing floating-point values (decimal numbers)"
   ]
  },
  {
   "cell_type": "code",
   "execution_count": null,
   "id": "13f6edbe",
   "metadata": {},
   "outputs": [],
   "source": []
  },
  {
   "cell_type": "markdown",
   "id": "64af6cbb",
   "metadata": {},
   "source": [
    "### B) Verify the data quality: Explain any missing values, duplicate data, and outliers. Are those mistakes? How do you deal with these problems? Be. Specific."
   ]
  },
  {
   "cell_type": "markdown",
   "id": "38cef919",
   "metadata": {},
   "source": [
    "#### - Missing Values:\n"
   ]
  },
  {
   "cell_type": "code",
   "execution_count": 7,
   "id": "41e95cac",
   "metadata": {},
   "outputs": [
    {
     "data": {
      "text/plain": [
       "Gender                    0\n",
       "EthnicGroup            1840\n",
       "ParentEduc             1845\n",
       "LunchType                 0\n",
       "TestPrep               1830\n",
       "ParentMaritalStatus    1190\n",
       "PracticeSport           631\n",
       "IsFirstChild            904\n",
       "NrSiblings             1572\n",
       "TransportMeans         3134\n",
       "WklyStudyHours          955\n",
       "MathScore                 0\n",
       "ReadingScore              0\n",
       "WritingScore              0\n",
       "dtype: int64"
      ]
     },
     "execution_count": 7,
     "metadata": {},
     "output_type": "execute_result"
    }
   ],
   "source": [
    "# missing data\n",
    "df.isnull().sum()"
   ]
  },
  {
   "cell_type": "code",
   "execution_count": 8,
   "id": "b88b3dd5",
   "metadata": {},
   "outputs": [
    {
     "data": {
      "text/plain": [
       "Gender                  0.000000\n",
       "EthnicGroup             6.005026\n",
       "ParentEduc              6.021344\n",
       "LunchType               0.000000\n",
       "TestPrep                5.972390\n",
       "ParentMaritalStatus     3.883685\n",
       "PracticeSport           2.059332\n",
       "IsFirstChild            2.950295\n",
       "NrSiblings              5.130381\n",
       "TransportMeans         10.228126\n",
       "WklyStudyHours          3.116739\n",
       "MathScore               0.000000\n",
       "ReadingScore            0.000000\n",
       "WritingScore            0.000000\n",
       "dtype: float64"
      ]
     },
     "execution_count": 8,
     "metadata": {},
     "output_type": "execute_result"
    }
   ],
   "source": [
    "# percentage of missing data\n",
    "100 * df.isnull().sum() / len(df)"
   ]
  },
  {
   "cell_type": "code",
   "execution_count": 9,
   "id": "3c53aa0e",
   "metadata": {},
   "outputs": [],
   "source": [
    "def percent_missing(df):\n",
    "    percent_nan = 100* df.isnull().sum()/len(df)\n",
    "    percent_nan = percent_nan[percent_nan > 0].sort_values()\n",
    "    return percent_nan"
   ]
  },
  {
   "cell_type": "code",
   "execution_count": 10,
   "id": "358b52c9",
   "metadata": {},
   "outputs": [],
   "source": [
    "percent_nan = percent_missing(df)"
   ]
  },
  {
   "cell_type": "code",
   "execution_count": 11,
   "id": "b56b31da",
   "metadata": {},
   "outputs": [
    {
     "data": {
      "image/png": "[encoded data removed]",
      "text/plain": [
       "<Figure size 1200x750 with 1 Axes>"
      ]
     },
     "metadata": {},
     "output_type": "display_data"
    }
   ],
   "source": [
    "# plot of missing data (percentage) \n",
    "plt.figure(figsize= (8,5), dpi = 150)\n",
    "sns.barplot(x=percent_nan.index, y = percent_nan)\n",
    "plt.xticks(rotation = 45);"
   ]
  },
  {
   "cell_type": "markdown",
   "id": "0a5eacf8",
   "metadata": {},
   "source": [
    "#### - Duplicate Data"
   ]
  },
  {
   "cell_type": "markdown",
   "id": "a108f509",
   "metadata": {},
   "source": [
    "We do not appear to have duplicated rows or columns in the data. While there may be certain values (such as scores) which are \"duplicated\" this is to be expected."
   ]
  },
  {
   "cell_type": "code",
   "execution_count": 12,
   "id": "c14046f5",
   "metadata": {},
   "outputs": [
    {
     "name": "stdout",
     "output_type": "stream",
     "text": [
      "Total Duplicated Rows 0\n",
      "Total Duplicated Columns 0\n"
     ]
    }
   ],
   "source": [
    "duplicate_sum = df.duplicated().sum()\n",
    "print(\"Total Duplicated Rows\", duplicate_sum)\n",
    "\n",
    "duplicate_sum_column = df.duplicated(). sum(axis =0)\n",
    "print(\"Total Duplicated Columns\", duplicate_sum_column)"
   ]
  },
  {
   "cell_type": "code",
   "execution_count": null,
   "id": "ce990cf1",
   "metadata": {},
   "outputs": [],
   "source": []
  },
  {
   "cell_type": "markdown",
   "id": "31ea381f",
   "metadata": {},
   "source": [
    "#### - Outliers"
   ]
  },
  {
   "cell_type": "code",
   "execution_count": null,
   "id": "74310587",
   "metadata": {},
   "outputs": [],
   "source": []
  },
  {
   "cell_type": "code",
   "execution_count": null,
   "id": "9de4fbe6",
   "metadata": {},
   "outputs": [],
   "source": []
  },
  {
   "cell_type": "code",
   "execution_count": null,
   "id": "bae6378b",
   "metadata": {},
   "outputs": [],
   "source": []
  },
  {
   "cell_type": "markdown",
   "id": "a0fff625",
   "metadata": {},
   "source": [
    "### C) Give simple, appropriate statistics (range, mode, mean, median, variance, counts, etc.) for the most important attributes and describe what they mean or if you found somthing interesting. \n",
    "\n",
    "#### Explain the significance of the statistics run and why they are meaniningful. "
   ]
  },
  {
   "cell_type": "code",
   "execution_count": null,
   "id": "586cd359",
   "metadata": {},
   "outputs": [],
   "source": []
  },
  {
   "cell_type": "code",
   "execution_count": null,
   "id": "4fc3ac21",
   "metadata": {},
   "outputs": [],
   "source": []
  },
  {
   "cell_type": "markdown",
   "id": "08d49a07",
   "metadata": {},
   "source": [
    "### D) Visualize the most important attributes appropriately (at least 5). \n",
    " \n",
    " *provide an interpretation for each chart*\n",
    "\n",
    "  *explain why each visual is appropriate.* "
   ]
  },
  {
   "cell_type": "code",
   "execution_count": null,
   "id": "2ca926f7",
   "metadata": {},
   "outputs": [],
   "source": []
  },
  {
   "cell_type": "code",
   "execution_count": null,
   "id": "7a134ade",
   "metadata": {},
   "outputs": [],
   "source": []
  },
  {
   "cell_type": "markdown",
   "id": "842b33a6",
   "metadata": {},
   "source": [
    "### E) Explore relationships between attributes: look at the attributes via scatterplot, correlation, cross-tabulation, group-wise averages, etc. as appropriate.\n",
    "\n",
    "*explain any interesting relationships*"
   ]
  },
  {
   "cell_type": "code",
   "execution_count": null,
   "id": "b562fd4f",
   "metadata": {},
   "outputs": [],
   "source": []
  },
  {
   "cell_type": "code",
   "execution_count": null,
   "id": "97209290",
   "metadata": {},
   "outputs": [],
   "source": []
  },
  {
   "cell_type": "markdown",
   "id": "df02ec45",
   "metadata": {},
   "source": [
    "### F) Are there other features that could be added to the data or created from existing features? which ones? "
   ]
  },
  {
   "cell_type": "code",
   "execution_count": null,
   "id": "89307eec",
   "metadata": {},
   "outputs": [],
   "source": []
  },
  {
   "cell_type": "code",
   "execution_count": null,
   "id": "5b0b8191",
   "metadata": {},
   "outputs": [],
   "source": []
  },
  {
   "cell_type": "markdown",
   "id": "2a6f3a2f",
   "metadata": {},
   "source": [
    "## BONUS"
   ]
  },
  {
   "cell_type": "markdown",
   "id": "d49c6f9f",
   "metadata": {},
   "source": [
    "#### Provide additional analyses. \n",
    "*one idea, implement dimensinoality reduction, then visualize and interpret the results.*"
   ]
  },
  {
   "cell_type": "code",
   "execution_count": null,
   "id": "bdb700a1",
   "metadata": {},
   "outputs": [],
   "source": []
  }
 ],
 "metadata": {
  "kernelspec": {
   "display_name": "Python 3 (ipykernel)",
   "language": "python",
   "name": "python3"
  },
  "language_info": {
   "codemirror_mode": {
    "name": "ipython",
    "version": 3
   },
   "file_extension": ".py",
   "mimetype": "text/x-python",
   "name": "python",
   "nbconvert_exporter": "python",
   "pygments_lexer": "ipython3",
   "version": "3.10.9"
  }
 },
 "nbformat": 4,
 "nbformat_minor": 5
}
